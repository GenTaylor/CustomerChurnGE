{
 "cells": [
  {
   "cell_type": "markdown",
   "metadata": {},
   "source": [
    "# General Electric Customer Churn Problem\n",
    "<br>\n",
    "GE has partnered with a cellular carrier–SmartAppCellular–that provides dedicated bandwidth and configuration services for cell phone applications. GE is beginning to experience a small amount of attrition, and based on customer feedback, it is related to the cellular service and not the application. GE Healthcare recognizes that other vendors are beginning to compete in this space and is attempting to identify ways to retain its customers. <br><br>\n",
    "\n",
    "The Customer Account Management team would like to determine if this data can be used to identify subscribers that may churn. It is important to be able to understand churn default drivers for metadata like longevity, cell usage, and other pertinent groupings which come from the analysis.<br>\n",
    "\n",
    "\n",
    "-Genesis Taylor\n"
   ]
  },
  {
   "cell_type": "markdown",
   "metadata": {},
   "source": [
    "### Import Modules"
   ]
  },
  {
   "cell_type": "code",
   "execution_count": 1,
   "metadata": {
    "scrolled": true
   },
   "outputs": [],
   "source": [
    "import pandas as pd\n",
    "import numpy as np\n",
    "import seaborn as sns\n",
    "import time\n",
    "#import timeit\n",
    "from matplotlib import pyplot as plt\n",
    "%matplotlib inline\n",
    "plt.style.use('dark_background')\n",
    "\n",
    "#stats\n",
    "from scipy import stats\n",
    "from scipy.stats import chi2_contingency\n",
    "\n",
    "#sklearn modeling and metrics\n",
    "from sklearn.ensemble import RandomForestClassifier\n",
    "from sklearn.linear_model import LogisticRegression\n",
    "from sklearn.metrics import accuracy_score, f1_score, precision_score, recall_score, log_loss\n",
    "from sklearn.metrics import classification_report\n",
    "from sklearn.metrics import classification_report, confusion_matrix, roc_auc_score\n",
    "from sklearn.model_selection  import train_test_split\n",
    "from sklearn.model_selection import cross_val_score, GridSearchCV, train_test_split, RandomizedSearchCV\n",
    "from sklearn.preprocessing import LabelEncoder\n",
    "from sklearn.preprocessing import StandardScaler\n",
    "from sklearn.utils import resample\n",
    "\n",
    "#warning ignorer\n",
    "import warnings\n",
    "warnings.filterwarnings(\"ignore\")\n",
    "\n",
    "#for imbalance\n",
    "from imblearn.over_sampling import SMOTE\n",
    "from collections import Counter\n"
   ]
  },
  {
   "cell_type": "markdown",
   "metadata": {},
   "source": [
    "### Import and Explore Data Set"
   ]
  },
  {
   "cell_type": "code",
   "execution_count": 2,
   "metadata": {
    "scrolled": true
   },
   "outputs": [],
   "source": [
    "#import data set into datafream\n",
    "df = pd.read_csv(r'DAT690_Churn Data_Training.csv')"
   ]
  },
  {
   "cell_type": "code",
   "execution_count": 3,
   "metadata": {
    "scrolled": true
   },
   "outputs": [
    {
     "name": "stdout",
     "output_type": "stream",
     "text": [
      "Column Names:\n",
      " Index(['REVENUE', 'MOU', 'RECCHRGE', 'DIRECTAS', 'OVERAGE', 'ROAM', 'CHANGEM',\n",
      "       'CHANGER', 'DROPVCE', 'BLCKVCE', 'UNANSVCE', 'CUSTCARE', 'THREEWAY',\n",
      "       'MOUREC', 'OUTCALLS', 'INCALLS', 'PEAKVCE', 'OPEAKVCE', 'DROPBLK',\n",
      "       'CALLFWDV', 'CALLWAIT', 'CHURN', 'MONTHS', 'UNIQSUBS', 'ACTVSUBS',\n",
      "       'CSA', 'PHONES', 'MODELS', 'EQPDAYS', 'CUSTOMER', 'AGE1', 'AGE2',\n",
      "       'CHILDREN', 'CREDITA', 'CREDITAA', 'CREDITB', 'CREDITC', 'CREDITDE',\n",
      "       'CREDITGY', 'CREDITZ', 'CREDIT_RATING', 'PRIZMRUR', 'PRIZMUB',\n",
      "       'PRIZMTWN', 'Column 45', 'REFURB', 'WEBCAP', 'TRUCK', 'RV', 'OCCPROF',\n",
      "       'OCCCLER', 'OCCCRFT', 'OCCSTUD', 'OCCHMKR', 'OCCRET', 'OCCSELF', 'OCC',\n",
      "       'OCC_LABEL', 'OWNRENT', 'MARRYUN', 'MARRYYES', 'MARRYNO', 'MARRY',\n",
      "       'MARRY_LABEL', 'MAILORD', 'MAILRES', 'MAILFLAG', 'TRAVEL', 'PCOWN',\n",
      "       'CREDITCD', 'RETCALLS', 'RETACCPT', 'NEWCELLY', 'NEWCELLN', 'REFER',\n",
      "       'INCMISS', 'INCOME', 'MCYCLE', 'CREDITAD', 'SETPRCM', 'SETPRC',\n",
      "       'RETCALL', 'CALIBRAT', 'CHURNDEP'],\n",
      "      dtype='object')\n",
      "\n",
      "\n",
      "Dataframe Shape: (1000, 84)\n"
     ]
    },
    {
     "data": {
      "text/html": [
       "<div>\n",
       "<style scoped>\n",
       "    .dataframe tbody tr th:only-of-type {\n",
       "        vertical-align: middle;\n",
       "    }\n",
       "\n",
       "    .dataframe tbody tr th {\n",
       "        vertical-align: top;\n",
       "    }\n",
       "\n",
       "    .dataframe thead th {\n",
       "        text-align: right;\n",
       "    }\n",
       "</style>\n",
       "<table border=\"1\" class=\"dataframe\">\n",
       "  <thead>\n",
       "    <tr style=\"text-align: right;\">\n",
       "      <th></th>\n",
       "      <th>REVENUE</th>\n",
       "      <th>MOU</th>\n",
       "      <th>RECCHRGE</th>\n",
       "      <th>DIRECTAS</th>\n",
       "      <th>OVERAGE</th>\n",
       "      <th>ROAM</th>\n",
       "      <th>CHANGEM</th>\n",
       "      <th>CHANGER</th>\n",
       "      <th>DROPVCE</th>\n",
       "      <th>BLCKVCE</th>\n",
       "      <th>...</th>\n",
       "      <th>REFER</th>\n",
       "      <th>INCMISS</th>\n",
       "      <th>INCOME</th>\n",
       "      <th>MCYCLE</th>\n",
       "      <th>CREDITAD</th>\n",
       "      <th>SETPRCM</th>\n",
       "      <th>SETPRC</th>\n",
       "      <th>RETCALL</th>\n",
       "      <th>CALIBRAT</th>\n",
       "      <th>CHURNDEP</th>\n",
       "    </tr>\n",
       "  </thead>\n",
       "  <tbody>\n",
       "    <tr>\n",
       "      <th>0</th>\n",
       "      <td>342.86</td>\n",
       "      <td>2961.25</td>\n",
       "      <td>139.96</td>\n",
       "      <td>11.14</td>\n",
       "      <td>1444.75</td>\n",
       "      <td>62.34</td>\n",
       "      <td>203.75</td>\n",
       "      <td>6.88</td>\n",
       "      <td>10.00</td>\n",
       "      <td>9.33</td>\n",
       "      <td>...</td>\n",
       "      <td>0</td>\n",
       "      <td>1</td>\n",
       "      <td>0</td>\n",
       "      <td>0</td>\n",
       "      <td>0</td>\n",
       "      <td>0</td>\n",
       "      <td>399.99</td>\n",
       "      <td>0</td>\n",
       "      <td>0</td>\n",
       "      <td>NaN</td>\n",
       "    </tr>\n",
       "    <tr>\n",
       "      <th>1</th>\n",
       "      <td>35.31</td>\n",
       "      <td>307.00</td>\n",
       "      <td>34.99</td>\n",
       "      <td>0.00</td>\n",
       "      <td>0.00</td>\n",
       "      <td>0.00</td>\n",
       "      <td>204.00</td>\n",
       "      <td>-0.32</td>\n",
       "      <td>1.00</td>\n",
       "      <td>2.33</td>\n",
       "      <td>...</td>\n",
       "      <td>0</td>\n",
       "      <td>0</td>\n",
       "      <td>6</td>\n",
       "      <td>0</td>\n",
       "      <td>1</td>\n",
       "      <td>0</td>\n",
       "      <td>29.99</td>\n",
       "      <td>0</td>\n",
       "      <td>0</td>\n",
       "      <td>NaN</td>\n",
       "    </tr>\n",
       "    <tr>\n",
       "      <th>2</th>\n",
       "      <td>84.66</td>\n",
       "      <td>1642.75</td>\n",
       "      <td>80.00</td>\n",
       "      <td>1.49</td>\n",
       "      <td>0.00</td>\n",
       "      <td>0.00</td>\n",
       "      <td>0.25</td>\n",
       "      <td>-2.47</td>\n",
       "      <td>9.33</td>\n",
       "      <td>9.00</td>\n",
       "      <td>...</td>\n",
       "      <td>0</td>\n",
       "      <td>1</td>\n",
       "      <td>0</td>\n",
       "      <td>0</td>\n",
       "      <td>0</td>\n",
       "      <td>0</td>\n",
       "      <td>29.99</td>\n",
       "      <td>0</td>\n",
       "      <td>0</td>\n",
       "      <td>NaN</td>\n",
       "    </tr>\n",
       "    <tr>\n",
       "      <th>3</th>\n",
       "      <td>65.62</td>\n",
       "      <td>321.50</td>\n",
       "      <td>50.00</td>\n",
       "      <td>0.25</td>\n",
       "      <td>2.25</td>\n",
       "      <td>0.00</td>\n",
       "      <td>-117.50</td>\n",
       "      <td>-13.63</td>\n",
       "      <td>12.67</td>\n",
       "      <td>2.67</td>\n",
       "      <td>...</td>\n",
       "      <td>0</td>\n",
       "      <td>0</td>\n",
       "      <td>7</td>\n",
       "      <td>0</td>\n",
       "      <td>0</td>\n",
       "      <td>0</td>\n",
       "      <td>99.99</td>\n",
       "      <td>0</td>\n",
       "      <td>0</td>\n",
       "      <td>NaN</td>\n",
       "    </tr>\n",
       "    <tr>\n",
       "      <th>4</th>\n",
       "      <td>86.48</td>\n",
       "      <td>807.00</td>\n",
       "      <td>75.00</td>\n",
       "      <td>0.00</td>\n",
       "      <td>0.00</td>\n",
       "      <td>0.26</td>\n",
       "      <td>110.00</td>\n",
       "      <td>-5.25</td>\n",
       "      <td>13.67</td>\n",
       "      <td>0.33</td>\n",
       "      <td>...</td>\n",
       "      <td>0</td>\n",
       "      <td>0</td>\n",
       "      <td>2</td>\n",
       "      <td>0</td>\n",
       "      <td>1</td>\n",
       "      <td>0</td>\n",
       "      <td>29.99</td>\n",
       "      <td>0</td>\n",
       "      <td>0</td>\n",
       "      <td>NaN</td>\n",
       "    </tr>\n",
       "  </tbody>\n",
       "</table>\n",
       "<p>5 rows × 84 columns</p>\n",
       "</div>"
      ],
      "text/plain": [
       "   REVENUE      MOU  RECCHRGE  DIRECTAS  OVERAGE   ROAM  CHANGEM  CHANGER  \\\n",
       "0   342.86  2961.25    139.96     11.14  1444.75  62.34   203.75     6.88   \n",
       "1    35.31   307.00     34.99      0.00     0.00   0.00   204.00    -0.32   \n",
       "2    84.66  1642.75     80.00      1.49     0.00   0.00     0.25    -2.47   \n",
       "3    65.62   321.50     50.00      0.25     2.25   0.00  -117.50   -13.63   \n",
       "4    86.48   807.00     75.00      0.00     0.00   0.26   110.00    -5.25   \n",
       "\n",
       "   DROPVCE  BLCKVCE  ...  REFER  INCMISS  INCOME  MCYCLE  CREDITAD  SETPRCM  \\\n",
       "0    10.00     9.33  ...      0        1       0       0         0        0   \n",
       "1     1.00     2.33  ...      0        0       6       0         1        0   \n",
       "2     9.33     9.00  ...      0        1       0       0         0        0   \n",
       "3    12.67     2.67  ...      0        0       7       0         0        0   \n",
       "4    13.67     0.33  ...      0        0       2       0         1        0   \n",
       "\n",
       "   SETPRC  RETCALL  CALIBRAT  CHURNDEP  \n",
       "0  399.99        0         0       NaN  \n",
       "1   29.99        0         0       NaN  \n",
       "2   29.99        0         0       NaN  \n",
       "3   99.99        0         0       NaN  \n",
       "4   29.99        0         0       NaN  \n",
       "\n",
       "[5 rows x 84 columns]"
      ]
     },
     "execution_count": 3,
     "metadata": {},
     "output_type": "execute_result"
    }
   ],
   "source": [
    "#Get columns names and data shape and general look\n",
    "print('Column Names:\\n',df.columns)\n",
    "print('\\n')\n",
    "print(\"Dataframe Shape:\", df.shape)\n",
    "\n",
    "df.head()"
   ]
  },
  {
   "cell_type": "code",
   "execution_count": 4,
   "metadata": {},
   "outputs": [
    {
     "data": {
      "text/plain": [
       "int64      56\n",
       "float64    25\n",
       "object      3\n",
       "dtype: int64"
      ]
     },
     "execution_count": 4,
     "metadata": {},
     "output_type": "execute_result"
    }
   ],
   "source": [
    "#data type count\n",
    "df.dtypes.value_counts()"
   ]
  },
  {
   "cell_type": "code",
   "execution_count": 5,
   "metadata": {},
   "outputs": [
    {
     "data": {
      "text/html": [
       "<div>\n",
       "<style scoped>\n",
       "    .dataframe tbody tr th:only-of-type {\n",
       "        vertical-align: middle;\n",
       "    }\n",
       "\n",
       "    .dataframe tbody tr th {\n",
       "        vertical-align: top;\n",
       "    }\n",
       "\n",
       "    .dataframe thead th {\n",
       "        text-align: right;\n",
       "    }\n",
       "</style>\n",
       "<table border=\"1\" class=\"dataframe\">\n",
       "  <thead>\n",
       "    <tr style=\"text-align: right;\">\n",
       "      <th></th>\n",
       "      <th>REVENUE</th>\n",
       "      <th>MOU</th>\n",
       "      <th>RECCHRGE</th>\n",
       "      <th>DIRECTAS</th>\n",
       "      <th>OVERAGE</th>\n",
       "      <th>ROAM</th>\n",
       "      <th>CHANGEM</th>\n",
       "      <th>CHANGER</th>\n",
       "      <th>DROPVCE</th>\n",
       "      <th>BLCKVCE</th>\n",
       "      <th>...</th>\n",
       "      <th>REFER</th>\n",
       "      <th>INCMISS</th>\n",
       "      <th>INCOME</th>\n",
       "      <th>MCYCLE</th>\n",
       "      <th>CREDITAD</th>\n",
       "      <th>SETPRCM</th>\n",
       "      <th>SETPRC</th>\n",
       "      <th>RETCALL</th>\n",
       "      <th>CALIBRAT</th>\n",
       "      <th>CHURNDEP</th>\n",
       "    </tr>\n",
       "  </thead>\n",
       "  <tbody>\n",
       "    <tr>\n",
       "      <th>count</th>\n",
       "      <td>997.000000</td>\n",
       "      <td>997.000000</td>\n",
       "      <td>997.000000</td>\n",
       "      <td>997.000000</td>\n",
       "      <td>997.000000</td>\n",
       "      <td>997.000000</td>\n",
       "      <td>991.000000</td>\n",
       "      <td>991.000000</td>\n",
       "      <td>1000.000000</td>\n",
       "      <td>1000.000000</td>\n",
       "      <td>...</td>\n",
       "      <td>1000.000000</td>\n",
       "      <td>1000.000000</td>\n",
       "      <td>1000.000000</td>\n",
       "      <td>1000.000000</td>\n",
       "      <td>1000.000000</td>\n",
       "      <td>1000.000000</td>\n",
       "      <td>1000.000000</td>\n",
       "      <td>1000.000000</td>\n",
       "      <td>1000.000000</td>\n",
       "      <td>563.000000</td>\n",
       "    </tr>\n",
       "    <tr>\n",
       "      <th>mean</th>\n",
       "      <td>59.662939</td>\n",
       "      <td>537.777503</td>\n",
       "      <td>47.186058</td>\n",
       "      <td>0.892106</td>\n",
       "      <td>41.523390</td>\n",
       "      <td>1.475938</td>\n",
       "      <td>-3.490585</td>\n",
       "      <td>-1.394097</td>\n",
       "      <td>6.131680</td>\n",
       "      <td>3.538140</td>\n",
       "      <td>...</td>\n",
       "      <td>0.059000</td>\n",
       "      <td>0.238000</td>\n",
       "      <td>4.369000</td>\n",
       "      <td>0.011000</td>\n",
       "      <td>0.057000</td>\n",
       "      <td>0.569000</td>\n",
       "      <td>36.935690</td>\n",
       "      <td>0.035000</td>\n",
       "      <td>0.563000</td>\n",
       "      <td>0.506217</td>\n",
       "    </tr>\n",
       "    <tr>\n",
       "      <th>std</th>\n",
       "      <td>48.110161</td>\n",
       "      <td>538.751303</td>\n",
       "      <td>24.436293</td>\n",
       "      <td>2.013783</td>\n",
       "      <td>109.214544</td>\n",
       "      <td>8.477650</td>\n",
       "      <td>254.537147</td>\n",
       "      <td>47.718943</td>\n",
       "      <td>9.044241</td>\n",
       "      <td>7.421263</td>\n",
       "      <td>...</td>\n",
       "      <td>0.354464</td>\n",
       "      <td>0.426072</td>\n",
       "      <td>3.112962</td>\n",
       "      <td>0.104355</td>\n",
       "      <td>0.337439</td>\n",
       "      <td>0.495464</td>\n",
       "      <td>58.053305</td>\n",
       "      <td>0.183872</td>\n",
       "      <td>0.496263</td>\n",
       "      <td>0.500406</td>\n",
       "    </tr>\n",
       "    <tr>\n",
       "      <th>min</th>\n",
       "      <td>4.840000</td>\n",
       "      <td>0.000000</td>\n",
       "      <td>0.000000</td>\n",
       "      <td>0.000000</td>\n",
       "      <td>0.000000</td>\n",
       "      <td>0.000000</td>\n",
       "      <td>-1345.500000</td>\n",
       "      <td>-341.800000</td>\n",
       "      <td>0.000000</td>\n",
       "      <td>0.000000</td>\n",
       "      <td>...</td>\n",
       "      <td>0.000000</td>\n",
       "      <td>0.000000</td>\n",
       "      <td>0.000000</td>\n",
       "      <td>0.000000</td>\n",
       "      <td>0.000000</td>\n",
       "      <td>0.000000</td>\n",
       "      <td>0.000000</td>\n",
       "      <td>0.000000</td>\n",
       "      <td>0.000000</td>\n",
       "      <td>0.000000</td>\n",
       "    </tr>\n",
       "    <tr>\n",
       "      <th>25%</th>\n",
       "      <td>32.900000</td>\n",
       "      <td>165.750000</td>\n",
       "      <td>30.000000</td>\n",
       "      <td>0.000000</td>\n",
       "      <td>0.000000</td>\n",
       "      <td>0.000000</td>\n",
       "      <td>-77.250000</td>\n",
       "      <td>-6.560000</td>\n",
       "      <td>0.670000</td>\n",
       "      <td>0.000000</td>\n",
       "      <td>...</td>\n",
       "      <td>0.000000</td>\n",
       "      <td>0.000000</td>\n",
       "      <td>1.000000</td>\n",
       "      <td>0.000000</td>\n",
       "      <td>0.000000</td>\n",
       "      <td>0.000000</td>\n",
       "      <td>0.000000</td>\n",
       "      <td>0.000000</td>\n",
       "      <td>0.000000</td>\n",
       "      <td>0.000000</td>\n",
       "    </tr>\n",
       "    <tr>\n",
       "      <th>50%</th>\n",
       "      <td>47.240000</td>\n",
       "      <td>364.750000</td>\n",
       "      <td>44.990000</td>\n",
       "      <td>0.250000</td>\n",
       "      <td>1.750000</td>\n",
       "      <td>0.000000</td>\n",
       "      <td>-3.500000</td>\n",
       "      <td>-0.300000</td>\n",
       "      <td>3.000000</td>\n",
       "      <td>1.000000</td>\n",
       "      <td>...</td>\n",
       "      <td>0.000000</td>\n",
       "      <td>0.000000</td>\n",
       "      <td>5.000000</td>\n",
       "      <td>0.000000</td>\n",
       "      <td>0.000000</td>\n",
       "      <td>1.000000</td>\n",
       "      <td>0.000000</td>\n",
       "      <td>0.000000</td>\n",
       "      <td>1.000000</td>\n",
       "      <td>1.000000</td>\n",
       "    </tr>\n",
       "    <tr>\n",
       "      <th>75%</th>\n",
       "      <td>70.500000</td>\n",
       "      <td>730.250000</td>\n",
       "      <td>59.990000</td>\n",
       "      <td>0.990000</td>\n",
       "      <td>36.500000</td>\n",
       "      <td>0.170000</td>\n",
       "      <td>62.875000</td>\n",
       "      <td>1.325000</td>\n",
       "      <td>8.000000</td>\n",
       "      <td>3.670000</td>\n",
       "      <td>...</td>\n",
       "      <td>0.000000</td>\n",
       "      <td>0.000000</td>\n",
       "      <td>7.000000</td>\n",
       "      <td>0.000000</td>\n",
       "      <td>0.000000</td>\n",
       "      <td>1.000000</td>\n",
       "      <td>59.990000</td>\n",
       "      <td>0.000000</td>\n",
       "      <td>1.000000</td>\n",
       "      <td>1.000000</td>\n",
       "    </tr>\n",
       "    <tr>\n",
       "      <th>max</th>\n",
       "      <td>526.560000</td>\n",
       "      <td>3656.250000</td>\n",
       "      <td>232.490000</td>\n",
       "      <td>22.770000</td>\n",
       "      <td>1444.750000</td>\n",
       "      <td>147.160000</td>\n",
       "      <td>1295.750000</td>\n",
       "      <td>895.570000</td>\n",
       "      <td>130.670000</td>\n",
       "      <td>77.000000</td>\n",
       "      <td>...</td>\n",
       "      <td>6.000000</td>\n",
       "      <td>1.000000</td>\n",
       "      <td>9.000000</td>\n",
       "      <td>1.000000</td>\n",
       "      <td>5.000000</td>\n",
       "      <td>1.000000</td>\n",
       "      <td>399.990000</td>\n",
       "      <td>1.000000</td>\n",
       "      <td>1.000000</td>\n",
       "      <td>1.000000</td>\n",
       "    </tr>\n",
       "  </tbody>\n",
       "</table>\n",
       "<p>8 rows × 81 columns</p>\n",
       "</div>"
      ],
      "text/plain": [
       "          REVENUE          MOU    RECCHRGE    DIRECTAS      OVERAGE  \\\n",
       "count  997.000000   997.000000  997.000000  997.000000   997.000000   \n",
       "mean    59.662939   537.777503   47.186058    0.892106    41.523390   \n",
       "std     48.110161   538.751303   24.436293    2.013783   109.214544   \n",
       "min      4.840000     0.000000    0.000000    0.000000     0.000000   \n",
       "25%     32.900000   165.750000   30.000000    0.000000     0.000000   \n",
       "50%     47.240000   364.750000   44.990000    0.250000     1.750000   \n",
       "75%     70.500000   730.250000   59.990000    0.990000    36.500000   \n",
       "max    526.560000  3656.250000  232.490000   22.770000  1444.750000   \n",
       "\n",
       "             ROAM      CHANGEM     CHANGER      DROPVCE      BLCKVCE  ...  \\\n",
       "count  997.000000   991.000000  991.000000  1000.000000  1000.000000  ...   \n",
       "mean     1.475938    -3.490585   -1.394097     6.131680     3.538140  ...   \n",
       "std      8.477650   254.537147   47.718943     9.044241     7.421263  ...   \n",
       "min      0.000000 -1345.500000 -341.800000     0.000000     0.000000  ...   \n",
       "25%      0.000000   -77.250000   -6.560000     0.670000     0.000000  ...   \n",
       "50%      0.000000    -3.500000   -0.300000     3.000000     1.000000  ...   \n",
       "75%      0.170000    62.875000    1.325000     8.000000     3.670000  ...   \n",
       "max    147.160000  1295.750000  895.570000   130.670000    77.000000  ...   \n",
       "\n",
       "             REFER      INCMISS       INCOME       MCYCLE     CREDITAD  \\\n",
       "count  1000.000000  1000.000000  1000.000000  1000.000000  1000.000000   \n",
       "mean      0.059000     0.238000     4.369000     0.011000     0.057000   \n",
       "std       0.354464     0.426072     3.112962     0.104355     0.337439   \n",
       "min       0.000000     0.000000     0.000000     0.000000     0.000000   \n",
       "25%       0.000000     0.000000     1.000000     0.000000     0.000000   \n",
       "50%       0.000000     0.000000     5.000000     0.000000     0.000000   \n",
       "75%       0.000000     0.000000     7.000000     0.000000     0.000000   \n",
       "max       6.000000     1.000000     9.000000     1.000000     5.000000   \n",
       "\n",
       "           SETPRCM       SETPRC      RETCALL     CALIBRAT    CHURNDEP  \n",
       "count  1000.000000  1000.000000  1000.000000  1000.000000  563.000000  \n",
       "mean      0.569000    36.935690     0.035000     0.563000    0.506217  \n",
       "std       0.495464    58.053305     0.183872     0.496263    0.500406  \n",
       "min       0.000000     0.000000     0.000000     0.000000    0.000000  \n",
       "25%       0.000000     0.000000     0.000000     0.000000    0.000000  \n",
       "50%       1.000000     0.000000     0.000000     1.000000    1.000000  \n",
       "75%       1.000000    59.990000     0.000000     1.000000    1.000000  \n",
       "max       1.000000   399.990000     1.000000     1.000000    1.000000  \n",
       "\n",
       "[8 rows x 81 columns]"
      ]
     },
     "execution_count": 5,
     "metadata": {},
     "output_type": "execute_result"
    }
   ],
   "source": [
    "#descriptive statistics about the data\n",
    "df.describe()"
   ]
  },
  {
   "cell_type": "code",
   "execution_count": 6,
   "metadata": {
    "scrolled": true
   },
   "outputs": [
    {
     "name": "stdout",
     "output_type": "stream",
     "text": [
      "CUSTOMER         1000\n",
      "MOU               876\n",
      "REVENUE           846\n",
      "MOUREC            843\n",
      "CHANGEM           768\n",
      "CHANGER           722\n",
      "EQPDAYS           583\n",
      "PEAKVCE           497\n",
      "OPEAKVCE          442\n",
      "OVERAGE           339\n",
      "CSA               277\n",
      "UNANSVCE          264\n",
      "OUTCALLS          258\n",
      "RECCHRGE          244\n",
      "ROAM              171\n",
      "INCALLS           148\n",
      "DROPBLK           137\n",
      "DROPVCE            98\n",
      "BLCKVCE            81\n",
      "CALLWAIT           55\n",
      "CUSTCARE           55\n",
      "MONTHS             48\n",
      "DIRECTAS           48\n",
      "AGE1               37\n",
      "AGE2               36\n",
      "THREEWAY           24\n",
      "PHONES             13\n",
      "SETPRC             11\n",
      "INCOME             10\n",
      "OCC_LABEL           8\n",
      "OCC                 8\n",
      "MODELS              8\n",
      "UNIQSUBS            7\n",
      "CREDIT_RATING       7\n",
      "REFER               7\n",
      "ACTVSUBS            6\n",
      "CREDITAD            6\n",
      "Column 45           4\n",
      "MARRY               3\n",
      "CALLFWDV            3\n",
      "RETACCPT            3\n",
      "RETCALLS            3\n",
      "CHILDREN            2\n",
      "CREDITA             2\n",
      "CHURN               2\n",
      "CREDITB             2\n",
      "CREDITAA            2\n",
      "CHURNDEP            2\n",
      "CREDITC             2\n",
      "CREDITDE            2\n",
      "MARRYYES            2\n",
      "MARRYNO             2\n",
      "MARRY_LABEL         2\n",
      "MAILORD             2\n",
      "MAILRES             2\n",
      "MAILFLAG            2\n",
      "TRAVEL              2\n",
      "PCOWN               2\n",
      "CREDITCD            2\n",
      "NEWCELLY            2\n",
      "NEWCELLN            2\n",
      "INCMISS             2\n",
      "MCYCLE              2\n",
      "SETPRCM             2\n",
      "RETCALL             2\n",
      "MARRYUN             2\n",
      "OWNRENT             2\n",
      "OCCSELF             2\n",
      "WEBCAP              2\n",
      "CREDITGY            2\n",
      "CREDITZ             2\n",
      "CALIBRAT            2\n",
      "PRIZMUB             2\n",
      "PRIZMTWN            2\n",
      "REFURB              2\n",
      "TRUCK               2\n",
      "OCCRET              2\n",
      "RV                  2\n",
      "OCCPROF             2\n",
      "OCCCLER             2\n",
      "OCCCRFT             2\n",
      "OCCSTUD             2\n",
      "OCCHMKR             2\n",
      "PRIZMRUR            2\n",
      "dtype: int64\n"
     ]
    }
   ],
   "source": [
    "#unique values\n",
    "with pd.option_context('display.max_rows', None, 'display.max_columns', None):  # more options can be specified also\n",
    "    print(df.nunique().sort_values(ascending=False))"
   ]
  },
  {
   "cell_type": "code",
   "execution_count": 7,
   "metadata": {
    "scrolled": true
   },
   "outputs": [
    {
     "name": "stdout",
     "output_type": "stream",
     "text": [
      "CHURNDEP         437\n",
      "AGE2              14\n",
      "AGE1              14\n",
      "CHANGEM            9\n",
      "CHANGER            9\n",
      "MOU                3\n",
      "RECCHRGE           3\n",
      "DIRECTAS           3\n",
      "OVERAGE            3\n",
      "ROAM               3\n",
      "REVENUE            3\n",
      "NEWCELLY           0\n",
      "CREDITB            0\n",
      "CALLFWDV           0\n",
      "CALLWAIT           0\n",
      "CHURN              0\n",
      "MONTHS             0\n",
      "UNIQSUBS           0\n",
      "ACTVSUBS           0\n",
      "CSA                0\n",
      "PHONES             0\n",
      "MODELS             0\n",
      "EQPDAYS            0\n",
      "CUSTOMER           0\n",
      "REFER              0\n",
      "NEWCELLN           0\n",
      "CHILDREN           0\n",
      "CREDITA            0\n",
      "DROPBLK            0\n",
      "OPEAKVCE           0\n",
      "PEAKVCE            0\n",
      "INCMISS            0\n",
      "RETCALL            0\n",
      "SETPRC             0\n",
      "SETPRCM            0\n",
      "CREDITAD           0\n",
      "MCYCLE             0\n",
      "INCOME             0\n",
      "DROPVCE            0\n",
      "INCALLS            0\n",
      "BLCKVCE            0\n",
      "UNANSVCE           0\n",
      "CUSTCARE           0\n",
      "THREEWAY           0\n",
      "MOUREC             0\n",
      "OUTCALLS           0\n",
      "CREDITAA           0\n",
      "CREDITC            0\n",
      "RETACCPT           0\n",
      "CREDITDE           0\n",
      "OCC                0\n",
      "OCC_LABEL          0\n",
      "OWNRENT            0\n",
      "MARRYUN            0\n",
      "MARRYYES           0\n",
      "MARRYNO            0\n",
      "MARRY              0\n",
      "MARRY_LABEL        0\n",
      "MAILORD            0\n",
      "MAILRES            0\n",
      "MAILFLAG           0\n",
      "TRAVEL             0\n",
      "PCOWN              0\n",
      "CREDITCD           0\n",
      "RETCALLS           0\n",
      "OCCSELF            0\n",
      "OCCRET             0\n",
      "OCCHMKR            0\n",
      "Column 45          0\n",
      "CREDITGY           0\n",
      "CREDITZ            0\n",
      "CREDIT_RATING      0\n",
      "CALIBRAT           0\n",
      "PRIZMUB            0\n",
      "PRIZMTWN           0\n",
      "REFURB             0\n",
      "OCCSTUD            0\n",
      "WEBCAP             0\n",
      "TRUCK              0\n",
      "RV                 0\n",
      "OCCPROF            0\n",
      "OCCCLER            0\n",
      "OCCCRFT            0\n",
      "PRIZMRUR           0\n",
      "dtype: int64\n"
     ]
    }
   ],
   "source": [
    "#Check Missing/null data\n",
    "with pd.option_context('display.max_rows', None, 'display.max_columns', None):  # more options can be specified also\n",
    "    print(df.isnull().sum().sort_values(ascending=False))"
   ]
  },
  {
   "cell_type": "code",
   "execution_count": 8,
   "metadata": {},
   "outputs": [
    {
     "data": {
      "text/plain": [
       "1    297\n",
       "0    703\n",
       "Name: CHURN, dtype: int64"
      ]
     },
     "execution_count": 8,
     "metadata": {},
     "output_type": "execute_result"
    }
   ],
   "source": [
    "#predicited variable\n",
    "df['CHURN'].value_counts(ascending=True)"
   ]
  },
  {
   "cell_type": "markdown",
   "metadata": {},
   "source": [
    "### Data Cleansing"
   ]
  },
  {
   "cell_type": "code",
   "execution_count": 9,
   "metadata": {
    "scrolled": true
   },
   "outputs": [
    {
     "name": "stdout",
     "output_type": "stream",
     "text": [
      "Columns:\n",
      " Index(['revenue', 'mou', 'recchrge', 'directas', 'overage', 'roam', 'changem',\n",
      "       'changer', 'dropvce', 'blckvce', 'unansvce', 'custcare', 'threeway',\n",
      "       'mourec', 'outcalls', 'incalls', 'peakvce', 'opeakvce', 'dropblk',\n",
      "       'callfwdv', 'callwait', 'churn', 'months', 'uniqsubs', 'actvsubs',\n",
      "       'csa', 'phones', 'models', 'eqpdays', 'customer', 'age1', 'age2',\n",
      "       'children', 'credita', 'creditaa', 'creditb', 'creditc', 'creditde',\n",
      "       'creditgy', 'creditz', 'credit_rating', 'prizmrur', 'prizmub',\n",
      "       'prizmtwn', 'column 45', 'refurb', 'webcap', 'truck', 'rv', 'occprof',\n",
      "       'occcler', 'occcrft', 'occstud', 'occhmkr', 'occret', 'occself', 'occ',\n",
      "       'occ_label', 'ownrent', 'marryun', 'marryyes', 'marryno', 'marry',\n",
      "       'marry_label', 'mailord', 'mailres', 'mailflag', 'travel', 'pcown',\n",
      "       'creditcd', 'retcalls', 'retaccpt', 'newcelly', 'newcelln', 'refer',\n",
      "       'incmiss', 'income', 'mcycle', 'creditad', 'setprcm', 'setprc',\n",
      "       'retcall', 'calibrat', 'churndep'],\n",
      "      dtype='object')\n"
     ]
    }
   ],
   "source": [
    "#standardize all columns to lowercase for ease of use in querying\n",
    "df.columns = map(str.lower, df.columns)\n",
    "#verify\n",
    "print('Columns:\\n',df.columns)"
   ]
  },
  {
   "cell_type": "code",
   "execution_count": 10,
   "metadata": {},
   "outputs": [
    {
     "name": "stdout",
     "output_type": "stream",
     "text": [
      "Columns:\n",
      " Index(['revenue', 'mou', 'recchrge', 'directas', 'overage', 'roam', 'changem',\n",
      "       'changer', 'dropvce', 'blckvce', 'unansvce', 'custcare', 'threeway',\n",
      "       'mourec', 'outcalls', 'incalls', 'peakvce', 'opeakvce', 'dropblk',\n",
      "       'callfwdv', 'callwait', 'churn', 'months', 'uniqsubs', 'actvsubs',\n",
      "       'csa', 'phones', 'models', 'eqpdays', 'customer', 'age1', 'age2',\n",
      "       'children', 'credita', 'creditaa', 'creditb', 'creditc', 'creditde',\n",
      "       'creditgy', 'creditz', 'credit_rating', 'prizmrur', 'prizmub',\n",
      "       'prizmtwn', 'przm_num', 'refurb', 'webcap', 'truck', 'rv', 'occprof',\n",
      "       'occcler', 'occcrft', 'occstud', 'occhmkr', 'occret', 'occself', 'occ',\n",
      "       'occ_label', 'ownrent', 'marryun', 'marryyes', 'marryno', 'marry',\n",
      "       'marry_label', 'mailord', 'mailres', 'mailflag', 'travel', 'pcown',\n",
      "       'creditcd', 'retcalls', 'retaccpt', 'newcelly', 'newcelln', 'refer',\n",
      "       'incmiss', 'income', 'mcycle', 'creditad', 'setprcm', 'setprc',\n",
      "       'retcall', 'calibrat', 'churndep'],\n",
      "      dtype='object')\n"
     ]
    }
   ],
   "source": [
    "#fixing mislabeled column according to data descriptipn file\n",
    "df.rename(columns={'column 45':'przm_num'}, inplace=True)\n",
    "\n",
    "#verify\n",
    "print('Columns:\\n',df.columns)"
   ]
  },
  {
   "cell_type": "code",
   "execution_count": 11,
   "metadata": {
    "scrolled": true
   },
   "outputs": [
    {
     "data": {
      "text/plain": [
       "1    297\n",
       "0    703\n",
       "Name: churn, dtype: int64"
      ]
     },
     "execution_count": 11,
     "metadata": {},
     "output_type": "execute_result"
    }
   ],
   "source": [
    "#predicited variable\n",
    "df['churn'].value_counts(ascending=True)"
   ]
  },
  {
   "cell_type": "code",
   "execution_count": 12,
   "metadata": {},
   "outputs": [],
   "source": [
    "#drop churndep because it is just a field set up for logreg\n",
    "#drop calibrat bc I want to do my own separation\n",
    "df = df.drop(['churndep'], axis=1)\n",
    "df = df.drop(['calibrat'], axis=1)"
   ]
  },
  {
   "cell_type": "markdown",
   "metadata": {},
   "source": [
    "### Changing Data Types"
   ]
  },
  {
   "cell_type": "code",
   "execution_count": 13,
   "metadata": {},
   "outputs": [],
   "source": [
    "''' \n",
    "    Using data dictionary to fix some data types to string/objects. \n",
    "    So that they won't be misrepresented in any cleaning and calculations. \n",
    "    They're not actually numbers.\n",
    "    This is mostly done for analysis purposes in Tableau.\n",
    "    It is also done to properly handle null values.\n",
    "    \n",
    "'''\n",
    "\n",
    "df['children'] = df['children'].apply(str)\n",
    "df['churn'] = df['churn'].apply(str)\n",
    "df['credit_rating'] = df['credit_rating'].apply(str)\n",
    "df['credita'] = df['credita'].apply(str)\n",
    "df['creditaa'] = df['creditaa'].apply(str)\n",
    "df['creditad'] = df['creditad'].apply(str)\n",
    "df['creditb'] = df['creditb'].apply(str)\n",
    "df['creditc'] = df['creditc'].apply(str)\n",
    "df['creditcd'] = df['creditcd'].apply(str)\n",
    "df['creditde'] = df['creditde'].apply(str)\n",
    "df['creditgy'] = df['creditgy'].apply(str)\n",
    "df['creditz'] = df['creditz'].apply(str)\n",
    "df['incmiss'] = df['incmiss'].apply(str)\n",
    "df['income'] = df['income'].apply(str)\n",
    "df['mailflag'] = df['mailflag'].apply(str)\n",
    "df['mailord'] = df['mailord'].apply(str)\n",
    "df['mailres'] = df['mailres'].apply(str)\n",
    "df['marry'] = df['marry'].apply(str)\n",
    "df['marryno'] = df['marryno'].apply(str)\n",
    "df['marryun'] = df['marryun'].apply(str)\n",
    "df['marryyes'] = df['marryyes'].apply(str)\n",
    "df['mcycle'] = df['mcycle'].apply(str)\n",
    "df['newcelln'] = df['newcelln'].apply(str)\n",
    "df['newcelly'] = df['newcelly'].apply(str)\n",
    "df['mailflag'] = df['mailflag'].apply(str)\n",
    "df['mailord'] = df['mailord'].apply(str)\n",
    "df['mailres'] = df['mailres'].apply(str)\n",
    "df['marryno'] = df['marryno'].apply(str)\n",
    "df['marryun'] = df['marryun'].apply(str)\n",
    "df['marryyes'] = df['marryyes'].apply(str)\n",
    "df['mcycle'] = df['mcycle'].apply(str)\n",
    "df['newcelln'] = df['newcelln'].apply(str)\n",
    "df['newcelly'] = df['newcelly'].apply(str)\n",
    "df['occ'] = df['occ'].apply(str)\n",
    "df['occ_label'] = df['occ_label'].apply(str)\n",
    "df['occcler'] = df['occcler'].apply(str)\n",
    "df['occcrft'] = df['occcrft'].apply(str)\n",
    "df['occhmkr'] = df['occhmkr'].apply(str)\n",
    "df['occprof'] = df['occprof'].apply(str)\n",
    "df['occret'] = df['occret'].apply(str)\n",
    "df['occself'] = df['occself'].apply(str)\n",
    "df['occstud'] = df['occstud'].apply(str)\n",
    "df['ownrent'] = df['ownrent'].apply(str)\n",
    "df['pcown'] = df['pcown'].apply(str)\n",
    "df['prizmrur'] = df['prizmrur'].apply(str)\n",
    "df['prizmtwn'] = df['prizmtwn'].apply(str)\n",
    "df['prizmub'] = df['prizmub'].apply(str)\n",
    "df['przm_num'] = df['przm_num'].apply(str)\n",
    "df['refurb'] = df['refurb'].apply(str)\n",
    "df['retcall'] = df['retcall'].apply(str)\n",
    "df['rv'] = df['rv'].apply(str)\n",
    "df['setprcm'] = df['setprcm'].apply(str)\n",
    "df['travel'] = df['travel'].apply(str)\n",
    "df['truck'] = df['truck'].apply(str)\n",
    "df['webcap'] = df['webcap'].apply(str)\n"
   ]
  },
  {
   "cell_type": "code",
   "execution_count": 14,
   "metadata": {},
   "outputs": [
    {
     "data": {
      "text/plain": [
       "object     48\n",
       "float64    24\n",
       "int64      10\n",
       "dtype: int64"
      ]
     },
     "execution_count": 14,
     "metadata": {},
     "output_type": "execute_result"
    }
   ],
   "source": [
    "#datatype count\n",
    "df.dtypes.value_counts()"
   ]
  },
  {
   "cell_type": "markdown",
   "metadata": {},
   "source": [
    "### Missing Values"
   ]
  },
  {
   "cell_type": "code",
   "execution_count": 15,
   "metadata": {
    "scrolled": true
   },
   "outputs": [
    {
     "name": "stdout",
     "output_type": "stream",
     "text": [
      "age2             14\n",
      "age1             14\n",
      "changem           9\n",
      "changer           9\n",
      "revenue           3\n",
      "mou               3\n",
      "recchrge          3\n",
      "directas          3\n",
      "overage           3\n",
      "roam              3\n",
      "csa               0\n",
      "phones            0\n",
      "models            0\n",
      "eqpdays           0\n",
      "customer          0\n",
      "creditb           0\n",
      "children          0\n",
      "credita           0\n",
      "creditaa          0\n",
      "uniqsubs          0\n",
      "creditc           0\n",
      "creditde          0\n",
      "creditgy          0\n",
      "actvsubs          0\n",
      "callfwdv          0\n",
      "months            0\n",
      "churn             0\n",
      "callwait          0\n",
      "setprc            0\n",
      "dropblk           0\n",
      "opeakvce          0\n",
      "peakvce           0\n",
      "incalls           0\n",
      "outcalls          0\n",
      "mourec            0\n",
      "threeway          0\n",
      "custcare          0\n",
      "unansvce          0\n",
      "blckvce           0\n",
      "dropvce           0\n",
      "creditz           0\n",
      "retcall           0\n",
      "prizmrur          0\n",
      "prizmub           0\n",
      "marry_label       0\n",
      "mailord           0\n",
      "mailres           0\n",
      "mailflag          0\n",
      "travel            0\n",
      "pcown             0\n",
      "creditcd          0\n",
      "retcalls          0\n",
      "retaccpt          0\n",
      "newcelly          0\n",
      "newcelln          0\n",
      "refer             0\n",
      "incmiss           0\n",
      "income            0\n",
      "mcycle            0\n",
      "creditad          0\n",
      "setprcm           0\n",
      "marry             0\n",
      "marryno           0\n",
      "marryyes          0\n",
      "occcler           0\n",
      "prizmtwn          0\n",
      "przm_num          0\n",
      "refurb            0\n",
      "webcap            0\n",
      "truck             0\n",
      "rv                0\n",
      "occprof           0\n",
      "occcrft           0\n",
      "marryun           0\n",
      "occstud           0\n",
      "occhmkr           0\n",
      "occret            0\n",
      "occself           0\n",
      "occ               0\n",
      "occ_label         0\n",
      "ownrent           0\n",
      "credit_rating     0\n",
      "dtype: int64\n"
     ]
    }
   ],
   "source": [
    "#Check Missing/null data\n",
    "with pd.option_context('display.max_rows', None, 'display.max_columns', None):  # more options can be specified also\n",
    "    print(df.isnull().sum().sort_values(ascending=False))"
   ]
  },
  {
   "cell_type": "markdown",
   "metadata": {},
   "source": [
    "#### Age1"
   ]
  },
  {
   "cell_type": "code",
   "execution_count": 16,
   "metadata": {
    "scrolled": true
   },
   "outputs": [
    {
     "name": "stdout",
     "output_type": "stream",
     "text": [
      "Age1 Values:\n",
      "Average Age1 w/o Zeroes:  43.0\n",
      "Average Age1:  31.0\n",
      "Minimum Age1 WITH Zeroes:  0.0\n",
      "Minimum Age1 w/o Zeroes:  18.0\n",
      "Maximum Age1:  94.0\n",
      "Null values for Age1:  14\n",
      "Number of Age1 Zeroes:  266\n"
     ]
    }
   ],
   "source": [
    "#check values of age1\n",
    "\n",
    "print(\"Age1 Values:\")\n",
    "print(\"Average Age1 w/o Zeroes: \", round(df['age1'].loc[df['age1']!=0].mean(),0))\n",
    "print(\"Average Age1: \", round(df['age1'].mean(),0))\n",
    "print(\"Minimum Age1 WITH Zeroes: \", df['age1'].min())\n",
    "print(\"Minimum Age1 w/o Zeroes: \", df['age1'].loc[df['age1']!=0].min())\n",
    "print(\"Maximum Age1: \", df['age1'].max())\n",
    "print(\"Null values for Age1: \", pd.isnull(df['age1']).sum())\n",
    "\n",
    "#check # 0s in age1\n",
    "print(\"Number of Age1 Zeroes: \",(df['age1'] ==0).sum())"
   ]
  },
  {
   "cell_type": "code",
   "execution_count": 17,
   "metadata": {
    "scrolled": true
   },
   "outputs": [],
   "source": [
    "''' Fill null age values to 0 to match the other ages that are missing AS 0.\n",
    "    Will also create a \"Missing\" group for ages out of those groups later. '''\n",
    "\n",
    "df['age1'].fillna(value=0, inplace=True)"
   ]
  },
  {
   "cell_type": "code",
   "execution_count": 18,
   "metadata": {
    "scrolled": true
   },
   "outputs": [
    {
     "name": "stdout",
     "output_type": "stream",
     "text": [
      "Age1 Values\n",
      "Average Age1:  31.0\n",
      "Minimum Age1:  0.0\n",
      "Maximum Age1:  94.0\n",
      "Null values for Age1:  0\n",
      "Number of Age1 Zeroes:  280\n"
     ]
    }
   ],
   "source": [
    "#recheck values of age1\n",
    "\n",
    "print(\"Age1 Values\")\n",
    "print(\"Average Age1: \", round(df['age1'].mean(),0))\n",
    "print(\"Minimum Age1: \", df['age1'].min())\n",
    "print(\"Maximum Age1: \", df['age1'].max())\n",
    "print(\"Null values for Age1: \", pd.isnull(df['age1']).sum())\n",
    "#check # 0s in age1\n",
    "print(\"Number of Age1 Zeroes: \",(df['age1'] ==0).sum())"
   ]
  },
  {
   "cell_type": "markdown",
   "metadata": {},
   "source": [
    "#### Age2"
   ]
  },
  {
   "cell_type": "code",
   "execution_count": 19,
   "metadata": {
    "scrolled": true
   },
   "outputs": [
    {
     "name": "stdout",
     "output_type": "stream",
     "text": [
      "Age2 Values:\n",
      "Average Age2 w/o Zeroes:  44.0\n",
      "Average Age2:  21.0\n",
      "Minimum Age2 WITH Zeroes:  0.0\n",
      "Minimum Age2 w/o Zeroes:  18.0\n",
      "Maximum Age2:  90.0\n",
      "Null values for Age2:  14\n",
      "Number of Age2 Zeroes:  521\n"
     ]
    }
   ],
   "source": [
    "#check values of age2\n",
    "\n",
    "print(\"Age2 Values:\")\n",
    "print(\"Average Age2 w/o Zeroes: \", round(df['age2'].loc[df['age2']!=0].mean(),0))\n",
    "print(\"Average Age2: \", round(df['age2'].mean(),0))\n",
    "print(\"Minimum Age2 WITH Zeroes: \", df['age2'].min())\n",
    "print(\"Minimum Age2 w/o Zeroes: \", df['age2'].loc[df['age2']!=0].min())\n",
    "print(\"Maximum Age2: \", df['age2'].max())\n",
    "print(\"Null values for Age2: \", pd.isnull(df['age2']).sum())\n",
    "\n",
    "#check # 0s in age2\n",
    "print(\"Number of Age2 Zeroes: \",(df['age2'] ==0).sum())"
   ]
  },
  {
   "cell_type": "code",
   "execution_count": 20,
   "metadata": {},
   "outputs": [],
   "source": [
    "''' Fill null age values to 0 to match the other ages that are missing As 0.\n",
    "    Will also create a \"Missing\" group for ages out of those groups later. '''\n",
    "\n",
    "df['age2'].fillna(value=0, inplace=True)"
   ]
  },
  {
   "cell_type": "code",
   "execution_count": 21,
   "metadata": {},
   "outputs": [
    {
     "name": "stdout",
     "output_type": "stream",
     "text": [
      "Age2 Values\n",
      "Average Age2:  21.0\n",
      "Minimum Age2:  0.0\n",
      "Maximum Age2:  90.0\n",
      "Null values for Age2:  0\n",
      "Number of Age2 Zeroes:  535\n"
     ]
    }
   ],
   "source": [
    "#recheck values of age2\n",
    "\n",
    "print(\"Age2 Values\")\n",
    "print(\"Average Age2: \", round(df['age2'].mean(),0))\n",
    "print(\"Minimum Age2: \", df['age2'].min())\n",
    "print(\"Maximum Age2: \", df['age2'].max())\n",
    "print(\"Null values for Age2: \", pd.isnull(df['age2']).sum())\n",
    "#check # 0s in age2\n",
    "print(\"Number of Age2 Zeroes: \",(df['age2'] ==0).sum())"
   ]
  },
  {
   "cell_type": "markdown",
   "metadata": {},
   "source": [
    "Because the values for the remaining null columns can legitimately have a zero value, and are numerical and discrete, I am going to fill the rest of those with their mean. I think that it is a safe choice being that the highest null is 9/1000."
   ]
  },
  {
   "cell_type": "code",
   "execution_count": 22,
   "metadata": {
    "scrolled": true
   },
   "outputs": [],
   "source": [
    "'''\n",
    "Because the values for the remaining null columns can legitimately have a zero value, \n",
    "and are numerical and discrete, I am going to fill the rest of those with their mean. \n",
    "I think that it is a safe choice being that the highest null is 9/1000.'''\n",
    "\n",
    "#fill rest of nulls with their averages\n",
    "df= df.fillna(df.mean())"
   ]
  },
  {
   "cell_type": "code",
   "execution_count": 23,
   "metadata": {
    "scrolled": true
   },
   "outputs": [
    {
     "data": {
      "text/plain": [
       "retcall      0\n",
       "callwait     0\n",
       "months       0\n",
       "uniqsubs     0\n",
       "actvsubs     0\n",
       "            ..\n",
       "occself      0\n",
       "occ          0\n",
       "occ_label    0\n",
       "ownrent      0\n",
       "revenue      0\n",
       "Length: 82, dtype: int64"
      ]
     },
     "execution_count": 23,
     "metadata": {},
     "output_type": "execute_result"
    }
   ],
   "source": [
    "#recheck nulls\n",
    "df.isnull().sum().sort_values(ascending=False)"
   ]
  },
  {
   "cell_type": "markdown",
   "metadata": {},
   "source": [
    "### Outliers"
   ]
  },
  {
   "cell_type": "code",
   "execution_count": 24,
   "metadata": {},
   "outputs": [
    {
     "name": "stdout",
     "output_type": "stream",
     "text": [
      "            revenue          mou     recchrge     directas      overage  \\\n",
      "count   1000.000000  1000.000000  1000.000000  1000.000000  1000.000000   \n",
      "unique          NaN          NaN          NaN          NaN          NaN   \n",
      "top             NaN          NaN          NaN          NaN          NaN   \n",
      "freq            NaN          NaN          NaN          NaN          NaN   \n",
      "mean      59.662939   537.777503    47.186058     0.892106    41.523390   \n",
      "std       48.037869   537.941759    24.399574     2.010757   109.050435   \n",
      "min        4.840000     0.000000     0.000000     0.000000     0.000000   \n",
      "25%       32.930000   166.312500    30.000000     0.000000     0.000000   \n",
      "50%       47.335000   366.000000    44.990000     0.250000     1.875000   \n",
      "75%       70.110000   729.875000    59.990000     0.990000    37.000000   \n",
      "max      526.560000  3656.250000   232.490000    22.770000  1444.750000   \n",
      "\n",
      "               roam      changem      changer      dropvce      blckvce  \\\n",
      "count   1000.000000  1000.000000  1000.000000  1000.000000  1000.000000   \n",
      "unique          NaN          NaN          NaN          NaN          NaN   \n",
      "top             NaN          NaN          NaN          NaN          NaN   \n",
      "freq            NaN          NaN          NaN          NaN          NaN   \n",
      "mean       1.475938    -3.490585    -1.394097     6.131680     3.538140   \n",
      "std        8.464911   253.387989    47.503507     9.044241     7.421263   \n",
      "min        0.000000 -1345.500000  -341.800000     0.000000     0.000000   \n",
      "25%        0.000000   -77.000000    -6.397500     0.670000     0.000000   \n",
      "50%        0.000000    -3.490585    -0.320000     3.000000     1.000000   \n",
      "75%        0.175000    61.687500     1.295000     8.000000     3.670000   \n",
      "max      147.160000  1295.750000   895.570000   130.670000    77.000000   \n",
      "\n",
      "           unansvce     custcare     threeway       mourec     outcalls  \\\n",
      "count   1000.000000  1000.000000  1000.000000  1000.000000  1000.000000   \n",
      "unique          NaN          NaN          NaN          NaN          NaN   \n",
      "top             NaN          NaN          NaN          NaN          NaN   \n",
      "freq            NaN          NaN          NaN          NaN          NaN   \n",
      "mean      28.854610     1.696210     0.338700   116.669540    27.140610   \n",
      "std       44.665855     5.040183     1.163631   163.026685    43.787284   \n",
      "min        0.000000     0.000000     0.000000     0.000000     0.000000   \n",
      "25%        5.670000     0.000000     0.000000     9.177500     3.330000   \n",
      "50%       15.670000     0.000000     0.000000    52.985000    13.670000   \n",
      "75%       37.330000     1.330000     0.330000   154.757500    34.415000   \n",
      "max      814.330000    93.000000    19.670000  1141.990000   644.330000   \n",
      "\n",
      "            incalls      peakvce     opeakvce      dropblk     callfwdv  \\\n",
      "count   1000.000000  1000.000000  1000.000000  1000.000000  1000.000000   \n",
      "unique          NaN          NaN          NaN          NaN          NaN   \n",
      "top             NaN          NaN          NaN          NaN          NaN   \n",
      "freq            NaN          NaN          NaN          NaN          NaN   \n",
      "mean       9.058980    93.167050    69.881530     9.696300     0.003330   \n",
      "std       21.936599   115.834207    97.385312    12.683301     0.080151   \n",
      "min        0.000000     0.000000     0.000000     0.000000     0.000000   \n",
      "25%        0.000000    21.000000    10.330000     1.670000     0.000000   \n",
      "50%        2.000000    61.670000    38.165000     5.670000     0.000000   \n",
      "75%        9.000000   120.415000    89.415000    12.330000     0.000000   \n",
      "max      404.000000  1018.670000  1052.330000   148.670000     2.330000   \n",
      "\n",
      "           callwait churn       months     uniqsubs     actvsubs        csa  \\\n",
      "count   1000.000000  1000  1000.000000  1000.000000  1000.000000       1000   \n",
      "unique          NaN     2          NaN          NaN          NaN        277   \n",
      "top             NaN     0          NaN          NaN          NaN  NYCBRO917   \n",
      "freq            NaN   703          NaN          NaN          NaN         37   \n",
      "mean       1.915810   NaN    18.802000     1.529000     1.346000        NaN   \n",
      "std        5.597785   NaN     9.919031     0.828158     0.605517        NaN   \n",
      "min        0.000000   NaN     6.000000     1.000000     1.000000        NaN   \n",
      "25%        0.000000   NaN    11.000000     1.000000     1.000000        NaN   \n",
      "50%        0.330000   NaN    16.000000     1.000000     1.000000        NaN   \n",
      "75%        1.670000   NaN    24.250000     2.000000     2.000000        NaN   \n",
      "max      101.000000   NaN    59.000000     8.000000     6.000000        NaN   \n",
      "\n",
      "             phones       models      eqpdays      customer        age1  \\\n",
      "count   1000.000000  1000.000000  1000.000000  1.000000e+03  1000.00000   \n",
      "unique          NaN          NaN          NaN           NaN         NaN   \n",
      "top             NaN          NaN          NaN           NaN         NaN   \n",
      "freq            NaN          NaN          NaN           NaN         NaN   \n",
      "mean       1.815000     1.581000   380.558000  1.050803e+06    30.98600   \n",
      "std        1.400977     0.957265   250.540258  2.904940e+04    22.15045   \n",
      "min        1.000000     1.000000    -1.000000  1.000057e+06     0.00000   \n",
      "25%        1.000000     1.000000   202.000000  1.025528e+06     0.00000   \n",
      "50%        1.000000     1.000000   332.000000  1.051723e+06    36.00000   \n",
      "75%        2.000000     2.000000   514.250000  1.075226e+06    48.00000   \n",
      "max       13.000000     9.000000  1344.000000  1.099979e+06    94.00000   \n",
      "\n",
      "               age2 children credita creditaa creditb creditc creditde  \\\n",
      "count   1000.000000     1000    1000     1000    1000    1000     1000   \n",
      "unique          NaN        2       2        2       2       2        2   \n",
      "top             NaN        0       0        0       0       0        0   \n",
      "freq            NaN      754     829      628     822     910      865   \n",
      "mean      20.664000      NaN     NaN      NaN     NaN     NaN      NaN   \n",
      "std       24.077101      NaN     NaN      NaN     NaN     NaN      NaN   \n",
      "min        0.000000      NaN     NaN      NaN     NaN     NaN      NaN   \n",
      "25%        0.000000      NaN     NaN      NaN     NaN     NaN      NaN   \n",
      "50%        0.000000      NaN     NaN      NaN     NaN     NaN      NaN   \n",
      "75%       42.000000      NaN     NaN      NaN     NaN     NaN      NaN   \n",
      "max       90.000000      NaN     NaN      NaN     NaN     NaN      NaN   \n",
      "\n",
      "       creditgy creditz credit_rating prizmrur prizmub prizmtwn przm_num  \\\n",
      "count      1000    1000          1000     1000    1000     1000     1000   \n",
      "unique        2       2             7        2       2        2        4   \n",
      "top           0       0             2        0       0        0        0   \n",
      "freq        983     963           372      953     684      850      542   \n",
      "mean        NaN     NaN           NaN      NaN     NaN      NaN      NaN   \n",
      "std         NaN     NaN           NaN      NaN     NaN      NaN      NaN   \n",
      "min         NaN     NaN           NaN      NaN     NaN      NaN      NaN   \n",
      "25%         NaN     NaN           NaN      NaN     NaN      NaN      NaN   \n",
      "50%         NaN     NaN           NaN      NaN     NaN      NaN      NaN   \n",
      "75%         NaN     NaN           NaN      NaN     NaN      NaN      NaN   \n",
      "max         NaN     NaN           NaN      NaN     NaN      NaN      NaN   \n",
      "\n",
      "       refurb webcap truck    rv occprof occcler occcrft occstud occhmkr  \\\n",
      "count    1000   1000  1000  1000    1000    1000    1000    1000    1000   \n",
      "unique      2      2     2     2       2       2       2       2       2   \n",
      "top         0      1     0     0       0       0       0       0       0   \n",
      "freq      870    900   805   924     832     977     971     997     999   \n",
      "mean      NaN    NaN   NaN   NaN     NaN     NaN     NaN     NaN     NaN   \n",
      "std       NaN    NaN   NaN   NaN     NaN     NaN     NaN     NaN     NaN   \n",
      "min       NaN    NaN   NaN   NaN     NaN     NaN     NaN     NaN     NaN   \n",
      "25%       NaN    NaN   NaN   NaN     NaN     NaN     NaN     NaN     NaN   \n",
      "50%       NaN    NaN   NaN   NaN     NaN     NaN     NaN     NaN     NaN   \n",
      "75%       NaN    NaN   NaN   NaN     NaN     NaN     NaN     NaN     NaN   \n",
      "max       NaN    NaN   NaN   NaN     NaN     NaN     NaN     NaN     NaN   \n",
      "\n",
      "       occret occself   occ occ_label ownrent marryun marryyes marryno marry  \\\n",
      "count    1000    1000  1000      1000    1000    1000     1000    1000  1000   \n",
      "unique      2       2     8         8       2       2        2       2     3   \n",
      "top         0       0     0      NONE       0       0        0       0     3   \n",
      "freq      983     986   745       745     669     616      645     739   384   \n",
      "mean      NaN     NaN   NaN       NaN     NaN     NaN      NaN     NaN   NaN   \n",
      "std       NaN     NaN   NaN       NaN     NaN     NaN      NaN     NaN   NaN   \n",
      "min       NaN     NaN   NaN       NaN     NaN     NaN      NaN     NaN   NaN   \n",
      "25%       NaN     NaN   NaN       NaN     NaN     NaN      NaN     NaN   NaN   \n",
      "50%       NaN     NaN   NaN       NaN     NaN     NaN      NaN     NaN   NaN   \n",
      "75%       NaN     NaN   NaN       NaN     NaN     NaN      NaN     NaN   NaN   \n",
      "max       NaN     NaN   NaN       NaN     NaN     NaN      NaN     NaN   NaN   \n",
      "\n",
      "       marry_label mailord mailres mailflag travel pcown creditcd  \\\n",
      "count         1000    1000    1000     1000   1000  1000     1000   \n",
      "unique           2       2       2        2      2     2        2   \n",
      "top        UNKNOWN       0       0        0      0     0        1   \n",
      "freq           739     655     642      981    952   822      675   \n",
      "mean           NaN     NaN     NaN      NaN    NaN   NaN      NaN   \n",
      "std            NaN     NaN     NaN      NaN    NaN   NaN      NaN   \n",
      "min            NaN     NaN     NaN      NaN    NaN   NaN      NaN   \n",
      "25%            NaN     NaN     NaN      NaN    NaN   NaN      NaN   \n",
      "50%            NaN     NaN     NaN      NaN    NaN   NaN      NaN   \n",
      "75%            NaN     NaN     NaN      NaN    NaN   NaN      NaN   \n",
      "max            NaN     NaN     NaN      NaN    NaN   NaN      NaN   \n",
      "\n",
      "           retcalls     retaccpt newcelly newcelln        refer incmiss  \\\n",
      "count   1000.000000  1000.000000     1000     1000  1000.000000    1000   \n",
      "unique          NaN          NaN        2        2          NaN       2   \n",
      "top             NaN          NaN        0        0          NaN       0   \n",
      "freq            NaN          NaN      801      883          NaN     762   \n",
      "mean       0.037000     0.021000      NaN      NaN     0.059000     NaN   \n",
      "std        0.199175     0.150272      NaN      NaN     0.354464     NaN   \n",
      "min        0.000000     0.000000      NaN      NaN     0.000000     NaN   \n",
      "25%        0.000000     0.000000      NaN      NaN     0.000000     NaN   \n",
      "50%        0.000000     0.000000      NaN      NaN     0.000000     NaN   \n",
      "75%        0.000000     0.000000      NaN      NaN     0.000000     NaN   \n",
      "max        2.000000     2.000000      NaN      NaN     6.000000     NaN   \n",
      "\n",
      "       income mcycle creditad setprcm       setprc retcall  \n",
      "count    1000   1000     1000    1000  1000.000000    1000  \n",
      "unique     10      2        6       2          NaN       2  \n",
      "top         0      0        0       1          NaN       0  \n",
      "freq      238    989      962     569          NaN     965  \n",
      "mean      NaN    NaN      NaN     NaN    36.935690     NaN  \n",
      "std       NaN    NaN      NaN     NaN    58.053305     NaN  \n",
      "min       NaN    NaN      NaN     NaN     0.000000     NaN  \n",
      "25%       NaN    NaN      NaN     NaN     0.000000     NaN  \n",
      "50%       NaN    NaN      NaN     NaN     0.000000     NaN  \n",
      "75%       NaN    NaN      NaN     NaN    59.990000     NaN  \n",
      "max       NaN    NaN      NaN     NaN   399.990000     NaN  \n"
     ]
    }
   ],
   "source": [
    "with pd.option_context('display.max_rows', None, 'display.max_columns', None):  # more options can be specified also\n",
    "    print(df.describe(include='all'))"
   ]
  },
  {
   "cell_type": "code",
   "execution_count": 25,
   "metadata": {},
   "outputs": [],
   "source": [
    "#creating a backup dataframe before removing outliers using IQR\n",
    "df3 = df"
   ]
  },
  {
   "cell_type": "code",
   "execution_count": 26,
   "metadata": {},
   "outputs": [],
   "source": [
    "#outlier detection \n",
    "Q1 = df.quantile(0.05)\n",
    "Q3 = df.quantile(0.95)\n",
    "IQR = Q3 - Q1"
   ]
  },
  {
   "cell_type": "code",
   "execution_count": 27,
   "metadata": {},
   "outputs": [],
   "source": [
    "#new dataframe with outliers removed\n",
    "df=df[~((df < (Q1 - 1.5 * IQR)) |(df > (Q3 + 1.5 * IQR))).any(axis=1)]"
   ]
  },
  {
   "cell_type": "code",
   "execution_count": 28,
   "metadata": {},
   "outputs": [
    {
     "data": {
      "text/plain": [
       "(822, 82)"
      ]
     },
     "execution_count": 28,
     "metadata": {},
     "output_type": "execute_result"
    }
   ],
   "source": [
    "#new dataframe shape\n",
    "df.shape"
   ]
  },
  {
   "cell_type": "code",
   "execution_count": 29,
   "metadata": {},
   "outputs": [
    {
     "data": {
      "text/plain": [
       "1    247\n",
       "0    575\n",
       "Name: churn, dtype: int64"
      ]
     },
     "execution_count": 29,
     "metadata": {},
     "output_type": "execute_result"
    }
   ],
   "source": [
    "#predicited variable count\n",
    "df['churn'].value_counts(ascending=True)"
   ]
  },
  {
   "cell_type": "markdown",
   "metadata": {},
   "source": [
    "### Grouping"
   ]
  },
  {
   "cell_type": "markdown",
   "metadata": {},
   "source": [
    "#### age1"
   ]
  },
  {
   "cell_type": "code",
   "execution_count": 30,
   "metadata": {},
   "outputs": [
    {
     "data": {
      "text/plain": [
       "90.0      1\n",
       "18.0      1\n",
       "74.0      1\n",
       "88.0      1\n",
       "86.0      1\n",
       "78.0      2\n",
       "20.0      2\n",
       "80.0      3\n",
       "76.0      3\n",
       "64.0      4\n",
       "70.0      5\n",
       "66.0      5\n",
       "72.0      6\n",
       "62.0      6\n",
       "22.0      7\n",
       "68.0      7\n",
       "60.0      9\n",
       "24.0     19\n",
       "56.0     22\n",
       "26.0     22\n",
       "50.0     23\n",
       "58.0     24\n",
       "48.0     25\n",
       "30.0     27\n",
       "54.0     29\n",
       "38.0     31\n",
       "32.0     31\n",
       "44.0     32\n",
       "36.0     33\n",
       "34.0     34\n",
       "52.0     35\n",
       "28.0     36\n",
       "42.0     36\n",
       "40.0     37\n",
       "46.0     40\n",
       "0.0     222\n",
       "Name: age1, dtype: int64"
      ]
     },
     "execution_count": 30,
     "metadata": {},
     "output_type": "execute_result"
    }
   ],
   "source": [
    "#value counts\n",
    "df['age1'].value_counts(ascending=True)"
   ]
  },
  {
   "cell_type": "code",
   "execution_count": 31,
   "metadata": {
    "scrolled": true
   },
   "outputs": [],
   "source": [
    "#Group the ages into groups\n",
    "binsage=[0,17, 25, 35, 45, 55, 65, 99]\n",
    "labelsage=['Missing','18-24','25-34','35-44','45-54', '55-64', '65+']\n",
    "df['age_group'] = pd.cut(df['age1'], binsage, labels=labelsage, include_lowest=True)"
   ]
  },
  {
   "cell_type": "code",
   "execution_count": 32,
   "metadata": {
    "scrolled": true
   },
   "outputs": [
    {
     "name": "stdout",
     "output_type": "stream",
     "text": [
      "Distinct values for age:\n",
      " {'35-44', '45-54', '65+', 'Missing', '25-34', '55-64', '18-24'}\n"
     ]
    }
   ],
   "source": [
    "#Age\n",
    "print(\"Distinct values for age:\\n\", set(df['age_group']))"
   ]
  },
  {
   "cell_type": "code",
   "execution_count": 33,
   "metadata": {},
   "outputs": [
    {
     "data": {
      "text/plain": [
       "18-24       29\n",
       "65+         35\n",
       "55-64       65\n",
       "25-34      150\n",
       "45-54      152\n",
       "35-44      169\n",
       "Missing    222\n",
       "Name: age_group, dtype: int64"
      ]
     },
     "execution_count": 33,
     "metadata": {},
     "output_type": "execute_result"
    }
   ],
   "source": [
    "df['age_group'].value_counts(ascending=True)"
   ]
  },
  {
   "cell_type": "markdown",
   "metadata": {},
   "source": [
    "#### age2"
   ]
  },
  {
   "cell_type": "code",
   "execution_count": 34,
   "metadata": {},
   "outputs": [
    {
     "name": "stdout",
     "output_type": "stream",
     "text": [
      "Distinct values for age:\n",
      " {'35-44', '45-54', '65+', 'Missing', '25-34', '55-64', '18-24'}\n"
     ]
    },
    {
     "data": {
      "text/plain": [
       "65+         28\n",
       "18-24       30\n",
       "55-64       44\n",
       "25-34       77\n",
       "35-44      101\n",
       "45-54      106\n",
       "Missing    436\n",
       "Name: age_group2, dtype: int64"
      ]
     },
     "execution_count": 34,
     "metadata": {},
     "output_type": "execute_result"
    }
   ],
   "source": [
    "#Group the ages for age2 into groups using same labels from age1\n",
    "df['age_group2'] = pd.cut(df['age2'], binsage, labels=labelsage, include_lowest=True)\n",
    "\n",
    "#Age\n",
    "print(\"Distinct values for age:\\n\", set(df['age_group2']))\n",
    "df['age_group2'].value_counts(ascending=True)"
   ]
  },
  {
   "cell_type": "markdown",
   "metadata": {},
   "source": [
    "#### roam"
   ]
  },
  {
   "cell_type": "code",
   "execution_count": 35,
   "metadata": {
    "scrolled": true
   },
   "outputs": [
    {
     "name": "stdout",
     "output_type": "stream",
     "text": [
      "roam Values\n",
      "Average roam:  0.41072726695902795\n",
      "Minimum roam:  0.0\n",
      "Maximum roam:  10.54\n",
      "Null values:  0\n",
      "Roam Value Counts: 1.73       1\n",
      "4.27       1\n",
      "3.49       1\n",
      "10.54      1\n",
      "6.91       1\n",
      "        ... \n",
      "0.32       8\n",
      "0.20      15\n",
      "0.16      17\n",
      "0.10      21\n",
      "0.00     593\n",
      "Name: roam, Length: 126, dtype: int64\n",
      "Number of Roam Zeroes:  593\n"
     ]
    }
   ],
   "source": [
    "print(\"roam Values\")\n",
    "print(\"Average roam: \", df['roam'].mean())\n",
    "print(\"Minimum roam: \", df['roam'].min())\n",
    "print(\"Maximum roam: \", df['roam'].max())\n",
    "print(\"Null values: \", pd.isnull(df['roam']).sum())\n",
    "print(\"Roam Value Counts:\", df['roam'].value_counts(ascending=True))\n",
    "#check # 0s in Roam\n",
    "print(\"Number of Roam Zeroes: \",(df['roam'] ==0).sum())"
   ]
  },
  {
   "cell_type": "code",
   "execution_count": 36,
   "metadata": {
    "scrolled": true
   },
   "outputs": [],
   "source": [
    "#create groups for roaming\n",
    "binsroam=[0,0.000000000001,1,2,3,4,5,6,7,8,9,10,11]\n",
    "labelsroam=['Not_Roaming','1','2','3','4','5','6','7','8','9','10','over 10']\n",
    "df['roaming_range'] = pd.cut(df['roam'], bins=binsroam, labels=labelsroam, include_lowest=True)"
   ]
  },
  {
   "cell_type": "code",
   "execution_count": 37,
   "metadata": {
    "scrolled": true
   },
   "outputs": [
    {
     "name": "stdout",
     "output_type": "stream",
     "text": [
      "Distinct values for roam range:\n",
      " {'6', '7', 'Not_Roaming', '9', '4', '2', '5', 'over 10', '1', '3', '8'}\n",
      "Value counts for roaming range 10               0\n",
      "over 10          1\n",
      "9                2\n",
      "8                4\n",
      "7                5\n",
      "6                6\n",
      "5                9\n",
      "3               11\n",
      "4               11\n",
      "2               42\n",
      "1              138\n",
      "Not_Roaming    593\n",
      "Name: roaming_range, dtype: int64\n"
     ]
    }
   ],
   "source": [
    "print(\"Distinct values for roam range:\\n\", set(df['roaming_range']))\n",
    "print(\"Value counts for roaming range\", df['roaming_range'].value_counts(ascending=True))"
   ]
  },
  {
   "cell_type": "code",
   "execution_count": 38,
   "metadata": {
    "scrolled": true
   },
   "outputs": [
    {
     "data": {
      "text/plain": [
       "revenue          float64\n",
       "mou              float64\n",
       "recchrge         float64\n",
       "directas         float64\n",
       "overage          float64\n",
       "                  ...   \n",
       "setprc           float64\n",
       "retcall           object\n",
       "age_group         object\n",
       "age_group2        object\n",
       "roaming_range     object\n",
       "Length: 85, dtype: object"
      ]
     },
     "execution_count": 38,
     "metadata": {},
     "output_type": "execute_result"
    }
   ],
   "source": [
    "#Make sure the datatype for these new grouped columns are strings/objects\n",
    "df['age_group'] = df['age_group'].astype(str)\n",
    "df['age_group2'] = df['age_group2'].astype(str)\n",
    "df['roaming_range'] = df['roaming_range'].astype(str)\n",
    "\n",
    "df.dtypes"
   ]
  },
  {
   "cell_type": "code",
   "execution_count": 39,
   "metadata": {
    "scrolled": true
   },
   "outputs": [],
   "source": [
    "#did they churn (this was done for visualization but not necessary)\n",
    "df['churn_status'] = df.churn.replace(to_replace=[0,1], value=['no','yes'])"
   ]
  },
  {
   "cell_type": "markdown",
   "metadata": {},
   "source": [
    "### Correlation and importance checks"
   ]
  },
  {
   "cell_type": "code",
   "execution_count": 40,
   "metadata": {
    "scrolled": true
   },
   "outputs": [
    {
     "name": "stdout",
     "output_type": "stream",
     "text": [
      "Object Columns:\n",
      " ['churn', 'csa', 'children', 'credita', 'creditaa', 'creditb', 'creditc', 'creditde', 'creditgy', 'creditz', 'credit_rating', 'prizmrur', 'prizmub', 'prizmtwn', 'przm_num', 'refurb', 'webcap', 'truck', 'rv', 'occprof', 'occcler', 'occcrft', 'occstud', 'occhmkr', 'occret', 'occself', 'occ', 'occ_label', 'ownrent', 'marryun', 'marryyes', 'marryno', 'marry', 'marry_label', 'mailord', 'mailres', 'mailflag', 'travel', 'pcown', 'creditcd', 'newcelly', 'newcelln', 'incmiss', 'income', 'mcycle', 'creditad', 'setprcm', 'retcall', 'age_group', 'age_group2', 'roaming_range', 'churn_status']\n"
     ]
    }
   ],
   "source": [
    "#checking which columns are objects/strings\n",
    "print(\"Object Columns:\\n\",list(df.select_dtypes(['object'])))"
   ]
  },
  {
   "cell_type": "code",
   "execution_count": 41,
   "metadata": {
    "scrolled": true
   },
   "outputs": [
    {
     "name": "stdout",
     "output_type": "stream",
     "text": [
      "Float Columns:\n",
      " ['revenue', 'mou', 'recchrge', 'directas', 'overage', 'roam', 'changem', 'changer', 'dropvce', 'blckvce', 'unansvce', 'custcare', 'threeway', 'mourec', 'outcalls', 'incalls', 'peakvce', 'opeakvce', 'dropblk', 'callfwdv', 'callwait', 'age1', 'age2', 'setprc']\n"
     ]
    }
   ],
   "source": [
    "#checking which columns are floats\n",
    "print(\"Float Columns:\\n\",list(df.select_dtypes(['float64'])))"
   ]
  },
  {
   "cell_type": "code",
   "execution_count": 42,
   "metadata": {
    "scrolled": true
   },
   "outputs": [
    {
     "name": "stdout",
     "output_type": "stream",
     "text": [
      "Int Columns:\n",
      " ['months', 'uniqsubs', 'actvsubs', 'phones', 'models', 'eqpdays', 'customer', 'retcalls', 'retaccpt', 'refer']\n"
     ]
    }
   ],
   "source": [
    "#checking which columns are integers\n",
    "print(\"Int Columns:\\n\",list(df.select_dtypes(['int64'])))"
   ]
  },
  {
   "cell_type": "code",
   "execution_count": 43,
   "metadata": {
    "scrolled": true
   },
   "outputs": [
    {
     "name": "stdout",
     "output_type": "stream",
     "text": [
      "(822, 86)\n",
      "(822, 52)\n",
      "(822, 34)\n"
     ]
    }
   ],
   "source": [
    "#separate the data into object vs nonobjects\n",
    "notif=df.select_dtypes(exclude=['int','float','int64'])\n",
    "intfldtypes = df.select_dtypes(include=['int','float','int64'])\n",
    "print(df.shape)\n",
    "print(notif.shape)\n",
    "print(intfldtypes.shape)"
   ]
  },
  {
   "cell_type": "code",
   "execution_count": 44,
   "metadata": {
    "scrolled": true
   },
   "outputs": [
    {
     "name": "stdout",
     "output_type": "stream",
     "text": [
      "(822, 85)\n"
     ]
    }
   ],
   "source": [
    "#label encode objects for correlaton/importance checking\n",
    "obj_le= notif.apply(LabelEncoder().fit_transform)\n",
    "\n",
    "\n",
    "#re-add with non-objects to df_ml\n",
    "df_ml= pd.concat([obj_le,intfldtypes], axis=1, sort=False)\n",
    "df_ml=df_ml.drop(['churn_status'], axis=1)\n",
    "\n",
    "\n",
    "#check shape\n",
    "print(df_ml.shape)"
   ]
  },
  {
   "cell_type": "markdown",
   "metadata": {},
   "source": [
    "#### Spearman's Correlation"
   ]
  },
  {
   "cell_type": "code",
   "execution_count": 45,
   "metadata": {
    "scrolled": true
   },
   "outputs": [
    {
     "name": "stdout",
     "output_type": "stream",
     "text": [
      "Spearman's Correlation:\n",
      "churn            1.000000\n",
      "eqpdays          0.108040\n",
      "refurb           0.100411\n",
      "roam             0.081060\n",
      "prizmub          0.056727\n",
      "months           0.050740\n",
      "setprcm          0.044384\n",
      "uniqsubs         0.042080\n",
      "creditc          0.041131\n",
      "marry            0.034076\n",
      "actvsubs         0.032985\n",
      "marryun          0.031545\n",
      "age_group        0.027069\n",
      "prizmrur         0.024777\n",
      "creditaa         0.024714\n",
      "age_group2       0.022143\n",
      "credita          0.016881\n",
      "overage          0.015045\n",
      "incmiss          0.011450\n",
      "ownrent          0.010160\n",
      "occ_label        0.009215\n",
      "creditz          0.007538\n",
      "income           0.007518\n",
      "mailflag         0.005134\n",
      "occstud          0.004336\n",
      "csa              0.003830\n",
      "occret           0.003692\n",
      "age2             0.003310\n",
      "occprof          0.001567\n",
      "newcelln        -0.004534\n",
      "pcown           -0.004606\n",
      "przm_num        -0.005845\n",
      "threeway        -0.007253\n",
      "marryyes        -0.007435\n",
      "creditb         -0.009634\n",
      "creditad        -0.012910\n",
      "occcrft         -0.014661\n",
      "age1            -0.017232\n",
      "newcelly        -0.021112\n",
      "occhmkr         -0.022874\n",
      "truck           -0.024540\n",
      "marryno         -0.026379\n",
      "marry_label     -0.026379\n",
      "rv              -0.026428\n",
      "creditcd        -0.026854\n",
      "prizmtwn        -0.028339\n",
      "changer         -0.031916\n",
      "occ             -0.032862\n",
      "revenue         -0.032905\n",
      "setprc          -0.032945\n",
      "occself         -0.035527\n",
      "mcycle          -0.037946\n",
      "children        -0.042250\n",
      "directas        -0.043221\n",
      "blckvce         -0.043543\n",
      "occcler         -0.043674\n",
      "phones          -0.044333\n",
      "credit_rating   -0.044515\n",
      "mailres         -0.045252\n",
      "callwait        -0.049148\n",
      "models          -0.050591\n",
      "creditde        -0.053595\n",
      "customer        -0.057741\n",
      "mailord         -0.060496\n",
      "travel          -0.064411\n",
      "creditgy        -0.069531\n",
      "dropblk         -0.071918\n",
      "peakvce         -0.074349\n",
      "roaming_range   -0.074933\n",
      "unansvce        -0.077226\n",
      "dropvce         -0.077544\n",
      "changem         -0.077685\n",
      "webcap          -0.079049\n",
      "custcare        -0.088075\n",
      "recchrge        -0.090420\n",
      "incalls         -0.097669\n",
      "mourec          -0.097822\n",
      "outcalls        -0.100629\n",
      "mou             -0.120161\n",
      "opeakvce        -0.129500\n",
      "retcall               NaN\n",
      "callfwdv              NaN\n",
      "retcalls              NaN\n",
      "retaccpt              NaN\n",
      "refer                 NaN\n",
      "Name: churn, dtype: float64\n"
     ]
    }
   ],
   "source": [
    "#check correlation\n",
    "#Spearman's correlation\n",
    "print(\"Spearman's Correlation:\")\n",
    "with pd.option_context('display.max_rows', None, 'display.max_columns', None):  # more options can be specified also\n",
    "    print(df_ml.corr(method='spearman')['churn'].sort_values(ascending=False))\n",
    "#corr[np.argsort(corr,axis=0)[::-1]]"
   ]
  },
  {
   "cell_type": "markdown",
   "metadata": {},
   "source": [
    "#### Kendall's Correlation"
   ]
  },
  {
   "cell_type": "code",
   "execution_count": 46,
   "metadata": {
    "scrolled": true
   },
   "outputs": [
    {
     "name": "stdout",
     "output_type": "stream",
     "text": [
      "Kendall's Correlation\n",
      "churn            1.000000\n",
      "refurb           0.100411\n",
      "eqpdays          0.088326\n",
      "roam             0.075685\n",
      "prizmub          0.056727\n",
      "setprcm          0.044384\n",
      "months           0.042228\n",
      "creditc          0.041131\n",
      "uniqsubs         0.040625\n",
      "actvsubs         0.032551\n",
      "marry            0.032169\n",
      "marryun          0.031545\n",
      "prizmrur         0.024777\n",
      "creditaa         0.024714\n",
      "age_group        0.024073\n",
      "age_group2       0.020270\n",
      "credita          0.016881\n",
      "overage          0.013141\n",
      "incmiss          0.011450\n",
      "ownrent          0.010160\n",
      "occ_label        0.008900\n",
      "creditz          0.007538\n",
      "income           0.006536\n",
      "mailflag         0.005134\n",
      "occstud          0.004336\n",
      "occret           0.003692\n",
      "csa              0.003142\n",
      "age2             0.002960\n",
      "occprof          0.001567\n",
      "newcelln        -0.004534\n",
      "pcown           -0.004606\n",
      "przm_num        -0.005547\n",
      "threeway        -0.006963\n",
      "marryyes        -0.007435\n",
      "creditb         -0.009634\n",
      "creditad        -0.012863\n",
      "occcrft         -0.014661\n",
      "age1            -0.014661\n",
      "newcelly        -0.021112\n",
      "occhmkr         -0.022874\n",
      "truck           -0.024540\n",
      "changer         -0.026277\n",
      "marry_label     -0.026379\n",
      "marryno         -0.026379\n",
      "rv              -0.026428\n",
      "creditcd        -0.026854\n",
      "revenue         -0.026901\n",
      "prizmtwn        -0.028339\n",
      "setprc          -0.030509\n",
      "occ             -0.031738\n",
      "occself         -0.035527\n",
      "blckvce         -0.037401\n",
      "mcycle          -0.037946\n",
      "directas        -0.039044\n",
      "credit_rating   -0.040060\n",
      "children        -0.042250\n",
      "phones          -0.042291\n",
      "occcler         -0.043674\n",
      "callwait        -0.044371\n",
      "mailres         -0.045252\n",
      "customer        -0.047174\n",
      "models          -0.049018\n",
      "creditde        -0.053595\n",
      "dropblk         -0.059662\n",
      "mailord         -0.060496\n",
      "peakvce         -0.061004\n",
      "changem         -0.063497\n",
      "unansvce        -0.063568\n",
      "travel          -0.064411\n",
      "dropvce         -0.064866\n",
      "creditgy        -0.069531\n",
      "roaming_range   -0.071943\n",
      "recchrge        -0.075686\n",
      "webcap          -0.079049\n",
      "custcare        -0.080379\n",
      "mourec          -0.080610\n",
      "outcalls        -0.083098\n",
      "incalls         -0.083561\n",
      "mou             -0.098193\n",
      "opeakvce        -0.106335\n",
      "retcall               NaN\n",
      "callfwdv              NaN\n",
      "retcalls              NaN\n",
      "retaccpt              NaN\n",
      "refer                 NaN\n",
      "Name: churn, dtype: float64\n"
     ]
    }
   ],
   "source": [
    "print(\"Kendall's Correlation\")\n",
    "with pd.option_context('display.max_rows', None, 'display.max_columns', None):  # more options can be specified also\n",
    "    print(df_ml.corr(method ='kendall')['churn'].sort_values(ascending=False))"
   ]
  },
  {
   "cell_type": "code",
   "execution_count": 47,
   "metadata": {
    "scrolled": false
   },
   "outputs": [
    {
     "data": {
      "text/plain": [
       "Index(['churn', 'csa', 'children', 'credita', 'creditaa', 'creditb', 'creditc',\n",
       "       'creditde', 'creditgy', 'creditz', 'credit_rating', 'prizmrur',\n",
       "       'prizmub', 'prizmtwn', 'przm_num', 'refurb', 'webcap', 'truck', 'rv',\n",
       "       'occprof', 'occcler', 'occcrft', 'occstud', 'occhmkr', 'occret',\n",
       "       'occself', 'occ', 'occ_label', 'ownrent', 'marryun', 'marryyes',\n",
       "       'marryno', 'marry', 'marry_label', 'mailord', 'mailres', 'mailflag',\n",
       "       'travel', 'pcown', 'creditcd', 'newcelly', 'newcelln', 'incmiss',\n",
       "       'income', 'mcycle', 'creditad', 'setprcm', 'retcall', 'age_group',\n",
       "       'age_group2', 'roaming_range', 'revenue', 'mou', 'recchrge', 'directas',\n",
       "       'overage', 'roam', 'changem', 'changer', 'dropvce', 'blckvce',\n",
       "       'unansvce', 'custcare', 'threeway', 'mourec', 'outcalls', 'incalls',\n",
       "       'peakvce', 'opeakvce', 'dropblk', 'callfwdv', 'callwait', 'months',\n",
       "       'uniqsubs', 'actvsubs', 'phones', 'models', 'eqpdays', 'customer',\n",
       "       'age1', 'age2', 'retcalls', 'retaccpt', 'refer', 'setprc'],\n",
       "      dtype='object')"
      ]
     },
     "execution_count": 47,
     "metadata": {},
     "output_type": "execute_result"
    }
   ],
   "source": [
    "df_ml.columns"
   ]
  },
  {
   "cell_type": "markdown",
   "metadata": {},
   "source": [
    "#### Chi-Square for importance"
   ]
  },
  {
   "cell_type": "code",
   "execution_count": 48,
   "metadata": {},
   "outputs": [
    {
     "name": "stdout",
     "output_type": "stream",
     "text": [
      "The column age_group2 is NOT an important predictor.\n",
      "The column csa is NOT an important predictor.\n",
      "The column occ_label is NOT an important predictor.\n",
      "The column marry_label is NOT an important predictor.\n",
      "The column age_group is NOT an important predictor.\n",
      "The column roaming_range is NOT an important predictor.\n",
      "The column revenue is NOT an important predictor.\n",
      "The column mou is NOT an important predictor.\n",
      "The column recchrge is NOT an important predictor.\n",
      "The column directas is NOT an important predictor.\n",
      "The column overage is NOT an important predictor.\n",
      "The column roam is NOT an important predictor.\n",
      "The column changem is NOT an important predictor.\n",
      "The column changer is NOT an important predictor.\n",
      "The column dropvce is NOT an important predictor.\n",
      "The column blckvce is NOT an important predictor.\n",
      "The column unansvce is NOT an important predictor.\n",
      "The column custcare is NOT an important predictor.\n",
      "The column threeway is NOT an important predictor.\n",
      "The column mourec is NOT an important predictor.\n",
      "The column outcalls is NOT an important predictor.\n",
      "The column incalls is NOT an important predictor.\n",
      "The column peakvce is NOT an important predictor.\n",
      "The column opeakvce is NOT an important predictor.\n",
      "The column dropblk is NOT an important predictor.\n",
      "The column callfwdv is NOT an important predictor.\n",
      "The column callwait is NOT an important predictor.\n",
      "\n",
      "~~~~The column months is IMPORTANT for Prediction.~~~~\n",
      "\n",
      "The column uniqsubs is NOT an important predictor.\n",
      "The column actvsubs is NOT an important predictor.\n",
      "The column phones is NOT an important predictor.\n",
      "The column models is NOT an important predictor.\n",
      "The column eqpdays is NOT an important predictor.\n",
      "The column customer is NOT an important predictor.\n",
      "The column age1 is NOT an important predictor.\n",
      "The column age2 is NOT an important predictor.\n",
      "The column children is NOT an important predictor.\n",
      "The column credita is NOT an important predictor.\n",
      "The column creditaa is NOT an important predictor.\n",
      "The column creditb is NOT an important predictor.\n",
      "The column creditc is NOT an important predictor.\n",
      "The column creditde is NOT an important predictor.\n",
      "\n",
      "~~~~The column creditgy is IMPORTANT for Prediction.~~~~\n",
      "\n",
      "The column creditz is NOT an important predictor.\n",
      "The column credit_rating is NOT an important predictor.\n",
      "The column prizmrur is NOT an important predictor.\n",
      "The column prizmub is NOT an important predictor.\n",
      "The column prizmtwn is NOT an important predictor.\n",
      "\n",
      "~~~~The column przm_num is IMPORTANT for Prediction.~~~~\n",
      "\n",
      "\n",
      "~~~~The column refurb is IMPORTANT for Prediction.~~~~\n",
      "\n",
      "\n",
      "~~~~The column webcap is IMPORTANT for Prediction.~~~~\n",
      "\n",
      "The column truck is NOT an important predictor.\n",
      "The column rv is NOT an important predictor.\n",
      "The column occprof is NOT an important predictor.\n",
      "The column occcler is NOT an important predictor.\n",
      "The column occcrft is NOT an important predictor.\n",
      "The column occstud is NOT an important predictor.\n",
      "The column occhmkr is NOT an important predictor.\n",
      "The column occret is NOT an important predictor.\n",
      "The column occself is NOT an important predictor.\n",
      "The column occ is NOT an important predictor.\n",
      "The column ownrent is NOT an important predictor.\n",
      "The column marryun is NOT an important predictor.\n",
      "The column marryyes is NOT an important predictor.\n",
      "The column marryno is NOT an important predictor.\n",
      "The column marry is NOT an important predictor.\n",
      "\n",
      "~~~~The column mailord is IMPORTANT for Prediction.~~~~\n",
      "\n",
      "The column mailres is NOT an important predictor.\n",
      "The column mailflag is NOT an important predictor.\n",
      "\n",
      "~~~~The column travel is IMPORTANT for Prediction.~~~~\n",
      "\n",
      "The column pcown is NOT an important predictor.\n",
      "The column creditcd is NOT an important predictor.\n",
      "The column retcalls is NOT an important predictor.\n",
      "The column retaccpt is NOT an important predictor.\n",
      "The column newcelly is NOT an important predictor.\n",
      "The column newcelln is NOT an important predictor.\n",
      "The column refer is NOT an important predictor.\n",
      "The column incmiss is NOT an important predictor.\n",
      "The column income is NOT an important predictor.\n",
      "The column mcycle is NOT an important predictor.\n",
      "The column creditad is NOT an important predictor.\n",
      "The column setprcm is NOT an important predictor.\n",
      "The column setprc is NOT an important predictor.\n",
      "The column retcall is NOT an important predictor.\n"
     ]
    }
   ],
   "source": [
    "class ChiSquare:\n",
    "    def __init__(self, dataframe):\n",
    "        self.df_ml = dataframe\n",
    "        self.p = None #P-Value\n",
    "        self.chi2 = None #Chi Test Statistic\n",
    "        self.dof = None\n",
    "        \n",
    "        self.df_mlObserved = None\n",
    "        self.df_mlExpected = None\n",
    "        \n",
    "    def _print_chisquare_result(self, colX, alpha):\n",
    "        result = \"\"\n",
    "        if self.p<alpha:\n",
    "            result=\"\\n~~~~The column {0} is IMPORTANT for Prediction.~~~~\\n\".format(colX)\n",
    "        else:\n",
    "            result=\"The column {0} is NOT an important predictor.\".format(colX)\n",
    "\n",
    "        print(result)\n",
    "        \n",
    "    def TestIndependence(self,colX,colY, alpha=0.10):\n",
    "        X = self.df_ml[colX].astype(str)\n",
    "        Y = self.df_ml[colY].astype(str)\n",
    "        \n",
    "        self.df_mlObserved = pd.crosstab(Y,X) \n",
    "        chi2, p, dof, expected = stats.chi2_contingency(self.df_mlObserved.values)\n",
    "        self.p = p\n",
    "        self.chi2 = chi2\n",
    "        self.dof = dof \n",
    "        \n",
    "        self.df_mlExpected = pd.DataFrame(expected, columns=self.df_mlObserved.columns, \n",
    "                                       index = self.df_mlObserved.index)\n",
    "        \n",
    "        self._print_chisquare_result(colX,alpha)\n",
    "\n",
    "#Initialize ChiSquare Class\n",
    "cT = ChiSquare(df_ml)\n",
    "\n",
    "#Feature Selection\n",
    "testColumns = ['age_group2','csa', 'occ_label', 'marry_label', 'age_group', 'roaming_range',\n",
    "               'revenue', 'mou', 'recchrge', 'directas', 'overage', 'roam', 'changem',\n",
    "               'changer', 'dropvce', 'blckvce', 'unansvce', 'custcare', 'threeway',\n",
    "               'mourec', 'outcalls', 'incalls', 'peakvce', 'opeakvce', 'dropblk',\n",
    "               'callfwdv', 'callwait', 'months', 'uniqsubs', 'actvsubs',\n",
    "               'phones', 'models', 'eqpdays', 'customer', 'age1','age2', 'children',\n",
    "               'credita', 'creditaa', 'creditb', 'creditc', 'creditde', 'creditgy',\n",
    "               'creditz', 'credit_rating', 'prizmrur', 'prizmub', 'prizmtwn',\n",
    "               'przm_num', 'refurb', 'webcap', 'truck', 'rv', 'occprof', 'occcler',\n",
    "               'occcrft', 'occstud', 'occhmkr', 'occret', 'occself', 'occ', 'ownrent',\n",
    "               'marryun', 'marryyes', 'marryno', 'marry', 'mailord', 'mailres',\n",
    "               'mailflag', 'travel', 'pcown', 'creditcd', 'retcalls', 'retaccpt',\n",
    "               'newcelly', 'newcelln', 'refer', 'incmiss', 'income', 'mcycle',\n",
    "               'creditad', 'setprcm', 'setprc', 'retcall']\n",
    "for var in testColumns:\n",
    "    cT.TestIndependence(colX=var,colY=\"churn\" )"
   ]
  },
  {
   "cell_type": "code",
   "execution_count": 49,
   "metadata": {
    "scrolled": true
   },
   "outputs": [],
   "source": [
    "df = df_ml"
   ]
  },
  {
   "cell_type": "code",
   "execution_count": 50,
   "metadata": {
    "scrolled": true
   },
   "outputs": [],
   "source": [
    "#new columns\n",
    "\"\"\"\n",
    "We will be making new columns out of the important columns from the Chi-Squared test above.\n",
    "\n",
    "The important columns are as follows: \n",
    "                            months, creditgy, przm_num, refurb, webcap, mailord, and travel.\n",
    "\n",
    "Some will be columns that I think would match well with the important column \n",
    "and others will be a combination of important columns. \n",
    "\n",
    "\"\"\"\n",
    "\n",
    "#months\n",
    "df['months_mou'] = df['months'].astype(str) + '_' + df['mou'].astype(str)\n",
    "df['months_creditgy'] = df['months'].astype(str) + '_' + df['creditgy'].astype(str)\n",
    "df['months_przm_num'] = df['months'].astype(str) + '_' + df['przm_num'].astype(str)\n",
    "df['months_refurb'] = df['months'].astype(str) + '_' + df['refurb'].astype(str)\n",
    "df['months_webcap'] = df['months'].astype(str) + '_' + df['webcap'].astype(str)\n",
    "df['months_mailord'] = df['months'].astype(str) + '_' + df['mailord'].astype(str)\n",
    "df['months_travel'] = df['months'].astype(str) + '_' + df['travel'].astype(str)\n",
    "df['months_models'] = df['months'].astype(str) + '_' + df['models'].astype(str)\n",
    "df['months_agegroup'] = df['months'].astype(str) + '_' + df['age_group'].astype(str)\n",
    "df['months_agegroup2'] = df['months'].astype(str) + '_' + df['age_group2'].astype(str)\n",
    "\n",
    "#creditgy\n",
    "df['creditgy_przm_num'] = df['creditgy'].astype(str) + '_' + df['przm_num'].astype(str)\n",
    "df['creditgy_refurb'] = df['creditgy'].astype(str) + '_' + df['refurb'].astype(str)\n",
    "df['creditgy_webcap'] = df['creditgy'].astype(str) + '_' + df['webcap'].astype(str)\n",
    "df['creditgy_mailord'] = df['creditgy'].astype(str) + '_' + df['mailord'].astype(str)\n",
    "df['creditgy_travel'] = df['creditgy'].astype(str) + '_' + df['travel'].astype(str)\n",
    "df['creditgy_income'] = df['creditgy'].astype(str) + '_' + df['income'].astype(str)\n",
    "df['creditgy_agegroup'] = df['creditgy'].astype(str) + '_' + df['age_group'].astype(str)\n",
    "df['creditgy_agegroup2'] = df['creditgy'].astype(str) + '_' + df['age_group2'].astype(str)\n",
    "df['creditgy_occ'] = df['creditgy'].astype(str) + '_' + df['occ'].astype(str)\n",
    "\n",
    "#przm_num\n",
    "df['przm_num_refurb'] = df['przm_num'].astype(str) + '_' + df['refurb'].astype(str)\n",
    "df['przm_num_webcap'] = df['przm_num'].astype(str) + '_' + df['webcap'].astype(str)\n",
    "df['przm_num_mailord'] = df['przm_num'].astype(str) + '_' + df['mailord'].astype(str)\n",
    "df['przm_num_travel'] = df['przm_num'].astype(str) + '_' + df['travel'].astype(str)\n",
    "df['przm_num_dropblk'] = df['przm_num'].astype(str) + '_' + df['dropblk'].astype(str)\n",
    "df['przm_num_dropvce'] = df['przm_num'].astype(str) + '_' + df['dropvce'].astype(str)\n",
    "df['przm_num_roam_range'] = df['przm_num'].astype(str) + '_' + df['roaming_range'].astype(str)\n",
    "\n",
    "\n",
    "#refurb\n",
    "df['refurb_webcap'] = df['refurb'].astype(str) + '_' + df['webcap'].astype(str)\n",
    "df['refurb_mailord'] = df['refurb'].astype(str) + '_' + df['mailord'].astype(str)\n",
    "df['refurb_travel'] = df['refurb'].astype(str) + '_' + df['travel'].astype(str)\n",
    "df['refurb_models'] = df['refurb'].astype(str) + '_' + df['models'].astype(str)\n",
    "df['refurb_dropblk'] = df['refurb'].astype(str) + '_' + df['dropblk'].astype(str)\n",
    "df['refurb_dropvce'] = df['refurb'].astype(str) + '_' + df['dropvce'].astype(str)\n",
    "df['refurb_custcare'] = df['refurb'].astype(str) + '_' + df['custcare'].astype(str)\n",
    "df['refurb_retcalls'] = df['refurb'].astype(str) + '_' + df['retcalls'].astype(str)\n",
    "df['refurb_retcall'] = df['refurb'].astype(str) + '_' + df['retcall'].astype(str)\n",
    "\n",
    "#webcap\n",
    "df['webcap_mailord'] = df['webcap'].astype(str) + '_' + df['mailord'].astype(str)\n",
    "df['webcap_travel'] = df['webcap'].astype(str) + '_' + df['travel'].astype(str)\n",
    "df['webcap_agegroup'] = df['webcap'].astype(str) + '_' + df['age_group'].astype(str)\n",
    "df['webcap_agegroup2'] = df['webcap'].astype(str) + '_' + df['age_group2'].astype(str)\n",
    "df['webcap_income'] = df['webcap'].astype(str) + '_' + df['income'].astype(str)\n",
    "df['webcap_setprc'] = df['webcap'].astype(str) + '_' + df['setprc'].astype(str)\n",
    "df['webcap_retcall'] = df['webcap'].astype(str) + '_' + df['retcall'].astype(str)\n",
    "\n",
    "#mailord\n",
    "df['mailord_travel'] = df['mailord'].astype(str) + '_' + df['travel'].astype(str)\n",
    "df['mailord_mailres'] = df['mailord'].astype(str) + '_' + df['mailres'].astype(str)\n",
    "df['mailord_mailflag'] = df['mailord'].astype(str) + '_' + df['mailflag'].astype(str)\n",
    "df['mailord_agegroup'] = df['mailord'].astype(str) + '_' + df['age_group'].astype(str)\n",
    "df['mailord_agegroup2'] = df['mailord'].astype(str) + '_' + df['age_group2'].astype(str)\n",
    "\n",
    "#travel\n",
    "df['travel_roaming_range'] =df['travel'].astype(str) + '_' + df['roaming_range'].astype(str)\n",
    "df['travel_income'] =df['travel'].astype(str) + '_' + df['income'].astype(str)\n",
    "df['travel_occ'] =df['travel'].astype(str) + '_' + df['occ'].astype(str)\n",
    "df['travel_marry'] =df['travel'].astype(str) + '_' + df['marry'].astype(str)\n"
   ]
  },
  {
   "cell_type": "code",
   "execution_count": 51,
   "metadata": {},
   "outputs": [
    {
     "name": "stdout",
     "output_type": "stream",
     "text": [
      "(822, 136)\n",
      "(822, 51)\n",
      "(822, 85)\n"
     ]
    }
   ],
   "source": [
    "#re_separate the data into object vs nonobjects\n",
    "notif2=df.select_dtypes(exclude=['int','float','int64'])\n",
    "intfldtypes2 = df.select_dtypes(include=['int','float','int64'])\n",
    "print(df.shape)\n",
    "print(notif2.shape)\n",
    "print(intfldtypes2.shape)"
   ]
  },
  {
   "cell_type": "code",
   "execution_count": 52,
   "metadata": {},
   "outputs": [
    {
     "name": "stdout",
     "output_type": "stream",
     "text": [
      "(822, 136)\n"
     ]
    }
   ],
   "source": [
    "#label encode objects\n",
    "obj_le2= notif2.apply(LabelEncoder().fit_transform)\n",
    "#re-add with non-objects\n",
    "df_ml2= pd.concat([obj_le2,intfldtypes2], axis=1, sort=False)\n",
    "#df_ml2=df_ml2.drop(['churn_status'], axis=1)\n",
    "#check shape\n",
    "print(df_ml2.shape)"
   ]
  },
  {
   "cell_type": "code",
   "execution_count": 53,
   "metadata": {},
   "outputs": [
    {
     "name": "stdout",
     "output_type": "stream",
     "text": [
      "['months_mou', 'months_creditgy', 'months_przm_num', 'months_refurb', 'months_webcap', 'months_mailord', 'months_travel', 'months_models', 'months_agegroup', 'months_agegroup2', 'creditgy_przm_num', 'creditgy_refurb', 'creditgy_webcap', 'creditgy_mailord', 'creditgy_travel', 'creditgy_income', 'creditgy_agegroup', 'creditgy_agegroup2', 'creditgy_occ', 'przm_num_refurb', 'przm_num_webcap', 'przm_num_mailord', 'przm_num_travel', 'przm_num_dropblk', 'przm_num_dropvce', 'przm_num_roam_range', 'refurb_webcap', 'refurb_mailord', 'refurb_travel', 'refurb_models', 'refurb_dropblk', 'refurb_dropvce', 'refurb_custcare', 'refurb_retcalls', 'refurb_retcall', 'webcap_mailord', 'webcap_travel', 'webcap_agegroup', 'webcap_agegroup2', 'webcap_income', 'webcap_setprc', 'webcap_retcall', 'mailord_travel', 'mailord_mailres', 'mailord_mailflag', 'mailord_agegroup', 'mailord_agegroup2', 'travel_roaming_range', 'travel_income', 'travel_occ', 'travel_marry', 'churn', 'csa', 'children', 'credita', 'creditaa', 'creditb', 'creditc', 'creditde', 'creditgy', 'creditz', 'credit_rating', 'prizmrur', 'prizmub', 'prizmtwn', 'przm_num', 'refurb', 'webcap', 'truck', 'rv', 'occprof', 'occcler', 'occcrft', 'occstud', 'occhmkr', 'occret', 'occself', 'occ', 'occ_label', 'ownrent', 'marryun', 'marryyes', 'marryno', 'marry', 'marry_label', 'mailord', 'mailres', 'mailflag', 'travel', 'pcown', 'creditcd', 'newcelly', 'newcelln', 'incmiss', 'income', 'mcycle', 'creditad', 'setprcm', 'retcall', 'age_group', 'age_group2', 'roaming_range', 'revenue', 'mou', 'recchrge', 'directas', 'overage', 'roam', 'changem', 'changer', 'dropvce', 'blckvce', 'unansvce', 'custcare', 'threeway', 'mourec', 'outcalls', 'incalls', 'peakvce', 'opeakvce', 'dropblk', 'callfwdv', 'callwait', 'months', 'uniqsubs', 'actvsubs', 'phones', 'models', 'eqpdays', 'customer', 'age1', 'age2', 'retcalls', 'retaccpt', 'refer', 'setprc']\n"
     ]
    }
   ],
   "source": [
    "pd.options.display.max_columns = None\n",
    "pd.options.display.max_rows = None\n",
    "print(df_ml2.columns.tolist())"
   ]
  },
  {
   "cell_type": "code",
   "execution_count": 54,
   "metadata": {
    "scrolled": false
   },
   "outputs": [
    {
     "name": "stdout",
     "output_type": "stream",
     "text": [
      "The column months_mou is NOT an important predictor.\n",
      "\n",
      "~~~~The column months_creditgy is IMPORTANT for Prediction.~~~~\n",
      "\n",
      "\n",
      "~~~~The column months_przm_num is IMPORTANT for Prediction.~~~~\n",
      "\n",
      "\n",
      "~~~~The column months_refurb is IMPORTANT for Prediction.~~~~\n",
      "\n",
      "\n",
      "~~~~The column months_webcap is IMPORTANT for Prediction.~~~~\n",
      "\n",
      "The column months_mailord is NOT an important predictor.\n",
      "The column months_travel is NOT an important predictor.\n",
      "\n",
      "~~~~The column months_models is IMPORTANT for Prediction.~~~~\n",
      "\n",
      "The column months_agegroup is NOT an important predictor.\n",
      "The column months_agegroup2 is NOT an important predictor.\n",
      "\n",
      "~~~~The column creditgy_przm_num is IMPORTANT for Prediction.~~~~\n",
      "\n",
      "\n",
      "~~~~The column creditgy_refurb is IMPORTANT for Prediction.~~~~\n",
      "\n",
      "\n",
      "~~~~The column creditgy_webcap is IMPORTANT for Prediction.~~~~\n",
      "\n",
      "\n",
      "~~~~The column creditgy_mailord is IMPORTANT for Prediction.~~~~\n",
      "\n",
      "\n",
      "~~~~The column creditgy_travel is IMPORTANT for Prediction.~~~~\n",
      "\n",
      "The column creditgy_income is NOT an important predictor.\n",
      "The column creditgy_agegroup is NOT an important predictor.\n",
      "The column creditgy_agegroup2 is NOT an important predictor.\n",
      "The column creditgy_occ is NOT an important predictor.\n",
      "\n",
      "~~~~The column przm_num_refurb is IMPORTANT for Prediction.~~~~\n",
      "\n",
      "\n",
      "~~~~The column przm_num_webcap is IMPORTANT for Prediction.~~~~\n",
      "\n",
      "\n",
      "~~~~The column przm_num_mailord is IMPORTANT for Prediction.~~~~\n",
      "\n",
      "The column przm_num_travel is NOT an important predictor.\n",
      "The column przm_num_dropblk is NOT an important predictor.\n",
      "The column przm_num_dropvce is NOT an important predictor.\n",
      "The column przm_num_roam_range is NOT an important predictor.\n",
      "\n",
      "~~~~The column refurb_webcap is IMPORTANT for Prediction.~~~~\n",
      "\n",
      "\n",
      "~~~~The column refurb_mailord is IMPORTANT for Prediction.~~~~\n",
      "\n",
      "\n",
      "~~~~The column refurb_travel is IMPORTANT for Prediction.~~~~\n",
      "\n",
      "\n",
      "~~~~The column refurb_models is IMPORTANT for Prediction.~~~~\n",
      "\n",
      "The column refurb_dropblk is NOT an important predictor.\n",
      "The column refurb_dropvce is NOT an important predictor.\n",
      "The column refurb_custcare is NOT an important predictor.\n",
      "\n",
      "~~~~The column refurb_retcalls is IMPORTANT for Prediction.~~~~\n",
      "\n",
      "\n",
      "~~~~The column refurb_retcall is IMPORTANT for Prediction.~~~~\n",
      "\n",
      "\n",
      "~~~~The column webcap_mailord is IMPORTANT for Prediction.~~~~\n",
      "\n",
      "\n",
      "~~~~The column webcap_travel is IMPORTANT for Prediction.~~~~\n",
      "\n",
      "The column webcap_agegroup is NOT an important predictor.\n",
      "The column webcap_agegroup2 is NOT an important predictor.\n",
      "The column webcap_income is NOT an important predictor.\n",
      "\n",
      "~~~~The column webcap_setprc is IMPORTANT for Prediction.~~~~\n",
      "\n",
      "\n",
      "~~~~The column webcap_retcall is IMPORTANT for Prediction.~~~~\n",
      "\n",
      "The column mailord_travel is NOT an important predictor.\n",
      "\n",
      "~~~~The column mailord_mailres is IMPORTANT for Prediction.~~~~\n",
      "\n",
      "The column mailord_mailflag is NOT an important predictor.\n",
      "The column mailord_agegroup is NOT an important predictor.\n",
      "The column mailord_agegroup2 is NOT an important predictor.\n",
      "The column travel_roaming_range is NOT an important predictor.\n",
      "The column travel_income is NOT an important predictor.\n",
      "The column travel_occ is NOT an important predictor.\n",
      "The column travel_marry is NOT an important predictor.\n",
      "The column csa is NOT an important predictor.\n",
      "The column children is NOT an important predictor.\n",
      "The column credita is NOT an important predictor.\n",
      "The column creditaa is NOT an important predictor.\n",
      "The column creditb is NOT an important predictor.\n",
      "The column creditc is NOT an important predictor.\n",
      "The column creditde is NOT an important predictor.\n",
      "\n",
      "~~~~The column creditgy is IMPORTANT for Prediction.~~~~\n",
      "\n",
      "The column creditz is NOT an important predictor.\n",
      "The column credit_rating is NOT an important predictor.\n",
      "The column prizmrur is NOT an important predictor.\n",
      "The column prizmub is NOT an important predictor.\n",
      "The column prizmtwn is NOT an important predictor.\n",
      "\n",
      "~~~~The column przm_num is IMPORTANT for Prediction.~~~~\n",
      "\n",
      "\n",
      "~~~~The column refurb is IMPORTANT for Prediction.~~~~\n",
      "\n",
      "\n",
      "~~~~The column webcap is IMPORTANT for Prediction.~~~~\n",
      "\n",
      "The column truck is NOT an important predictor.\n",
      "The column rv is NOT an important predictor.\n",
      "The column occprof is NOT an important predictor.\n",
      "The column occcler is NOT an important predictor.\n",
      "The column occcrft is NOT an important predictor.\n",
      "The column occstud is NOT an important predictor.\n",
      "The column occhmkr is NOT an important predictor.\n",
      "The column occret is NOT an important predictor.\n",
      "The column occself is NOT an important predictor.\n",
      "The column occ is NOT an important predictor.\n",
      "The column occ_label is NOT an important predictor.\n",
      "The column ownrent is NOT an important predictor.\n",
      "The column marryun is NOT an important predictor.\n",
      "The column marryyes is NOT an important predictor.\n",
      "The column marryno is NOT an important predictor.\n",
      "The column marry is NOT an important predictor.\n",
      "The column marry_label is NOT an important predictor.\n",
      "\n",
      "~~~~The column mailord is IMPORTANT for Prediction.~~~~\n",
      "\n",
      "The column mailres is NOT an important predictor.\n",
      "The column mailflag is NOT an important predictor.\n",
      "\n",
      "~~~~The column travel is IMPORTANT for Prediction.~~~~\n",
      "\n",
      "The column pcown is NOT an important predictor.\n",
      "The column creditcd is NOT an important predictor.\n",
      "The column newcelly is NOT an important predictor.\n",
      "The column newcelln is NOT an important predictor.\n",
      "The column incmiss is NOT an important predictor.\n",
      "The column income is NOT an important predictor.\n",
      "The column mcycle is NOT an important predictor.\n",
      "The column creditad is NOT an important predictor.\n",
      "The column setprcm is NOT an important predictor.\n",
      "The column retcall is NOT an important predictor.\n",
      "The column age_group is NOT an important predictor.\n",
      "The column age_group2 is NOT an important predictor.\n",
      "The column roaming_range is NOT an important predictor.\n",
      "The column revenue is NOT an important predictor.\n",
      "The column mou is NOT an important predictor.\n",
      "The column recchrge is NOT an important predictor.\n",
      "The column directas is NOT an important predictor.\n",
      "The column overage is NOT an important predictor.\n",
      "The column roam is NOT an important predictor.\n",
      "The column changem is NOT an important predictor.\n",
      "The column changer is NOT an important predictor.\n",
      "The column dropvce is NOT an important predictor.\n",
      "The column blckvce is NOT an important predictor.\n",
      "The column unansvce is NOT an important predictor.\n",
      "The column custcare is NOT an important predictor.\n",
      "The column threeway is NOT an important predictor.\n",
      "The column mourec is NOT an important predictor.\n",
      "The column outcalls is NOT an important predictor.\n",
      "The column incalls is NOT an important predictor.\n",
      "The column peakvce is NOT an important predictor.\n",
      "The column opeakvce is NOT an important predictor.\n",
      "The column dropblk is NOT an important predictor.\n",
      "The column callfwdv is NOT an important predictor.\n",
      "The column callwait is NOT an important predictor.\n",
      "\n",
      "~~~~The column months is IMPORTANT for Prediction.~~~~\n",
      "\n",
      "The column uniqsubs is NOT an important predictor.\n",
      "The column actvsubs is NOT an important predictor.\n",
      "The column phones is NOT an important predictor.\n",
      "The column models is NOT an important predictor.\n",
      "The column eqpdays is NOT an important predictor.\n",
      "The column customer is NOT an important predictor.\n",
      "The column age1 is NOT an important predictor.\n",
      "The column age2 is NOT an important predictor.\n",
      "The column retcalls is NOT an important predictor.\n",
      "The column retaccpt is NOT an important predictor.\n",
      "The column refer is NOT an important predictor.\n",
      "The column setprc is NOT an important predictor.\n"
     ]
    }
   ],
   "source": [
    "#chisquared #2 to check the importance with newly created columns added\n",
    "class ChiSquare:\n",
    "    def __init__(self, dataframe):\n",
    "        self.df_ml2 = dataframe\n",
    "        self.p = None #P-Value\n",
    "        self.chi2 = None #Chi Test Statistic\n",
    "        self.dof = None\n",
    "        \n",
    "        self.df_ml2Observed = None\n",
    "        self.df_ml2Expected = None\n",
    "        \n",
    "    def _print_chisquare_result(self, colX, alpha):\n",
    "        result = \"\"\n",
    "        if self.p<alpha:\n",
    "            result=\"\\n~~~~The column {0} is IMPORTANT for Prediction.~~~~\\n\".format(colX)\n",
    "        else:\n",
    "            result=\"The column {0} is NOT an important predictor.\".format(colX)\n",
    "\n",
    "        print(result)\n",
    "        \n",
    "    def TestIndependence(self,colX,colY, alpha=0.10):\n",
    "        X = self.df_ml2[colX].astype(str)\n",
    "        Y = self.df_ml2[colY].astype(str)\n",
    "        \n",
    "        self.df_ml2Observed = pd.crosstab(Y,X) \n",
    "        chi2, p, dof, expected = stats.chi2_contingency(self.df_ml2Observed.values)\n",
    "        self.p = p\n",
    "        self.chi2 = chi2\n",
    "        self.dof = dof \n",
    "        \n",
    "        self.df_ml2Expected = pd.DataFrame(expected, columns=self.df_ml2Observed.columns, \n",
    "                                       index = self.df_ml2Observed.index)\n",
    "        \n",
    "        self._print_chisquare_result(colX,alpha)\n",
    "\n",
    "#Initialize ChiSquare Class\n",
    "cT = ChiSquare(df_ml2)\n",
    "\n",
    "#Feature Selection\n",
    "testColumns = ['months_mou', 'months_creditgy', 'months_przm_num', 'months_refurb', 'months_webcap', \n",
    "               'months_mailord', 'months_travel', 'months_models', 'months_agegroup', \n",
    "               'months_agegroup2', 'creditgy_przm_num', 'creditgy_refurb', 'creditgy_webcap', \n",
    "               'creditgy_mailord', 'creditgy_travel', 'creditgy_income', 'creditgy_agegroup', \n",
    "               'creditgy_agegroup2', 'creditgy_occ', 'przm_num_refurb', 'przm_num_webcap', \n",
    "               'przm_num_mailord', 'przm_num_travel', 'przm_num_dropblk', 'przm_num_dropvce', \n",
    "               'przm_num_roam_range', 'refurb_webcap', 'refurb_mailord', 'refurb_travel', \n",
    "               'refurb_models', 'refurb_dropblk', 'refurb_dropvce', 'refurb_custcare', \n",
    "               'refurb_retcalls', 'refurb_retcall', 'webcap_mailord', 'webcap_travel', \n",
    "               'webcap_agegroup', 'webcap_agegroup2', 'webcap_income', 'webcap_setprc', \n",
    "               'webcap_retcall', 'mailord_travel', 'mailord_mailres', 'mailord_mailflag', \n",
    "               'mailord_agegroup', 'mailord_agegroup2', 'travel_roaming_range', 'travel_income', \n",
    "               'travel_occ', 'travel_marry', 'csa', 'children', 'credita', 'creditaa', 'creditb', \n",
    "               'creditc', 'creditde', 'creditgy', 'creditz', 'credit_rating', 'prizmrur', 'prizmub', \n",
    "               'prizmtwn', 'przm_num', 'refurb', 'webcap', 'truck', 'rv', 'occprof', 'occcler', \n",
    "               'occcrft', 'occstud', 'occhmkr', 'occret', 'occself', 'occ', 'occ_label', 'ownrent', \n",
    "               'marryun', 'marryyes', 'marryno', 'marry', 'marry_label', 'mailord', 'mailres', \n",
    "               'mailflag', 'travel', 'pcown', 'creditcd', 'newcelly', 'newcelln', 'incmiss', \n",
    "               'income', 'mcycle', 'creditad', 'setprcm', 'retcall', 'age_group', \n",
    "               'age_group2', 'roaming_range', 'revenue', 'mou', 'recchrge', 'directas', \n",
    "               'overage', 'roam', 'changem', 'changer', 'dropvce', 'blckvce', 'unansvce', \n",
    "               'custcare', 'threeway', 'mourec', 'outcalls', 'incalls', 'peakvce', 'opeakvce', \n",
    "               'dropblk', 'callfwdv', 'callwait', 'months', 'uniqsubs', 'actvsubs', 'phones', \n",
    "               'models', 'eqpdays', 'customer', 'age1', 'age2', 'retcalls', 'retaccpt', 'refer', \n",
    "               'setprc']\n",
    "for var in testColumns:\n",
    "    cT.TestIndependence(colX=var,colY=\"churn\" )"
   ]
  },
  {
   "cell_type": "code",
   "execution_count": 55,
   "metadata": {},
   "outputs": [],
   "source": [
    "#Creating a dataframe with important columns for visualizations later\n",
    "df1 = df[['age_group', 'months_creditgy', 'months_przm_num', 'months_refurb', 'months_webcap', \n",
    "          'months_models', 'creditgy_przm_num', 'creditgy_refurb', 'creditgy_webcap', \n",
    "          'creditgy_mailord', 'creditgy_travel', 'przm_num_refurb', 'przm_num_webcap', \n",
    "          'przm_num_mailord', 'refurb_webcap', 'refurb_mailord', 'refurb_travel', \n",
    "          'refurb_models', 'refurb_retcalls', 'refurb_retcall', 'webcap_mailord', \n",
    "          'webcap_travel', 'webcap_setprc', 'webcap_retcall', 'mailord_mailres', \n",
    "          'creditgy', 'przm_num', 'refurb', 'webcap', 'mailord', 'travel', \n",
    "          'months','churn']]"
   ]
  },
  {
   "cell_type": "code",
   "execution_count": 56,
   "metadata": {
    "scrolled": true
   },
   "outputs": [],
   "source": [
    "#saving previously mentions dataframe to a csv for visualizations\n",
    "df1.to_csv(r'celldata_to_visualize.csv', index=False)"
   ]
  },
  {
   "cell_type": "markdown",
   "metadata": {},
   "source": [
    "### Model Preparation"
   ]
  },
  {
   "cell_type": "code",
   "execution_count": 57,
   "metadata": {},
   "outputs": [
    {
     "name": "stdout",
     "output_type": "stream",
     "text": [
      "Objects Index(['months_mou', 'months_creditgy', 'months_przm_num', 'months_refurb',\n",
      "       'months_webcap', 'months_mailord', 'months_travel', 'months_models',\n",
      "       'months_agegroup', 'months_agegroup2', 'creditgy_przm_num',\n",
      "       'creditgy_refurb', 'creditgy_webcap', 'creditgy_mailord',\n",
      "       'creditgy_travel', 'creditgy_income', 'creditgy_agegroup',\n",
      "       'creditgy_agegroup2', 'creditgy_occ', 'przm_num_refurb',\n",
      "       'przm_num_webcap', 'przm_num_mailord', 'przm_num_travel',\n",
      "       'przm_num_dropblk', 'przm_num_dropvce', 'przm_num_roam_range',\n",
      "       'refurb_webcap', 'refurb_mailord', 'refurb_travel', 'refurb_models',\n",
      "       'refurb_dropblk', 'refurb_dropvce', 'refurb_custcare',\n",
      "       'refurb_retcalls', 'refurb_retcall', 'webcap_mailord', 'webcap_travel',\n",
      "       'webcap_agegroup', 'webcap_agegroup2', 'webcap_income', 'webcap_setprc',\n",
      "       'webcap_retcall', 'mailord_travel', 'mailord_mailres',\n",
      "       'mailord_mailflag', 'mailord_agegroup', 'mailord_agegroup2',\n",
      "       'travel_roaming_range', 'travel_income', 'travel_occ', 'travel_marry'],\n",
      "      dtype='object')\n",
      "\n",
      "NonObjects Index(['churn', 'csa', 'children', 'credita', 'creditaa', 'creditb', 'creditc',\n",
      "       'creditde', 'creditgy', 'creditz', 'credit_rating', 'prizmrur',\n",
      "       'prizmub', 'prizmtwn', 'przm_num', 'refurb', 'webcap', 'truck', 'rv',\n",
      "       'occprof', 'occcler', 'occcrft', 'occstud', 'occhmkr', 'occret',\n",
      "       'occself', 'occ', 'occ_label', 'ownrent', 'marryun', 'marryyes',\n",
      "       'marryno', 'marry', 'marry_label', 'mailord', 'mailres', 'mailflag',\n",
      "       'travel', 'pcown', 'creditcd', 'newcelly', 'newcelln', 'incmiss',\n",
      "       'income', 'mcycle', 'creditad', 'setprcm', 'retcall', 'age_group',\n",
      "       'age_group2', 'roaming_range', 'revenue', 'mou', 'recchrge', 'directas',\n",
      "       'overage', 'roam', 'changem', 'changer', 'dropvce', 'blckvce',\n",
      "       'unansvce', 'custcare', 'threeway', 'mourec', 'outcalls', 'incalls',\n",
      "       'peakvce', 'opeakvce', 'dropblk', 'callfwdv', 'callwait', 'months',\n",
      "       'uniqsubs', 'actvsubs', 'phones', 'models', 'eqpdays', 'customer',\n",
      "       'age1', 'age2', 'retcalls', 'retaccpt', 'refer', 'setprc'],\n",
      "      dtype='object')\n",
      "(822, 136)\n",
      "(822, 51)\n",
      "(822, 85)\n"
     ]
    }
   ],
   "source": [
    "#separate dtypes to do label encoding to actual df dataframe\n",
    "notif=df.select_dtypes(exclude=['int','float','int64'])\n",
    "intfldtypes = df.select_dtypes(include=['int','float','int64'])\n",
    "print('Objects',notif.columns)\n",
    "print(\"\\nNonObjects\",intfldtypes.columns)\n",
    "\n",
    "#checking to make sure all are accounted for\n",
    "print(df.shape)\n",
    "print(notif.shape)\n",
    "print(intfldtypes.shape)"
   ]
  },
  {
   "cell_type": "code",
   "execution_count": 58,
   "metadata": {},
   "outputs": [
    {
     "name": "stdout",
     "output_type": "stream",
     "text": [
      "(822, 136)\n"
     ]
    }
   ],
   "source": [
    "#label encode objects\n",
    "obj_le= notif.apply(LabelEncoder().fit_transform)\n",
    "\n",
    "#re-add with non-objects\n",
    "df_pred= pd.concat([obj_le,intfldtypes], axis=1, sort=False)\n",
    "#check shape\n",
    "print(df_pred.shape)"
   ]
  },
  {
   "cell_type": "markdown",
   "metadata": {},
   "source": [
    "#### Resampling imbalanced data"
   ]
  },
  {
   "cell_type": "code",
   "execution_count": 59,
   "metadata": {
    "scrolled": true
   },
   "outputs": [],
   "source": [
    "#set X and y for modeling\n",
    "X=df_pred.drop(['churn'],axis=1)\n",
    "y=df_pred['churn']"
   ]
  },
  {
   "cell_type": "code",
   "execution_count": 60,
   "metadata": {},
   "outputs": [
    {
     "data": {
      "text/plain": [
       "0    575\n",
       "1    247\n",
       "Name: churn, dtype: int64"
      ]
     },
     "execution_count": 60,
     "metadata": {},
     "output_type": "execute_result"
    }
   ],
   "source": [
    "#checking value count of churn\n",
    "df_pred.churn.value_counts()"
   ]
  },
  {
   "cell_type": "code",
   "execution_count": 61,
   "metadata": {},
   "outputs": [
    {
     "name": "stdout",
     "output_type": "stream",
     "text": [
      "Counter({0: 575, 1: 575})\n"
     ]
    }
   ],
   "source": [
    "# SMOTE oversampling method from imblearn used to resample data\n",
    "oversample = SMOTE(random_state=42)\n",
    "X, y = oversample.fit_resample(X, y)\n",
    "\n",
    "\n",
    "# summarize the new class distribution\n",
    "counter = Counter(y)\n",
    "print(counter)"
   ]
  },
  {
   "cell_type": "code",
   "execution_count": 62,
   "metadata": {},
   "outputs": [],
   "source": [
    "# setting up testing and training sets\n",
    "res_X_train, res_X_test, res_y_train, res_y_test = train_test_split(X, y,\n",
    "                                                                    test_size=0.25, random_state=42)"
   ]
  },
  {
   "cell_type": "code",
   "execution_count": 63,
   "metadata": {},
   "outputs": [],
   "source": [
    "#scale X variable data\n",
    "scaler = StandardScaler()\n",
    "\n",
    "#fit training set\n",
    "scaler.fit(res_X_train)\n",
    "\n",
    "# Apply transform to both the training set and the test set\n",
    "res_X_train = scaler.transform(res_X_train)\n",
    "res_X_test = scaler.transform(res_X_test)"
   ]
  },
  {
   "cell_type": "code",
   "execution_count": 64,
   "metadata": {},
   "outputs": [
    {
     "name": "stdout",
     "output_type": "stream",
     "text": [
      "\n",
      "\n",
      "\n",
      "\n",
      "RandomForestClassifier Results:\n",
      "~~~~~~~~~~~~~~~~~~~~~~~~~~~~~~~~~~~~~~~~\n",
      "Accuracy: 77.7778%\n",
      "Cross validation scores: 0.7656642608928095\n",
      "Log Loss: 0.48431632387361134\n"
     ]
    },
    {
     "data": {
      "image/png": "[encoded data removed]",
      "text/plain": [
       "<Figure size 1080x360 with 1 Axes>"
      ]
     },
     "metadata": {},
     "output_type": "display_data"
    },
    {
     "name": "stdout",
     "output_type": "stream",
     "text": [
      "\n",
      "\n",
      "\n",
      "\n",
      "LogisticRegression Results:\n",
      "~~~~~~~~~~~~~~~~~~~~~~~~~~~~~~~~~~~~~~~~\n",
      "Accuracy: 72.5694%\n",
      "Cross validation scores: 0.742381716118685\n",
      "Log Loss: 0.5025600393212577\n"
     ]
    },
    {
     "data": {
      "image/png": "[encoded data removed]",
      "text/plain": [
       "<Figure size 1080x360 with 1 Axes>"
      ]
     },
     "metadata": {},
     "output_type": "display_data"
    },
    {
     "name": "stdout",
     "output_type": "stream",
     "text": [
      "****************************************\n"
     ]
    }
   ],
   "source": [
    "#confusion matrix plot function\n",
    "def cm_plot(var):\n",
    "    plt.figure(figsize=(15,5))\n",
    "    plt.clf()\n",
    "    plt.imshow(var, interpolation='nearest', cmap='bwr')\n",
    "    classNames = ['Did Not Churn','Churned']\n",
    "    plt.title('Confusion Matrix')\n",
    "    plt.ylabel('Actual\\n')\n",
    "    plt.xlabel('Predicted\\n')\n",
    "    tick_marks = np.arange(len(classNames))\n",
    "    plt.xticks(tick_marks, classNames)\n",
    "    plt.yticks(tick_marks, classNames)\n",
    "    s = [['TN','FP'], ['FN', 'TP']]\n",
    "    \n",
    "    for i in range(2):\n",
    "        for j in range(2):\n",
    "            plt.text(j,i, str(s[i][j])+\"=\"+str(var[i][j]),horizontalalignment='center')\n",
    "    plt.show()\n",
    "\n",
    "#Modeling to compare Random Forest and Logistic Regression\n",
    "classifiers = [\n",
    "    RandomForestClassifier(random_state=42, n_estimators=100),\n",
    "    LogisticRegression(random_state=42)]\n",
    "\n",
    "#putting performance measure results in df\n",
    "res_cols=[\"Classifier\", \"Accuracy\", \"Log Loss\", \"Cross Val\", \"Recall\", \"Roc Auc\",\"F1\", \n",
    "          \"False Positive Rate\", \"Error Rate\"]\n",
    "results = pd.DataFrame(columns=res_cols)\n",
    "\n",
    "#measure specifications\n",
    "for clf in classifiers:\n",
    "    clf.fit(res_X_train, res_y_train)\n",
    "    name = clf.__class__.__name__\n",
    "    \n",
    "    print(\"\\n\"*3)\n",
    "    print(name,\"Results:\")\n",
    "       \n",
    "    print('~'*40)\n",
    "    res_y_pred = clf.predict(res_X_test)\n",
    "    acc = accuracy_score(res_y_test, res_y_pred)\n",
    "    print(\"Accuracy: {:.4%}\".format(acc))\n",
    "    \n",
    "    cv= np.mean(cross_val_score(clf, res_X_train, res_y_train, cv=10))\n",
    "    print(\"Cross validation scores:\",cv)\n",
    "    \n",
    "    \n",
    "    train_predictions = clf.predict_proba(res_X_test)\n",
    "    logloss = log_loss(res_y_test, train_predictions)\n",
    "    print(\"Log Loss: {}\".format(logloss))\n",
    "    \n",
    "    cm = confusion_matrix(res_y_test, res_y_pred)\n",
    "    \n",
    "    cm_plot(cm)\n",
    "    \n",
    "    #FPR and Error Rate setup\n",
    "    tn, fp, fn, tp = confusion_matrix(res_y_test,res_y_pred).ravel()\n",
    "    \n",
    "    fpr = fp/(tn+fp)\n",
    "    ers = 1-acc\n",
    "    rec= recall_score(res_y_test, res_y_pred)\n",
    "    roc=roc_auc_score(res_y_test, res_y_pred, average='weighted')\n",
    "    f1s=f1_score(res_y_test, res_y_pred, average='weighted')\n",
    "    results_final = pd.DataFrame([[name, round(acc*100,3), round(logloss,3), \n",
    "                                   round(cv*100,3), round(rec*100,3), round(roc*100,3),\n",
    "                                   round(f1s*100,3),round(fpr*100,3),round(ers*100,3)]],\n",
    "                                 columns=res_cols)\n",
    "    results = results.append(results_final)\n",
    "    \n",
    "print(\"*\"*40)"
   ]
  },
  {
   "cell_type": "code",
   "execution_count": 65,
   "metadata": {},
   "outputs": [
    {
     "name": "stdout",
     "output_type": "stream",
     "text": [
      "Shape (2, 9)\n"
     ]
    },
    {
     "data": {
      "text/html": [
       "<div>\n",
       "<style scoped>\n",
       "    .dataframe tbody tr th:only-of-type {\n",
       "        vertical-align: middle;\n",
       "    }\n",
       "\n",
       "    .dataframe tbody tr th {\n",
       "        vertical-align: top;\n",
       "    }\n",
       "\n",
       "    .dataframe thead th {\n",
       "        text-align: right;\n",
       "    }\n",
       "</style>\n",
       "<table border=\"1\" class=\"dataframe\">\n",
       "  <thead>\n",
       "    <tr style=\"text-align: right;\">\n",
       "      <th></th>\n",
       "      <th>Classifier</th>\n",
       "      <th>Accuracy</th>\n",
       "      <th>Log Loss</th>\n",
       "      <th>Cross Val</th>\n",
       "      <th>Recall</th>\n",
       "      <th>Roc Auc</th>\n",
       "      <th>F1</th>\n",
       "      <th>False Positive Rate</th>\n",
       "      <th>Error Rate</th>\n",
       "    </tr>\n",
       "  </thead>\n",
       "  <tbody>\n",
       "    <tr>\n",
       "      <th>0</th>\n",
       "      <td>RandomForestClassifier</td>\n",
       "      <td>77.778</td>\n",
       "      <td>0.484</td>\n",
       "      <td>76.566</td>\n",
       "      <td>76.336</td>\n",
       "      <td>77.658</td>\n",
       "      <td>77.791</td>\n",
       "      <td>21.019</td>\n",
       "      <td>22.222</td>\n",
       "    </tr>\n",
       "    <tr>\n",
       "      <th>0</th>\n",
       "      <td>LogisticRegression</td>\n",
       "      <td>72.569</td>\n",
       "      <td>0.503</td>\n",
       "      <td>74.238</td>\n",
       "      <td>65.649</td>\n",
       "      <td>71.996</td>\n",
       "      <td>72.433</td>\n",
       "      <td>21.656</td>\n",
       "      <td>27.431</td>\n",
       "    </tr>\n",
       "  </tbody>\n",
       "</table>\n",
       "</div>"
      ],
      "text/plain": [
       "               Classifier  Accuracy  Log Loss  Cross Val  Recall  Roc Auc  \\\n",
       "0  RandomForestClassifier    77.778     0.484     76.566  76.336   77.658   \n",
       "0      LogisticRegression    72.569     0.503     74.238  65.649   71.996   \n",
       "\n",
       "       F1  False Positive Rate  Error Rate  \n",
       "0  77.791               21.019      22.222  \n",
       "0  72.433               21.656      27.431  "
      ]
     },
     "execution_count": 65,
     "metadata": {},
     "output_type": "execute_result"
    }
   ],
   "source": [
    "#checking scores of rf and lr\n",
    "print(\"Shape\",results.shape)\n",
    "results.head(10)"
   ]
  },
  {
   "cell_type": "code",
   "execution_count": null,
   "metadata": {},
   "outputs": [],
   "source": [
    "'''AFTER EVALUATING THE ALGORITHMS AND THEIR PERFORMANCE \n",
    "RANDOM FOREST PERFORMED THE BEST SO PARAMETER TUNING WILL BE DONE TO IT\n",
    "FOR THE BEST SET OF PARAMETERS'''\n",
    "\n",
    "#not necessary to re-run unless you want to parameter tune again (timely)\n",
    "\n",
    "#Get tuning parameter of  random forest\n",
    "#random forest\n",
    "\n",
    "# timing to see how long it takes\n",
    "\n",
    "#start\n",
    "tune_start_rfc = time.time()\n",
    "rfc = RandomForestClassifier()\n",
    "print('\\n')\n",
    "param_grid = {\n",
    "    'bootstrap': [True, False],\n",
    "    'n_estimators': [400, 1000],\n",
    "    'criterion': ['entropy','gini'],\n",
    "    'max_depth': [100,150],\n",
    "    'min_samples_split': [0, 2, 4],   \n",
    "    'max_features': ['auto', 2, 3],\n",
    "    'n_jobs':[None, 2],\n",
    "    'warm_start': [True],\n",
    "    'random_state':[42]}\n",
    "\n",
    "\n",
    "\n",
    "grid_rfc = GridSearchCV(rfc, param_grid = param_grid, scoring='accuracy', cv = 10)\n",
    "grid_rfc.fit(res_X_train,res_y_train)\n",
    "rfcbest_estimator = grid_rfc.best_estimator_\n",
    "print(\"Random Forest:\\n\",grid_rfc.best_params_)\n",
    "print('\\n')\n",
    "tune_end_rfc = time.time()\n",
    "print(\"\\nTuning Random Forest Time (in minutes): \", (tune_end_rfc - tune_start_rfc)/60)\n"
   ]
  },
  {
   "cell_type": "code",
   "execution_count": 66,
   "metadata": {},
   "outputs": [
    {
     "name": "stdout",
     "output_type": "stream",
     "text": [
      "\n",
      "\n",
      "\n",
      "\n",
      "RandomForestClassifier results2:\n",
      "~~~~~~~~~~~~~~~~~~~~~~~~~~~~~~~~~~~~~~~~\n",
      "Accuracy: 79.1667%\n",
      "Cross validation scores: 0.7667602245388934\n",
      "Log Loss: 0.46563905510980913\n"
     ]
    },
    {
     "data": {
      "image/png": "[encoded data removed]",
      "text/plain": [
       "<Figure size 1080x360 with 1 Axes>"
      ]
     },
     "metadata": {},
     "output_type": "display_data"
    },
    {
     "name": "stdout",
     "output_type": "stream",
     "text": [
      "****************************************\n"
     ]
    }
   ],
   "source": [
    "#Final Random Forest Modelling\n",
    "classifiers = [\n",
    "    RandomForestClassifier(bootstrap=False, criterion='gini', max_depth=100, \n",
    "                           min_samples_split=2, n_estimators=1000, max_features=3, \n",
    "                           class_weight='balanced', warm_start=True, n_jobs=None, \n",
    "                           random_state=42)]\n",
    "\n",
    "#putting results2 in df\n",
    "res_cols=[\"Classifier\", \"Accuracy\", \"Log Loss\", \"Cross Val\", \"Recall\", \"Roc Auc\",\"F1\", \n",
    "          \"False Positive Rate\", \"Error Rate\"]\n",
    "results2 = pd.DataFrame(columns=res_cols)\n",
    "\n",
    "for clf in classifiers:\n",
    "    clf.fit(res_X_train, res_y_train)\n",
    "    name = clf.__class__.__name__\n",
    "    \n",
    "    print(\"\\n\"*3)\n",
    "    print(name,\"results2:\")\n",
    "       \n",
    "    print('~'*40)\n",
    "    res_y_pred = clf.predict(res_X_test)\n",
    "    acc = accuracy_score(res_y_test, res_y_pred)\n",
    "    print(\"Accuracy: {:.4%}\".format(acc))\n",
    "    \n",
    "    cv= np.mean(cross_val_score(clf, res_X_train, res_y_train, cv=10))\n",
    "    print(\"Cross validation scores:\",cv)\n",
    "    \n",
    "    \n",
    "    train_predictions = clf.predict_proba(res_X_test)\n",
    "    logloss = log_loss(res_y_test, train_predictions)\n",
    "    print(\"Log Loss: {}\".format(logloss))\n",
    "    \n",
    "    cm = confusion_matrix(res_y_test, res_y_pred)\n",
    "    \n",
    "    cm_plot(cm)\n",
    "    \n",
    "    #FPR and Error Rate setup\n",
    "    tn, fp, fn, tp = confusion_matrix(res_y_test,res_y_pred).ravel()\n",
    "    \n",
    "    fpr = fp/(tn+fp)\n",
    "    ers = 1-acc\n",
    "    rec= recall_score(res_y_test, res_y_pred)\n",
    "    roc=roc_auc_score(res_y_test, res_y_pred, average='weighted')\n",
    "    f1s=f1_score(res_y_test, res_y_pred, average='weighted')\n",
    "    results2_final = pd.DataFrame([[name, round(acc*100,3), round(logloss,3), \n",
    "                                   round(cv*100,3), round(rec*100,3), round(roc*100,3),\n",
    "                                   round(f1s*100,3),round(fpr*100,3),round(ers*100,3)]],\n",
    "                                 columns=res_cols)\n",
    "    results2 = results2.append(results2_final)\n",
    "    \n",
    "print(\"*\"*40)"
   ]
  },
  {
   "cell_type": "code",
   "execution_count": null,
   "metadata": {},
   "outputs": [],
   "source": [
    "#checking feature importance just in case\n",
    "start_time = time.time()\n",
    "\n",
    "importances = clf.feature_importances_\n",
    "\n",
    "feature_names = X.columns\n",
    "\n",
    "forest_importances = pd.Series(importances, index=feature_names)\n",
    "\n",
    "elapsed_time = time.time() - start_time\n",
    "\n",
    "print(f\"Elapsed time to compute the importances: \"\n",
    "      f\"{elapsed_time:.3f} seconds\")"
   ]
  },
  {
   "cell_type": "code",
   "execution_count": null,
   "metadata": {},
   "outputs": [],
   "source": [
    "with pd.option_context('display.max_rows', None, 'display.max_columns', None):  # more options can be specified also\n",
    "    print(forest_importances.sort_values(ascending=False))"
   ]
  },
  {
   "cell_type": "code",
   "execution_count": 67,
   "metadata": {},
   "outputs": [
    {
     "data": {
      "text/html": [
       "<div>\n",
       "<style scoped>\n",
       "    .dataframe tbody tr th:only-of-type {\n",
       "        vertical-align: middle;\n",
       "    }\n",
       "\n",
       "    .dataframe tbody tr th {\n",
       "        vertical-align: top;\n",
       "    }\n",
       "\n",
       "    .dataframe thead th {\n",
       "        text-align: right;\n",
       "    }\n",
       "</style>\n",
       "<table border=\"1\" class=\"dataframe\">\n",
       "  <thead>\n",
       "    <tr style=\"text-align: right;\">\n",
       "      <th></th>\n",
       "      <th>Classifier</th>\n",
       "      <th>Accuracy</th>\n",
       "      <th>Log Loss</th>\n",
       "      <th>Cross Val</th>\n",
       "      <th>Recall</th>\n",
       "      <th>Roc Auc</th>\n",
       "      <th>F1</th>\n",
       "      <th>False Positive Rate</th>\n",
       "      <th>Error Rate</th>\n",
       "    </tr>\n",
       "  </thead>\n",
       "  <tbody>\n",
       "    <tr>\n",
       "      <th>0</th>\n",
       "      <td>RetunedRandomForestClassifier</td>\n",
       "      <td>79.167</td>\n",
       "      <td>0.466</td>\n",
       "      <td>76.676</td>\n",
       "      <td>77.099</td>\n",
       "      <td>78.995</td>\n",
       "      <td>79.167</td>\n",
       "      <td>19.108</td>\n",
       "      <td>20.833</td>\n",
       "    </tr>\n",
       "  </tbody>\n",
       "</table>\n",
       "</div>"
      ],
      "text/plain": [
       "                      Classifier  Accuracy  Log Loss  Cross Val  Recall  \\\n",
       "0  RetunedRandomForestClassifier    79.167     0.466     76.676  77.099   \n",
       "\n",
       "   Roc Auc      F1  False Positive Rate  Error Rate  \n",
       "0   78.995  79.167               19.108      20.833  "
      ]
     },
     "execution_count": 67,
     "metadata": {},
     "output_type": "execute_result"
    }
   ],
   "source": [
    "results2['Classifier'] = results2['Classifier'].replace(['RandomForestClassifier'],\n",
    "                                                        'RetunedRandomForestClassifier')\n",
    "results2.head()"
   ]
  },
  {
   "cell_type": "code",
   "execution_count": 68,
   "metadata": {},
   "outputs": [
    {
     "name": "stdout",
     "output_type": "stream",
     "text": [
      "Shape (3, 9)\n"
     ]
    },
    {
     "data": {
      "text/html": [
       "<div>\n",
       "<style scoped>\n",
       "    .dataframe tbody tr th:only-of-type {\n",
       "        vertical-align: middle;\n",
       "    }\n",
       "\n",
       "    .dataframe tbody tr th {\n",
       "        vertical-align: top;\n",
       "    }\n",
       "\n",
       "    .dataframe thead th {\n",
       "        text-align: right;\n",
       "    }\n",
       "</style>\n",
       "<table border=\"1\" class=\"dataframe\">\n",
       "  <thead>\n",
       "    <tr style=\"text-align: right;\">\n",
       "      <th></th>\n",
       "      <th>Classifier</th>\n",
       "      <th>Accuracy</th>\n",
       "      <th>Log Loss</th>\n",
       "      <th>Cross Val</th>\n",
       "      <th>Recall</th>\n",
       "      <th>Roc Auc</th>\n",
       "      <th>F1</th>\n",
       "      <th>False Positive Rate</th>\n",
       "      <th>Error Rate</th>\n",
       "    </tr>\n",
       "  </thead>\n",
       "  <tbody>\n",
       "    <tr>\n",
       "      <th>0</th>\n",
       "      <td>RandomForestClassifier</td>\n",
       "      <td>77.778</td>\n",
       "      <td>0.484</td>\n",
       "      <td>76.566</td>\n",
       "      <td>76.336</td>\n",
       "      <td>77.658</td>\n",
       "      <td>77.791</td>\n",
       "      <td>21.019</td>\n",
       "      <td>22.222</td>\n",
       "    </tr>\n",
       "    <tr>\n",
       "      <th>1</th>\n",
       "      <td>LogisticRegression</td>\n",
       "      <td>72.569</td>\n",
       "      <td>0.503</td>\n",
       "      <td>74.238</td>\n",
       "      <td>65.649</td>\n",
       "      <td>71.996</td>\n",
       "      <td>72.433</td>\n",
       "      <td>21.656</td>\n",
       "      <td>27.431</td>\n",
       "    </tr>\n",
       "    <tr>\n",
       "      <th>2</th>\n",
       "      <td>RetunedRandomForestClassifier</td>\n",
       "      <td>79.167</td>\n",
       "      <td>0.466</td>\n",
       "      <td>76.676</td>\n",
       "      <td>77.099</td>\n",
       "      <td>78.995</td>\n",
       "      <td>79.167</td>\n",
       "      <td>19.108</td>\n",
       "      <td>20.833</td>\n",
       "    </tr>\n",
       "  </tbody>\n",
       "</table>\n",
       "</div>"
      ],
      "text/plain": [
       "                      Classifier  Accuracy  Log Loss  Cross Val  Recall  \\\n",
       "0         RandomForestClassifier    77.778     0.484     76.566  76.336   \n",
       "1             LogisticRegression    72.569     0.503     74.238  65.649   \n",
       "2  RetunedRandomForestClassifier    79.167     0.466     76.676  77.099   \n",
       "\n",
       "   Roc Auc      F1  False Positive Rate  Error Rate  \n",
       "0   77.658  77.791               21.019      22.222  \n",
       "1   71.996  72.433               21.656      27.431  \n",
       "2   78.995  79.167               19.108      20.833  "
      ]
     },
     "execution_count": 68,
     "metadata": {},
     "output_type": "execute_result"
    }
   ],
   "source": [
    "ml_results = pd.concat([results,results2])\n",
    "ml_results.reset_index(drop=True, inplace=True)\n",
    "print(\"Shape\",ml_results.shape)\n",
    "ml_results.head(10)"
   ]
  },
  {
   "cell_type": "code",
   "execution_count": 69,
   "metadata": {},
   "outputs": [],
   "source": [
    "'''\n",
    "    testing model on another set of data\n",
    "    importing cleaned dataset (verificationdataset.csv) from another notebook to be tested.'''\n",
    "\n",
    "#import data set into datafream\n",
    "ver_df= pd.read_csv(r'verificationdataset.csv')\n",
    "\n",
    "#Create X an y test sets\n",
    "ver_X_test = ver_df.drop(['churn'],axis=1)\n",
    "ver_y_test = ver_df['churn']\n"
   ]
  },
  {
   "cell_type": "code",
   "execution_count": 70,
   "metadata": {},
   "outputs": [],
   "source": [
    "#scale verification X set\n",
    "ver_X_test = scaler.transform(ver_X_test)"
   ]
  },
  {
   "cell_type": "code",
   "execution_count": 71,
   "metadata": {},
   "outputs": [
    {
     "name": "stdout",
     "output_type": "stream",
     "text": [
      "\n",
      "\n",
      "\n",
      "\n",
      "RandomForestClassifier results3:\n",
      "~~~~~~~~~~~~~~~~~~~~~~~~~~~~~~~~~~~~~~~~\n",
      "Accuracy: 90.2985%\n",
      "Cross validation scores: 0.7667602245388934\n",
      "Log Loss: 0.42397438171986906\n"
     ]
    },
    {
     "data": {
      "image/png": "[encoded data removed]",
      "text/plain": [
       "<Figure size 1080x360 with 1 Axes>"
      ]
     },
     "metadata": {},
     "output_type": "display_data"
    },
    {
     "name": "stdout",
     "output_type": "stream",
     "text": [
      "****************************************\n"
     ]
    }
   ],
   "source": [
    "#Final Random Forest Modelling\n",
    "classifiers = [\n",
    "    RandomForestClassifier(bootstrap=False, criterion='gini', max_depth=100, \n",
    "                           min_samples_split=2, n_estimators=1000, max_features=3, \n",
    "                           class_weight='balanced', warm_start=True, n_jobs=None, \n",
    "                           random_state=42)]\n",
    "\n",
    "#putting results3 in df\n",
    "res_cols=[\"Classifier\", \"Accuracy\", \"Log Loss\", \"Cross Val\", \"Recall\", \"Roc Auc\",\"F1\", \n",
    "          \"False Positive Rate\", \"Error Rate\"]\n",
    "results3 = pd.DataFrame(columns=res_cols)\n",
    "\n",
    "for clf in classifiers:\n",
    "    clf.fit(res_X_train, res_y_train)\n",
    "    name = clf.__class__.__name__\n",
    "    \n",
    "    print(\"\\n\"*3)\n",
    "    print(name,\"results3:\")\n",
    "       \n",
    "    print('~'*40)\n",
    "    ver_y_pred = clf.predict(ver_X_test)\n",
    "    acc = accuracy_score(ver_y_test, ver_y_pred)\n",
    "    print(\"Accuracy: {:.4%}\".format(acc))\n",
    "    \n",
    "    cv= np.mean(cross_val_score(clf, res_X_train, res_y_train, cv=10))\n",
    "    print(\"Cross validation scores:\",cv)\n",
    "    \n",
    "    \n",
    "    train_predictions = clf.predict_proba(ver_X_test)\n",
    "    logloss = log_loss(ver_y_test, train_predictions)\n",
    "    print(\"Log Loss: {}\".format(logloss))\n",
    "    \n",
    "    cm = confusion_matrix(ver_y_test, ver_y_pred)\n",
    "    \n",
    "    cm_plot(cm)\n",
    "    \n",
    "    #FPR and Error Rate setup\n",
    "    tn, fp, fn, tp = confusion_matrix(ver_y_test,ver_y_pred).ravel()\n",
    "    \n",
    "    fpr = fp/(tn+fp)\n",
    "    ers = 1-acc\n",
    "    rec= recall_score(ver_y_test, ver_y_pred)\n",
    "    roc=roc_auc_score(ver_y_test, ver_y_pred, average='weighted')\n",
    "    f1s=f1_score(ver_y_test, ver_y_pred, average='weighted')\n",
    "    results3_final = pd.DataFrame([[name, round(acc*100,3), round(logloss,3), \n",
    "                                   round(cv*100,3), round(rec*100,3), round(roc*100,3),\n",
    "                                   round(f1s*100,3),round(fpr*100,3),round(ers*100,3)]],\n",
    "                                 columns=res_cols)\n",
    "    results3 = results3.append(results3_final)\n",
    "    \n",
    "print(\"*\"*40)"
   ]
  },
  {
   "cell_type": "code",
   "execution_count": 72,
   "metadata": {},
   "outputs": [
    {
     "data": {
      "text/html": [
       "<div>\n",
       "<style scoped>\n",
       "    .dataframe tbody tr th:only-of-type {\n",
       "        vertical-align: middle;\n",
       "    }\n",
       "\n",
       "    .dataframe tbody tr th {\n",
       "        vertical-align: top;\n",
       "    }\n",
       "\n",
       "    .dataframe thead th {\n",
       "        text-align: right;\n",
       "    }\n",
       "</style>\n",
       "<table border=\"1\" class=\"dataframe\">\n",
       "  <thead>\n",
       "    <tr style=\"text-align: right;\">\n",
       "      <th></th>\n",
       "      <th>Classifier</th>\n",
       "      <th>Accuracy</th>\n",
       "      <th>Log Loss</th>\n",
       "      <th>Cross Val</th>\n",
       "      <th>Recall</th>\n",
       "      <th>Roc Auc</th>\n",
       "      <th>F1</th>\n",
       "      <th>False Positive Rate</th>\n",
       "      <th>Error Rate</th>\n",
       "    </tr>\n",
       "  </thead>\n",
       "  <tbody>\n",
       "    <tr>\n",
       "      <th>0</th>\n",
       "      <td>VerificationRandomForestClassifier</td>\n",
       "      <td>90.299</td>\n",
       "      <td>0.424</td>\n",
       "      <td>76.676</td>\n",
       "      <td>92.0</td>\n",
       "      <td>90.954</td>\n",
       "      <td>90.83</td>\n",
       "      <td>10.092</td>\n",
       "      <td>9.701</td>\n",
       "    </tr>\n",
       "  </tbody>\n",
       "</table>\n",
       "</div>"
      ],
      "text/plain": [
       "                           Classifier  Accuracy  Log Loss  Cross Val  Recall  \\\n",
       "0  VerificationRandomForestClassifier    90.299     0.424     76.676    92.0   \n",
       "\n",
       "   Roc Auc     F1  False Positive Rate  Error Rate  \n",
       "0   90.954  90.83               10.092       9.701  "
      ]
     },
     "execution_count": 72,
     "metadata": {},
     "output_type": "execute_result"
    }
   ],
   "source": [
    "results3['Classifier'] = results3['Classifier'].replace(['RandomForestClassifier'],\n",
    "                                                        'VerificationRandomForestClassifier')\n",
    "results3.head()"
   ]
  },
  {
   "cell_type": "code",
   "execution_count": 73,
   "metadata": {},
   "outputs": [
    {
     "name": "stdout",
     "output_type": "stream",
     "text": [
      "Shape (4, 9)\n"
     ]
    },
    {
     "data": {
      "text/html": [
       "<div>\n",
       "<style scoped>\n",
       "    .dataframe tbody tr th:only-of-type {\n",
       "        vertical-align: middle;\n",
       "    }\n",
       "\n",
       "    .dataframe tbody tr th {\n",
       "        vertical-align: top;\n",
       "    }\n",
       "\n",
       "    .dataframe thead th {\n",
       "        text-align: right;\n",
       "    }\n",
       "</style>\n",
       "<table border=\"1\" class=\"dataframe\">\n",
       "  <thead>\n",
       "    <tr style=\"text-align: right;\">\n",
       "      <th></th>\n",
       "      <th>Classifier</th>\n",
       "      <th>Accuracy</th>\n",
       "      <th>Log Loss</th>\n",
       "      <th>Cross Val</th>\n",
       "      <th>Recall</th>\n",
       "      <th>Roc Auc</th>\n",
       "      <th>F1</th>\n",
       "      <th>False Positive Rate</th>\n",
       "      <th>Error Rate</th>\n",
       "    </tr>\n",
       "  </thead>\n",
       "  <tbody>\n",
       "    <tr>\n",
       "      <th>0</th>\n",
       "      <td>RandomForestClassifier</td>\n",
       "      <td>77.778</td>\n",
       "      <td>0.484</td>\n",
       "      <td>76.566</td>\n",
       "      <td>76.336</td>\n",
       "      <td>77.658</td>\n",
       "      <td>77.791</td>\n",
       "      <td>21.019</td>\n",
       "      <td>22.222</td>\n",
       "    </tr>\n",
       "    <tr>\n",
       "      <th>1</th>\n",
       "      <td>LogisticRegression</td>\n",
       "      <td>72.569</td>\n",
       "      <td>0.503</td>\n",
       "      <td>74.238</td>\n",
       "      <td>65.649</td>\n",
       "      <td>71.996</td>\n",
       "      <td>72.433</td>\n",
       "      <td>21.656</td>\n",
       "      <td>27.431</td>\n",
       "    </tr>\n",
       "    <tr>\n",
       "      <th>2</th>\n",
       "      <td>RetunedRandomForestClassifier</td>\n",
       "      <td>79.167</td>\n",
       "      <td>0.466</td>\n",
       "      <td>76.676</td>\n",
       "      <td>77.099</td>\n",
       "      <td>78.995</td>\n",
       "      <td>79.167</td>\n",
       "      <td>19.108</td>\n",
       "      <td>20.833</td>\n",
       "    </tr>\n",
       "    <tr>\n",
       "      <th>3</th>\n",
       "      <td>VerificationRandomForestClassifier</td>\n",
       "      <td>90.299</td>\n",
       "      <td>0.424</td>\n",
       "      <td>76.676</td>\n",
       "      <td>92.000</td>\n",
       "      <td>90.954</td>\n",
       "      <td>90.830</td>\n",
       "      <td>10.092</td>\n",
       "      <td>9.701</td>\n",
       "    </tr>\n",
       "  </tbody>\n",
       "</table>\n",
       "</div>"
      ],
      "text/plain": [
       "                           Classifier  Accuracy  Log Loss  Cross Val  Recall  \\\n",
       "0              RandomForestClassifier    77.778     0.484     76.566  76.336   \n",
       "1                  LogisticRegression    72.569     0.503     74.238  65.649   \n",
       "2       RetunedRandomForestClassifier    79.167     0.466     76.676  77.099   \n",
       "3  VerificationRandomForestClassifier    90.299     0.424     76.676  92.000   \n",
       "\n",
       "   Roc Auc      F1  False Positive Rate  Error Rate  \n",
       "0   77.658  77.791               21.019      22.222  \n",
       "1   71.996  72.433               21.656      27.431  \n",
       "2   78.995  79.167               19.108      20.833  \n",
       "3   90.954  90.830               10.092       9.701  "
      ]
     },
     "execution_count": 73,
     "metadata": {},
     "output_type": "execute_result"
    }
   ],
   "source": [
    "ml_results = pd.concat([results,results2,results3])\n",
    "ml_results.reset_index(drop=True, inplace=True)\n",
    "print(\"Shape\",ml_results.shape)\n",
    "ml_results.head(10)"
   ]
  },
  {
   "cell_type": "code",
   "execution_count": 74,
   "metadata": {},
   "outputs": [
    {
     "data": {
      "image/png": "[encoded data removed]",
      "text/plain": [
       "<Figure size 792x1296 with 8 Axes>"
      ]
     },
     "metadata": {},
     "output_type": "display_data"
    }
   ],
   "source": [
    "#Visualize scores for all models\n",
    "\n",
    "fig, ax =plt.subplots(nrows=8, ncols=1, figsize = (11,18))\n",
    "\n",
    "sns.barplot(x='Accuracy', y='Classifier', data=ml_results, palette='plasma', ax=ax[0])\n",
    "sns.barplot(x='Log Loss', y='Classifier', data=ml_results, palette='plasma', ax=ax[1])\n",
    "sns.barplot(x='Cross Val', y='Classifier', data=ml_results, palette='plasma', ax=ax[2])\n",
    "sns.barplot(x='Recall', y='Classifier', data=ml_results, palette='plasma', ax=ax[3])\n",
    "sns.barplot(x='Roc Auc', y='Classifier', data=ml_results, palette='plasma', ax=ax[4])\n",
    "sns.barplot(x='F1', y='Classifier', data=ml_results, palette='plasma', ax=ax[5])\n",
    "sns.barplot(x='False Positive Rate', y='Classifier', data=ml_results, palette='plasma', ax=ax[6])\n",
    "sns.barplot(x='Error Rate', y='Classifier', data=ml_results, palette='plasma', ax=ax[7])\n",
    "\n",
    "#remove classifier label from y\n",
    "ax[0].set(ylabel = '')\n",
    "ax[1].set(ylabel = '')\n",
    "ax[2].set(ylabel = '')\n",
    "ax[3].set(ylabel = '')\n",
    "ax[4].set(ylabel = '')\n",
    "ax[5].set(ylabel = '')\n",
    "ax[6].set(ylabel = '')\n",
    "ax[7].set(ylabel = '')\n",
    "\n",
    "plt.tight_layout()\n",
    "plt.savefig('machinelearningresults.png')\n",
    "plt.show()"
   ]
  },
  {
   "cell_type": "code",
   "execution_count": 75,
   "metadata": {},
   "outputs": [],
   "source": [
    "ml_results.to_csv(r'ml_results.csv', index=False)"
   ]
  }
 ],
 "metadata": {
  "kernelspec": {
   "display_name": "Python 3",
   "language": "python",
   "name": "python3"
  },
  "language_info": {
   "codemirror_mode": {
    "name": "ipython",
    "version": 3
   },
   "file_extension": ".py",
   "mimetype": "text/x-python",
   "name": "python",
   "nbconvert_exporter": "python",
   "pygments_lexer": "ipython3",
   "version": "3.8.5"
  }
 },
 "nbformat": 4,
 "nbformat_minor": 4
}

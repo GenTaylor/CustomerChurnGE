{
 "cells": [
  {
   "cell_type": "markdown",
   "metadata": {},
   "source": [
    "# General Electric Customer Churn Problem\n",
    "<br>\n",
    "GE has partnered with a cellular carrier–SmartAppCellular–that provides dedicated bandwidth and configuration services for cell phone applications. GE is beginning to experience a small amount of attrition, and based on customer feedback, it is related to the cellular service and not the application. GE Healthcare recognizes that other vendors are beginning to compete in this space and is attempting to identify ways to retain its customers. <br><br>\n",
    "\n",
    "The Customer Account Management team would like to determine if this data can be used to identify subscribers that may churn. It is important to be able to understand churn default drivers for metadata like longevity, cell usage, and other pertinent groupings which come from the analysis.<br>\n",
    "\n",
    "\n",
    "-Genesis Taylor\n"
   ]
  },
  {
   "cell_type": "markdown",
   "metadata": {},
   "source": [
    "## Verification Data Cleansing."
   ]
  },
  {
   "cell_type": "markdown",
   "metadata": {},
   "source": [
    "### Import Modules"
   ]
  },
  {
   "cell_type": "code",
   "execution_count": 1,
   "metadata": {
    "scrolled": true
   },
   "outputs": [],
   "source": [
    "import pandas as pd\n",
    "import numpy as np\n",
    "import seaborn as sns\n",
    "import time\n",
    "#import timeit\n",
    "from matplotlib import pyplot as plt\n",
    "%matplotlib inline\n",
    "plt.style.use('dark_background')\n",
    "\n",
    "#stats\n",
    "from scipy import stats\n",
    "from scipy.stats import chi2_contingency\n",
    "\n",
    "#sklearn modeling and metrics\n",
    "from sklearn.ensemble import RandomForestClassifier\n",
    "from sklearn.linear_model import LogisticRegression\n",
    "from sklearn.metrics import accuracy_score, f1_score, precision_score, recall_score, log_loss\n",
    "from sklearn.metrics import classification_report\n",
    "from sklearn.metrics import classification_report, confusion_matrix, roc_auc_score\n",
    "from sklearn.model_selection  import train_test_split\n",
    "from sklearn.model_selection import cross_val_score, GridSearchCV, train_test_split, RandomizedSearchCV\n",
    "from sklearn.preprocessing import LabelEncoder\n",
    "from sklearn.preprocessing import StandardScaler\n",
    "from sklearn.utils import resample\n",
    "\n",
    "#warning ignorer\n",
    "import warnings\n",
    "warnings.filterwarnings(\"ignore\")\n",
    "\n",
    "#for imbalance\n",
    "from imblearn.over_sampling import SMOTE\n",
    "from collections import Counter\n"
   ]
  },
  {
   "cell_type": "markdown",
   "metadata": {},
   "source": [
    "### Import and Explore Data Set"
   ]
  },
  {
   "cell_type": "code",
   "execution_count": 2,
   "metadata": {
    "scrolled": true
   },
   "outputs": [],
   "source": [
    "#import data set into datafream\n",
    "df = pd.read_csv(r'Cell Data_Verification.csv')"
   ]
  },
  {
   "cell_type": "code",
   "execution_count": 3,
   "metadata": {
    "scrolled": true
   },
   "outputs": [
    {
     "name": "stdout",
     "output_type": "stream",
     "text": [
      "Columns:\n",
      " Index(['REVENUE', 'MOU', 'RECCHRGE', 'DIRECTAS', 'OVERAGE', 'ROAM', 'CHANGEM',\n",
      "       'CHANGER', 'DROPVCE', 'BLCKVCE', 'UNANSVCE', 'CUSTCARE', 'THREEWAY',\n",
      "       'MOUREC', 'OUTCALLS', 'INCALLS', 'PEAKVCE', 'OPEAKVCE', 'DROPBLK',\n",
      "       'CALLFWDV', 'CALLWAIT', 'CHURN', 'MONTHS', 'UNIQSUBS', 'ACTVSUBS',\n",
      "       'CSA', 'PHONES', 'MODELS', 'EQPDAYS', 'CUSTOMER', 'AGE1', 'AGE2',\n",
      "       'CHILDREN', 'CREDITA', 'CREDITAA', 'CREDITB', 'CREDITC', 'CREDITDE',\n",
      "       'CREDITGY', 'CREDITZ', 'CREDIT_RATING', 'PRIZMRUR', 'PRIZMUB',\n",
      "       'PRIZMTWN', 'Column 45', 'REFURB', 'WEBCAP', 'TRUCK', 'RV', 'OCCPROF',\n",
      "       'OCCCLER', 'OCCCRFT', 'OCCSTUD', 'OCCHMKR', 'OCCRET', 'OCCSELF', 'OCC',\n",
      "       'OCC_LABEL', 'OWNRENT', 'MARRYUN', 'MARRYYES', 'MARRYNO', 'MARRY',\n",
      "       'MARRY_LABEL', 'MAILORD', 'MAILRES', 'MAILFLAG', 'TRAVEL', 'PCOWN',\n",
      "       'CREDITCD', 'RETCALLS', 'RETACCPT', 'NEWCELLY', 'NEWCELLN', 'REFER',\n",
      "       'INCMISS', 'INCOME', 'MCYCLE', 'CREDITAD', 'SETPRCM', 'SETPRC',\n",
      "       'RETCALL', 'CALIBRAT', 'CHURNDEP'],\n",
      "      dtype='object')\n",
      "\n",
      "\n",
      "Dataframe Shape: (150, 84)\n"
     ]
    },
    {
     "data": {
      "text/html": [
       "<div>\n",
       "<style scoped>\n",
       "    .dataframe tbody tr th:only-of-type {\n",
       "        vertical-align: middle;\n",
       "    }\n",
       "\n",
       "    .dataframe tbody tr th {\n",
       "        vertical-align: top;\n",
       "    }\n",
       "\n",
       "    .dataframe thead th {\n",
       "        text-align: right;\n",
       "    }\n",
       "</style>\n",
       "<table border=\"1\" class=\"dataframe\">\n",
       "  <thead>\n",
       "    <tr style=\"text-align: right;\">\n",
       "      <th></th>\n",
       "      <th>REVENUE</th>\n",
       "      <th>MOU</th>\n",
       "      <th>RECCHRGE</th>\n",
       "      <th>DIRECTAS</th>\n",
       "      <th>OVERAGE</th>\n",
       "      <th>ROAM</th>\n",
       "      <th>CHANGEM</th>\n",
       "      <th>CHANGER</th>\n",
       "      <th>DROPVCE</th>\n",
       "      <th>BLCKVCE</th>\n",
       "      <th>...</th>\n",
       "      <th>REFER</th>\n",
       "      <th>INCMISS</th>\n",
       "      <th>INCOME</th>\n",
       "      <th>MCYCLE</th>\n",
       "      <th>CREDITAD</th>\n",
       "      <th>SETPRCM</th>\n",
       "      <th>SETPRC</th>\n",
       "      <th>RETCALL</th>\n",
       "      <th>CALIBRAT</th>\n",
       "      <th>CHURNDEP</th>\n",
       "    </tr>\n",
       "  </thead>\n",
       "  <tbody>\n",
       "    <tr>\n",
       "      <th>0</th>\n",
       "      <td>45.69</td>\n",
       "      <td>246.00</td>\n",
       "      <td>44.99</td>\n",
       "      <td>0.0</td>\n",
       "      <td>26.75</td>\n",
       "      <td>0.00</td>\n",
       "      <td>-109.00</td>\n",
       "      <td>-10.70</td>\n",
       "      <td>5.33</td>\n",
       "      <td>0.67</td>\n",
       "      <td>...</td>\n",
       "      <td>0</td>\n",
       "      <td>1</td>\n",
       "      <td>0</td>\n",
       "      <td>0</td>\n",
       "      <td>0</td>\n",
       "      <td>1</td>\n",
       "      <td>0.00</td>\n",
       "      <td>0</td>\n",
       "      <td>0</td>\n",
       "      <td>NaN</td>\n",
       "    </tr>\n",
       "    <tr>\n",
       "      <th>1</th>\n",
       "      <td>40.55</td>\n",
       "      <td>291.00</td>\n",
       "      <td>29.99</td>\n",
       "      <td>0.0</td>\n",
       "      <td>3.00</td>\n",
       "      <td>3.17</td>\n",
       "      <td>155.00</td>\n",
       "      <td>6.93</td>\n",
       "      <td>2.00</td>\n",
       "      <td>0.00</td>\n",
       "      <td>...</td>\n",
       "      <td>0</td>\n",
       "      <td>0</td>\n",
       "      <td>1</td>\n",
       "      <td>0</td>\n",
       "      <td>0</td>\n",
       "      <td>0</td>\n",
       "      <td>29.99</td>\n",
       "      <td>0</td>\n",
       "      <td>0</td>\n",
       "      <td>NaN</td>\n",
       "    </tr>\n",
       "    <tr>\n",
       "      <th>2</th>\n",
       "      <td>35.58</td>\n",
       "      <td>296.00</td>\n",
       "      <td>44.99</td>\n",
       "      <td>0.0</td>\n",
       "      <td>4.25</td>\n",
       "      <td>0.00</td>\n",
       "      <td>-15.00</td>\n",
       "      <td>1.76</td>\n",
       "      <td>9.00</td>\n",
       "      <td>1.33</td>\n",
       "      <td>...</td>\n",
       "      <td>0</td>\n",
       "      <td>1</td>\n",
       "      <td>0</td>\n",
       "      <td>0</td>\n",
       "      <td>0</td>\n",
       "      <td>0</td>\n",
       "      <td>29.99</td>\n",
       "      <td>0</td>\n",
       "      <td>0</td>\n",
       "      <td>NaN</td>\n",
       "    </tr>\n",
       "    <tr>\n",
       "      <th>3</th>\n",
       "      <td>9.13</td>\n",
       "      <td>7.75</td>\n",
       "      <td>7.50</td>\n",
       "      <td>0.0</td>\n",
       "      <td>7.25</td>\n",
       "      <td>0.00</td>\n",
       "      <td>16.25</td>\n",
       "      <td>4.13</td>\n",
       "      <td>1.33</td>\n",
       "      <td>0.00</td>\n",
       "      <td>...</td>\n",
       "      <td>0</td>\n",
       "      <td>0</td>\n",
       "      <td>5</td>\n",
       "      <td>0</td>\n",
       "      <td>1</td>\n",
       "      <td>1</td>\n",
       "      <td>0.00</td>\n",
       "      <td>0</td>\n",
       "      <td>0</td>\n",
       "      <td>NaN</td>\n",
       "    </tr>\n",
       "    <tr>\n",
       "      <th>4</th>\n",
       "      <td>57.99</td>\n",
       "      <td>515.50</td>\n",
       "      <td>59.99</td>\n",
       "      <td>0.0</td>\n",
       "      <td>0.00</td>\n",
       "      <td>0.00</td>\n",
       "      <td>-11.50</td>\n",
       "      <td>0.00</td>\n",
       "      <td>8.67</td>\n",
       "      <td>3.67</td>\n",
       "      <td>...</td>\n",
       "      <td>0</td>\n",
       "      <td>0</td>\n",
       "      <td>4</td>\n",
       "      <td>0</td>\n",
       "      <td>0</td>\n",
       "      <td>0</td>\n",
       "      <td>29.99</td>\n",
       "      <td>0</td>\n",
       "      <td>0</td>\n",
       "      <td>NaN</td>\n",
       "    </tr>\n",
       "  </tbody>\n",
       "</table>\n",
       "<p>5 rows × 84 columns</p>\n",
       "</div>"
      ],
      "text/plain": [
       "   REVENUE     MOU  RECCHRGE  DIRECTAS  OVERAGE  ROAM  CHANGEM  CHANGER  \\\n",
       "0    45.69  246.00     44.99       0.0    26.75  0.00  -109.00   -10.70   \n",
       "1    40.55  291.00     29.99       0.0     3.00  3.17   155.00     6.93   \n",
       "2    35.58  296.00     44.99       0.0     4.25  0.00   -15.00     1.76   \n",
       "3     9.13    7.75      7.50       0.0     7.25  0.00    16.25     4.13   \n",
       "4    57.99  515.50     59.99       0.0     0.00  0.00   -11.50     0.00   \n",
       "\n",
       "   DROPVCE  BLCKVCE  ...  REFER  INCMISS  INCOME  MCYCLE  CREDITAD  SETPRCM  \\\n",
       "0     5.33     0.67  ...      0        1       0       0         0        1   \n",
       "1     2.00     0.00  ...      0        0       1       0         0        0   \n",
       "2     9.00     1.33  ...      0        1       0       0         0        0   \n",
       "3     1.33     0.00  ...      0        0       5       0         1        1   \n",
       "4     8.67     3.67  ...      0        0       4       0         0        0   \n",
       "\n",
       "   SETPRC  RETCALL  CALIBRAT  CHURNDEP  \n",
       "0    0.00        0         0       NaN  \n",
       "1   29.99        0         0       NaN  \n",
       "2   29.99        0         0       NaN  \n",
       "3    0.00        0         0       NaN  \n",
       "4   29.99        0         0       NaN  \n",
       "\n",
       "[5 rows x 84 columns]"
      ]
     },
     "execution_count": 3,
     "metadata": {},
     "output_type": "execute_result"
    }
   ],
   "source": [
    "#check columns and shape\n",
    "print('Columns:\\n',df.columns)\n",
    "print('\\n')\n",
    "print(\"Dataframe Shape:\", df.shape)\n",
    "\n",
    "df.head()"
   ]
  },
  {
   "cell_type": "code",
   "execution_count": 4,
   "metadata": {},
   "outputs": [
    {
     "data": {
      "text/html": [
       "<div>\n",
       "<style scoped>\n",
       "    .dataframe tbody tr th:only-of-type {\n",
       "        vertical-align: middle;\n",
       "    }\n",
       "\n",
       "    .dataframe tbody tr th {\n",
       "        vertical-align: top;\n",
       "    }\n",
       "\n",
       "    .dataframe thead th {\n",
       "        text-align: right;\n",
       "    }\n",
       "</style>\n",
       "<table border=\"1\" class=\"dataframe\">\n",
       "  <thead>\n",
       "    <tr style=\"text-align: right;\">\n",
       "      <th></th>\n",
       "      <th>REVENUE</th>\n",
       "      <th>MOU</th>\n",
       "      <th>RECCHRGE</th>\n",
       "      <th>DIRECTAS</th>\n",
       "      <th>OVERAGE</th>\n",
       "      <th>ROAM</th>\n",
       "      <th>CHANGEM</th>\n",
       "      <th>CHANGER</th>\n",
       "      <th>DROPVCE</th>\n",
       "      <th>BLCKVCE</th>\n",
       "      <th>...</th>\n",
       "      <th>REFER</th>\n",
       "      <th>INCMISS</th>\n",
       "      <th>INCOME</th>\n",
       "      <th>MCYCLE</th>\n",
       "      <th>CREDITAD</th>\n",
       "      <th>SETPRCM</th>\n",
       "      <th>SETPRC</th>\n",
       "      <th>RETCALL</th>\n",
       "      <th>CALIBRAT</th>\n",
       "      <th>CHURNDEP</th>\n",
       "    </tr>\n",
       "  </thead>\n",
       "  <tbody>\n",
       "    <tr>\n",
       "      <th>count</th>\n",
       "      <td>150.000000</td>\n",
       "      <td>150.000000</td>\n",
       "      <td>150.000000</td>\n",
       "      <td>150.000000</td>\n",
       "      <td>150.000000</td>\n",
       "      <td>150.000000</td>\n",
       "      <td>149.000000</td>\n",
       "      <td>149.000000</td>\n",
       "      <td>150.000000</td>\n",
       "      <td>150.000000</td>\n",
       "      <td>...</td>\n",
       "      <td>150.000000</td>\n",
       "      <td>150.000000</td>\n",
       "      <td>150.000000</td>\n",
       "      <td>150.000000</td>\n",
       "      <td>150.000000</td>\n",
       "      <td>150.000000</td>\n",
       "      <td>150.00000</td>\n",
       "      <td>150.000000</td>\n",
       "      <td>150.000000</td>\n",
       "      <td>31.0</td>\n",
       "    </tr>\n",
       "    <tr>\n",
       "      <th>mean</th>\n",
       "      <td>59.297067</td>\n",
       "      <td>520.185000</td>\n",
       "      <td>45.567467</td>\n",
       "      <td>0.883667</td>\n",
       "      <td>41.760000</td>\n",
       "      <td>0.955333</td>\n",
       "      <td>-5.884228</td>\n",
       "      <td>0.069060</td>\n",
       "      <td>5.849267</td>\n",
       "      <td>4.233000</td>\n",
       "      <td>...</td>\n",
       "      <td>0.073333</td>\n",
       "      <td>0.213333</td>\n",
       "      <td>4.640000</td>\n",
       "      <td>0.013333</td>\n",
       "      <td>0.006667</td>\n",
       "      <td>0.646667</td>\n",
       "      <td>32.52980</td>\n",
       "      <td>0.020000</td>\n",
       "      <td>0.206667</td>\n",
       "      <td>1.0</td>\n",
       "    </tr>\n",
       "    <tr>\n",
       "      <th>std</th>\n",
       "      <td>53.091073</td>\n",
       "      <td>516.239186</td>\n",
       "      <td>23.127887</td>\n",
       "      <td>2.019887</td>\n",
       "      <td>109.776336</td>\n",
       "      <td>4.829327</td>\n",
       "      <td>218.397563</td>\n",
       "      <td>81.271003</td>\n",
       "      <td>7.359560</td>\n",
       "      <td>9.373958</td>\n",
       "      <td>...</td>\n",
       "      <td>0.261556</td>\n",
       "      <td>0.411034</td>\n",
       "      <td>3.171348</td>\n",
       "      <td>0.115082</td>\n",
       "      <td>0.081650</td>\n",
       "      <td>0.479606</td>\n",
       "      <td>56.89825</td>\n",
       "      <td>0.140469</td>\n",
       "      <td>0.406271</td>\n",
       "      <td>0.0</td>\n",
       "    </tr>\n",
       "    <tr>\n",
       "      <th>min</th>\n",
       "      <td>5.050000</td>\n",
       "      <td>0.000000</td>\n",
       "      <td>0.000000</td>\n",
       "      <td>0.000000</td>\n",
       "      <td>0.000000</td>\n",
       "      <td>0.000000</td>\n",
       "      <td>-814.500000</td>\n",
       "      <td>-188.890000</td>\n",
       "      <td>0.000000</td>\n",
       "      <td>0.000000</td>\n",
       "      <td>...</td>\n",
       "      <td>0.000000</td>\n",
       "      <td>0.000000</td>\n",
       "      <td>0.000000</td>\n",
       "      <td>0.000000</td>\n",
       "      <td>0.000000</td>\n",
       "      <td>0.000000</td>\n",
       "      <td>0.00000</td>\n",
       "      <td>0.000000</td>\n",
       "      <td>0.000000</td>\n",
       "      <td>1.0</td>\n",
       "    </tr>\n",
       "    <tr>\n",
       "      <th>25%</th>\n",
       "      <td>32.620000</td>\n",
       "      <td>208.937500</td>\n",
       "      <td>30.000000</td>\n",
       "      <td>0.000000</td>\n",
       "      <td>0.000000</td>\n",
       "      <td>0.000000</td>\n",
       "      <td>-59.000000</td>\n",
       "      <td>-4.130000</td>\n",
       "      <td>1.000000</td>\n",
       "      <td>0.082500</td>\n",
       "      <td>...</td>\n",
       "      <td>0.000000</td>\n",
       "      <td>0.000000</td>\n",
       "      <td>1.250000</td>\n",
       "      <td>0.000000</td>\n",
       "      <td>0.000000</td>\n",
       "      <td>0.000000</td>\n",
       "      <td>0.00000</td>\n",
       "      <td>0.000000</td>\n",
       "      <td>0.000000</td>\n",
       "      <td>1.0</td>\n",
       "    </tr>\n",
       "    <tr>\n",
       "      <th>50%</th>\n",
       "      <td>49.130000</td>\n",
       "      <td>361.250000</td>\n",
       "      <td>44.990000</td>\n",
       "      <td>0.000000</td>\n",
       "      <td>3.125000</td>\n",
       "      <td>0.000000</td>\n",
       "      <td>-10.500000</td>\n",
       "      <td>-0.450000</td>\n",
       "      <td>3.000000</td>\n",
       "      <td>0.835000</td>\n",
       "      <td>...</td>\n",
       "      <td>0.000000</td>\n",
       "      <td>0.000000</td>\n",
       "      <td>5.000000</td>\n",
       "      <td>0.000000</td>\n",
       "      <td>0.000000</td>\n",
       "      <td>1.000000</td>\n",
       "      <td>0.00000</td>\n",
       "      <td>0.000000</td>\n",
       "      <td>0.000000</td>\n",
       "      <td>1.0</td>\n",
       "    </tr>\n",
       "    <tr>\n",
       "      <th>75%</th>\n",
       "      <td>62.132500</td>\n",
       "      <td>628.312500</td>\n",
       "      <td>59.680000</td>\n",
       "      <td>0.740000</td>\n",
       "      <td>30.312500</td>\n",
       "      <td>0.122500</td>\n",
       "      <td>54.750000</td>\n",
       "      <td>1.140000</td>\n",
       "      <td>8.502500</td>\n",
       "      <td>4.247500</td>\n",
       "      <td>...</td>\n",
       "      <td>0.000000</td>\n",
       "      <td>0.000000</td>\n",
       "      <td>7.000000</td>\n",
       "      <td>0.000000</td>\n",
       "      <td>0.000000</td>\n",
       "      <td>1.000000</td>\n",
       "      <td>37.49000</td>\n",
       "      <td>0.000000</td>\n",
       "      <td>0.000000</td>\n",
       "      <td>1.0</td>\n",
       "    </tr>\n",
       "    <tr>\n",
       "      <th>max</th>\n",
       "      <td>376.390000</td>\n",
       "      <td>2617.500000</td>\n",
       "      <td>191.000000</td>\n",
       "      <td>16.090000</td>\n",
       "      <td>954.750000</td>\n",
       "      <td>52.700000</td>\n",
       "      <td>1244.750000</td>\n",
       "      <td>895.570000</td>\n",
       "      <td>36.670000</td>\n",
       "      <td>73.330000</td>\n",
       "      <td>...</td>\n",
       "      <td>1.000000</td>\n",
       "      <td>1.000000</td>\n",
       "      <td>9.000000</td>\n",
       "      <td>1.000000</td>\n",
       "      <td>1.000000</td>\n",
       "      <td>1.000000</td>\n",
       "      <td>199.99000</td>\n",
       "      <td>1.000000</td>\n",
       "      <td>1.000000</td>\n",
       "      <td>1.0</td>\n",
       "    </tr>\n",
       "  </tbody>\n",
       "</table>\n",
       "<p>8 rows × 81 columns</p>\n",
       "</div>"
      ],
      "text/plain": [
       "          REVENUE          MOU    RECCHRGE    DIRECTAS     OVERAGE  \\\n",
       "count  150.000000   150.000000  150.000000  150.000000  150.000000   \n",
       "mean    59.297067   520.185000   45.567467    0.883667   41.760000   \n",
       "std     53.091073   516.239186   23.127887    2.019887  109.776336   \n",
       "min      5.050000     0.000000    0.000000    0.000000    0.000000   \n",
       "25%     32.620000   208.937500   30.000000    0.000000    0.000000   \n",
       "50%     49.130000   361.250000   44.990000    0.000000    3.125000   \n",
       "75%     62.132500   628.312500   59.680000    0.740000   30.312500   \n",
       "max    376.390000  2617.500000  191.000000   16.090000  954.750000   \n",
       "\n",
       "             ROAM      CHANGEM     CHANGER     DROPVCE     BLCKVCE  ...  \\\n",
       "count  150.000000   149.000000  149.000000  150.000000  150.000000  ...   \n",
       "mean     0.955333    -5.884228    0.069060    5.849267    4.233000  ...   \n",
       "std      4.829327   218.397563   81.271003    7.359560    9.373958  ...   \n",
       "min      0.000000  -814.500000 -188.890000    0.000000    0.000000  ...   \n",
       "25%      0.000000   -59.000000   -4.130000    1.000000    0.082500  ...   \n",
       "50%      0.000000   -10.500000   -0.450000    3.000000    0.835000  ...   \n",
       "75%      0.122500    54.750000    1.140000    8.502500    4.247500  ...   \n",
       "max     52.700000  1244.750000  895.570000   36.670000   73.330000  ...   \n",
       "\n",
       "            REFER     INCMISS      INCOME      MCYCLE    CREDITAD     SETPRCM  \\\n",
       "count  150.000000  150.000000  150.000000  150.000000  150.000000  150.000000   \n",
       "mean     0.073333    0.213333    4.640000    0.013333    0.006667    0.646667   \n",
       "std      0.261556    0.411034    3.171348    0.115082    0.081650    0.479606   \n",
       "min      0.000000    0.000000    0.000000    0.000000    0.000000    0.000000   \n",
       "25%      0.000000    0.000000    1.250000    0.000000    0.000000    0.000000   \n",
       "50%      0.000000    0.000000    5.000000    0.000000    0.000000    1.000000   \n",
       "75%      0.000000    0.000000    7.000000    0.000000    0.000000    1.000000   \n",
       "max      1.000000    1.000000    9.000000    1.000000    1.000000    1.000000   \n",
       "\n",
       "          SETPRC     RETCALL    CALIBRAT  CHURNDEP  \n",
       "count  150.00000  150.000000  150.000000      31.0  \n",
       "mean    32.52980    0.020000    0.206667       1.0  \n",
       "std     56.89825    0.140469    0.406271       0.0  \n",
       "min      0.00000    0.000000    0.000000       1.0  \n",
       "25%      0.00000    0.000000    0.000000       1.0  \n",
       "50%      0.00000    0.000000    0.000000       1.0  \n",
       "75%     37.49000    0.000000    0.000000       1.0  \n",
       "max    199.99000    1.000000    1.000000       1.0  \n",
       "\n",
       "[8 rows x 81 columns]"
      ]
     },
     "execution_count": 4,
     "metadata": {},
     "output_type": "execute_result"
    }
   ],
   "source": [
    "df.describe()"
   ]
  },
  {
   "cell_type": "code",
   "execution_count": 5,
   "metadata": {},
   "outputs": [
    {
     "data": {
      "text/plain": [
       "int64      57\n",
       "float64    24\n",
       "object      3\n",
       "dtype: int64"
      ]
     },
     "execution_count": 5,
     "metadata": {},
     "output_type": "execute_result"
    }
   ],
   "source": [
    "#datatype count\n",
    "df.dtypes.value_counts()"
   ]
  },
  {
   "cell_type": "code",
   "execution_count": 6,
   "metadata": {
    "scrolled": true
   },
   "outputs": [
    {
     "name": "stdout",
     "output_type": "stream",
     "text": [
      "CUSTOMER         150\n",
      "REVENUE          143\n",
      "MOU              143\n",
      "EQPDAYS          142\n",
      "CHANGEM          138\n",
      "MOUREC           136\n",
      "PEAKVCE          132\n",
      "CHANGER          126\n",
      "OPEAKVCE         124\n",
      "OUTCALLS         102\n",
      "UNANSVCE         100\n",
      "CSA               97\n",
      "OVERAGE           77\n",
      "DROPBLK           64\n",
      "INCALLS           57\n",
      "RECCHRGE          55\n",
      "DROPVCE           48\n",
      "BLCKVCE           36\n",
      "ROAM              34\n",
      "AGE2              29\n",
      "AGE1              28\n",
      "CUSTCARE          26\n",
      "CALLWAIT          25\n",
      "DIRECTAS          23\n",
      "MONTHS            17\n",
      "INCOME            10\n",
      "SETPRC            10\n",
      "THREEWAY           9\n",
      "CREDIT_RATING      7\n",
      "OCC_LABEL          7\n",
      "OCC                7\n",
      "PHONES             5\n",
      "Column 45          4\n",
      "UNIQSUBS           4\n",
      "MODELS             4\n",
      "ACTVSUBS           3\n",
      "MARRY              3\n",
      "CHURN              2\n",
      "CHILDREN           2\n",
      "CREDITA            2\n",
      "CREDITGY           2\n",
      "CREDITAA           2\n",
      "CREDITB            2\n",
      "CREDITC            2\n",
      "CREDITDE           2\n",
      "PRIZMRUR           2\n",
      "CREDITZ            2\n",
      "RETACCPT           2\n",
      "MAILORD            2\n",
      "MAILRES            2\n",
      "MAILFLAG           2\n",
      "TRAVEL             2\n",
      "PCOWN              2\n",
      "CREDITCD           2\n",
      "RETCALLS           2\n",
      "NEWCELLY           2\n",
      "CALIBRAT           2\n",
      "NEWCELLN           2\n",
      "REFER              2\n",
      "INCMISS            2\n",
      "MCYCLE             2\n",
      "CREDITAD           2\n",
      "SETPRCM            2\n",
      "RETCALL            2\n",
      "MARRY_LABEL        2\n",
      "MARRYNO            2\n",
      "OCCCLER            2\n",
      "PRIZMTWN           2\n",
      "MARRYUN            2\n",
      "OWNRENT            2\n",
      "OCCSELF            2\n",
      "OCCRET             2\n",
      "PRIZMUB            2\n",
      "OCCSTUD            2\n",
      "OCCCRFT            2\n",
      "MARRYYES           2\n",
      "OCCPROF            2\n",
      "RV                 2\n",
      "TRUCK              2\n",
      "WEBCAP             2\n",
      "REFURB             2\n",
      "CALLFWDV           1\n",
      "OCCHMKR            1\n",
      "CHURNDEP           1\n",
      "dtype: int64\n"
     ]
    }
   ],
   "source": [
    "#unique values\n",
    "with pd.option_context('display.max_rows', None, 'display.max_columns', None):  # more options can be specified also\n",
    "    print(df.nunique().sort_values(ascending=False))"
   ]
  },
  {
   "cell_type": "code",
   "execution_count": 7,
   "metadata": {
    "scrolled": true
   },
   "outputs": [
    {
     "name": "stdout",
     "output_type": "stream",
     "text": [
      "CHURNDEP         119\n",
      "AGE2               3\n",
      "AGE1               3\n",
      "CHANGEM            1\n",
      "CHANGER            1\n",
      "UNIQSUBS           0\n",
      "ACTVSUBS           0\n",
      "CSA                0\n",
      "PHONES             0\n",
      "MODELS             0\n",
      "EQPDAYS            0\n",
      "CUSTOMER           0\n",
      "CHILDREN           0\n",
      "CHURN              0\n",
      "CREDITA            0\n",
      "CREDITAA           0\n",
      "CREDITB            0\n",
      "CREDITC            0\n",
      "CREDITDE           0\n",
      "CREDITGY           0\n",
      "CREDITZ            0\n",
      "MONTHS             0\n",
      "CALLWAIT           0\n",
      "CALIBRAT           0\n",
      "UNANSVCE           0\n",
      "MOU                0\n",
      "RECCHRGE           0\n",
      "DIRECTAS           0\n",
      "OVERAGE            0\n",
      "ROAM               0\n",
      "DROPVCE            0\n",
      "BLCKVCE            0\n",
      "CUSTCARE           0\n",
      "CALLFWDV           0\n",
      "THREEWAY           0\n",
      "MOUREC             0\n",
      "OUTCALLS           0\n",
      "INCALLS            0\n",
      "PEAKVCE            0\n",
      "OPEAKVCE           0\n",
      "DROPBLK            0\n",
      "CREDIT_RATING      0\n",
      "PRIZMRUR           0\n",
      "PRIZMUB            0\n",
      "MARRY_LABEL        0\n",
      "MAILRES            0\n",
      "MAILFLAG           0\n",
      "TRAVEL             0\n",
      "PCOWN              0\n",
      "CREDITCD           0\n",
      "RETCALLS           0\n",
      "RETACCPT           0\n",
      "NEWCELLY           0\n",
      "NEWCELLN           0\n",
      "REFER              0\n",
      "INCMISS            0\n",
      "INCOME             0\n",
      "MCYCLE             0\n",
      "CREDITAD           0\n",
      "SETPRCM            0\n",
      "SETPRC             0\n",
      "RETCALL            0\n",
      "MAILORD            0\n",
      "MARRY              0\n",
      "PRIZMTWN           0\n",
      "MARRYNO            0\n",
      "Column 45          0\n",
      "REFURB             0\n",
      "WEBCAP             0\n",
      "TRUCK              0\n",
      "RV                 0\n",
      "OCCPROF            0\n",
      "OCCCLER            0\n",
      "OCCCRFT            0\n",
      "OCCSTUD            0\n",
      "OCCHMKR            0\n",
      "OCCRET             0\n",
      "OCCSELF            0\n",
      "OCC                0\n",
      "OCC_LABEL          0\n",
      "OWNRENT            0\n",
      "MARRYUN            0\n",
      "MARRYYES           0\n",
      "REVENUE            0\n",
      "dtype: int64\n"
     ]
    }
   ],
   "source": [
    "#Check Missing/null data\n",
    "with pd.option_context('display.max_rows', None, 'display.max_columns', None):  # more options can be specified also\n",
    "    print(df.isnull().sum().sort_values(ascending=False))"
   ]
  },
  {
   "cell_type": "code",
   "execution_count": 8,
   "metadata": {},
   "outputs": [
    {
     "data": {
      "text/plain": [
       "1     31\n",
       "0    119\n",
       "Name: CHURN, dtype: int64"
      ]
     },
     "execution_count": 8,
     "metadata": {},
     "output_type": "execute_result"
    }
   ],
   "source": [
    "#predicited variable\n",
    "df['CHURN'].value_counts(ascending=True)"
   ]
  },
  {
   "cell_type": "markdown",
   "metadata": {},
   "source": [
    "### Data Cleansing"
   ]
  },
  {
   "cell_type": "code",
   "execution_count": 9,
   "metadata": {
    "scrolled": true
   },
   "outputs": [
    {
     "name": "stdout",
     "output_type": "stream",
     "text": [
      "Columns:\n",
      " Index(['revenue', 'mou', 'recchrge', 'directas', 'overage', 'roam', 'changem',\n",
      "       'changer', 'dropvce', 'blckvce', 'unansvce', 'custcare', 'threeway',\n",
      "       'mourec', 'outcalls', 'incalls', 'peakvce', 'opeakvce', 'dropblk',\n",
      "       'callfwdv', 'callwait', 'churn', 'months', 'uniqsubs', 'actvsubs',\n",
      "       'csa', 'phones', 'models', 'eqpdays', 'customer', 'age1', 'age2',\n",
      "       'children', 'credita', 'creditaa', 'creditb', 'creditc', 'creditde',\n",
      "       'creditgy', 'creditz', 'credit_rating', 'prizmrur', 'prizmub',\n",
      "       'prizmtwn', 'column 45', 'refurb', 'webcap', 'truck', 'rv', 'occprof',\n",
      "       'occcler', 'occcrft', 'occstud', 'occhmkr', 'occret', 'occself', 'occ',\n",
      "       'occ_label', 'ownrent', 'marryun', 'marryyes', 'marryno', 'marry',\n",
      "       'marry_label', 'mailord', 'mailres', 'mailflag', 'travel', 'pcown',\n",
      "       'creditcd', 'retcalls', 'retaccpt', 'newcelly', 'newcelln', 'refer',\n",
      "       'incmiss', 'income', 'mcycle', 'creditad', 'setprcm', 'setprc',\n",
      "       'retcall', 'calibrat', 'churndep'],\n",
      "      dtype='object')\n"
     ]
    }
   ],
   "source": [
    "#standardize all columns to lowercase for ease of use in querying\n",
    "df.columns = map(str.lower, df.columns)\n",
    "#verify\n",
    "print('Columns:\\n',df.columns)"
   ]
  },
  {
   "cell_type": "code",
   "execution_count": 10,
   "metadata": {},
   "outputs": [
    {
     "name": "stdout",
     "output_type": "stream",
     "text": [
      "Columns:\n",
      " Index(['revenue', 'mou', 'recchrge', 'directas', 'overage', 'roam', 'changem',\n",
      "       'changer', 'dropvce', 'blckvce', 'unansvce', 'custcare', 'threeway',\n",
      "       'mourec', 'outcalls', 'incalls', 'peakvce', 'opeakvce', 'dropblk',\n",
      "       'callfwdv', 'callwait', 'churn', 'months', 'uniqsubs', 'actvsubs',\n",
      "       'csa', 'phones', 'models', 'eqpdays', 'customer', 'age1', 'age2',\n",
      "       'children', 'credita', 'creditaa', 'creditb', 'creditc', 'creditde',\n",
      "       'creditgy', 'creditz', 'credit_rating', 'prizmrur', 'prizmub',\n",
      "       'prizmtwn', 'przm_num', 'refurb', 'webcap', 'truck', 'rv', 'occprof',\n",
      "       'occcler', 'occcrft', 'occstud', 'occhmkr', 'occret', 'occself', 'occ',\n",
      "       'occ_label', 'ownrent', 'marryun', 'marryyes', 'marryno', 'marry',\n",
      "       'marry_label', 'mailord', 'mailres', 'mailflag', 'travel', 'pcown',\n",
      "       'creditcd', 'retcalls', 'retaccpt', 'newcelly', 'newcelln', 'refer',\n",
      "       'incmiss', 'income', 'mcycle', 'creditad', 'setprcm', 'setprc',\n",
      "       'retcall', 'calibrat', 'churndep'],\n",
      "      dtype='object')\n"
     ]
    }
   ],
   "source": [
    "#mislabeled column\n",
    "df.rename(columns={'column 45':'przm_num'}, inplace=True)\n",
    "\n",
    "#verify\n",
    "print('Columns:\\n',df.columns)"
   ]
  },
  {
   "cell_type": "code",
   "execution_count": 11,
   "metadata": {
    "scrolled": true
   },
   "outputs": [
    {
     "data": {
      "text/plain": [
       "1     31\n",
       "0    119\n",
       "Name: churn, dtype: int64"
      ]
     },
     "execution_count": 11,
     "metadata": {},
     "output_type": "execute_result"
    }
   ],
   "source": [
    "#predicited variable\n",
    "df['churn'].value_counts(ascending=True)"
   ]
  },
  {
   "cell_type": "code",
   "execution_count": 12,
   "metadata": {},
   "outputs": [],
   "source": [
    "#drop churndep because it is just a field set up for logreg\n",
    "#drop calibrat bc I want to do my own separation\n",
    "df = df.drop(['churndep'], axis=1)\n",
    "df = df.drop(['calibrat'], axis=1)"
   ]
  },
  {
   "cell_type": "markdown",
   "metadata": {},
   "source": [
    "### Changing Data Types"
   ]
  },
  {
   "cell_type": "code",
   "execution_count": 13,
   "metadata": {},
   "outputs": [],
   "source": [
    "''' \n",
    "    Using data dictionary to fix some data types to string/objects. \n",
    "    So that they won't be misrepresented in any cleaning and calculations. \n",
    "    They're not actually numbers.\n",
    "    This is mostly done for analysis purposes in Tableau.\n",
    "    It is also done to properly handle null values.\n",
    "    \n",
    "'''\n",
    "\n",
    "df['children'] = df['children'].apply(str)\n",
    "df['churn'] = df['churn'].apply(str)\n",
    "df['credit_rating'] = df['credit_rating'].apply(str)\n",
    "df['credita'] = df['credita'].apply(str)\n",
    "df['creditaa'] = df['creditaa'].apply(str)\n",
    "df['creditad'] = df['creditad'].apply(str)\n",
    "df['creditb'] = df['creditb'].apply(str)\n",
    "df['creditc'] = df['creditc'].apply(str)\n",
    "df['creditcd'] = df['creditcd'].apply(str)\n",
    "df['creditde'] = df['creditde'].apply(str)\n",
    "df['creditgy'] = df['creditgy'].apply(str)\n",
    "df['creditz'] = df['creditz'].apply(str)\n",
    "df['incmiss'] = df['incmiss'].apply(str)\n",
    "df['income'] = df['income'].apply(str)\n",
    "df['mailflag'] = df['mailflag'].apply(str)\n",
    "df['mailord'] = df['mailord'].apply(str)\n",
    "df['mailres'] = df['mailres'].apply(str)\n",
    "df['marry'] = df['marry'].apply(str)\n",
    "df['marryno'] = df['marryno'].apply(str)\n",
    "df['marryun'] = df['marryun'].apply(str)\n",
    "df['marryyes'] = df['marryyes'].apply(str)\n",
    "df['mcycle'] = df['mcycle'].apply(str)\n",
    "df['newcelln'] = df['newcelln'].apply(str)\n",
    "df['newcelly'] = df['newcelly'].apply(str)\n",
    "df['mailflag'] = df['mailflag'].apply(str)\n",
    "df['mailord'] = df['mailord'].apply(str)\n",
    "df['mailres'] = df['mailres'].apply(str)\n",
    "df['marryno'] = df['marryno'].apply(str)\n",
    "df['marryun'] = df['marryun'].apply(str)\n",
    "df['marryyes'] = df['marryyes'].apply(str)\n",
    "df['mcycle'] = df['mcycle'].apply(str)\n",
    "df['newcelln'] = df['newcelln'].apply(str)\n",
    "df['newcelly'] = df['newcelly'].apply(str)\n",
    "df['occ'] = df['occ'].apply(str)\n",
    "df['occ_label'] = df['occ_label'].apply(str)\n",
    "df['occcler'] = df['occcler'].apply(str)\n",
    "df['occcrft'] = df['occcrft'].apply(str)\n",
    "df['occhmkr'] = df['occhmkr'].apply(str)\n",
    "df['occprof'] = df['occprof'].apply(str)\n",
    "df['occret'] = df['occret'].apply(str)\n",
    "df['occself'] = df['occself'].apply(str)\n",
    "df['occstud'] = df['occstud'].apply(str)\n",
    "df['ownrent'] = df['ownrent'].apply(str)\n",
    "df['pcown'] = df['pcown'].apply(str)\n",
    "df['prizmrur'] = df['prizmrur'].apply(str)\n",
    "df['prizmtwn'] = df['prizmtwn'].apply(str)\n",
    "df['prizmub'] = df['prizmub'].apply(str)\n",
    "df['przm_num'] = df['przm_num'].apply(str)\n",
    "df['refurb'] = df['refurb'].apply(str)\n",
    "df['retcall'] = df['retcall'].apply(str)\n",
    "df['rv'] = df['rv'].apply(str)\n",
    "df['setprcm'] = df['setprcm'].apply(str)\n",
    "df['travel'] = df['travel'].apply(str)\n",
    "df['truck'] = df['truck'].apply(str)\n",
    "df['webcap'] = df['webcap'].apply(str)\n"
   ]
  },
  {
   "cell_type": "code",
   "execution_count": 14,
   "metadata": {},
   "outputs": [
    {
     "data": {
      "text/plain": [
       "object     48\n",
       "float64    23\n",
       "int64      11\n",
       "dtype: int64"
      ]
     },
     "execution_count": 14,
     "metadata": {},
     "output_type": "execute_result"
    }
   ],
   "source": [
    "#datatype count\n",
    "df.dtypes.value_counts()"
   ]
  },
  {
   "cell_type": "markdown",
   "metadata": {},
   "source": [
    "### Missing Values"
   ]
  },
  {
   "cell_type": "code",
   "execution_count": 15,
   "metadata": {
    "scrolled": true
   },
   "outputs": [
    {
     "name": "stdout",
     "output_type": "stream",
     "text": [
      "age1             3\n",
      "age2             3\n",
      "changem          1\n",
      "changer          1\n",
      "retcall          0\n",
      "uniqsubs         0\n",
      "actvsubs         0\n",
      "csa              0\n",
      "phones           0\n",
      "models           0\n",
      "eqpdays          0\n",
      "customer         0\n",
      "children         0\n",
      "churn            0\n",
      "credita          0\n",
      "creditaa         0\n",
      "creditb          0\n",
      "creditc          0\n",
      "creditde         0\n",
      "creditgy         0\n",
      "months           0\n",
      "callfwdv         0\n",
      "callwait         0\n",
      "unansvce         0\n",
      "mou              0\n",
      "recchrge         0\n",
      "directas         0\n",
      "overage          0\n",
      "roam             0\n",
      "dropvce          0\n",
      "blckvce          0\n",
      "custcare         0\n",
      "setprc           0\n",
      "threeway         0\n",
      "mourec           0\n",
      "outcalls         0\n",
      "incalls          0\n",
      "peakvce          0\n",
      "opeakvce         0\n",
      "dropblk          0\n",
      "creditz          0\n",
      "credit_rating    0\n",
      "prizmrur         0\n",
      "prizmub          0\n",
      "marry_label      0\n",
      "mailord          0\n",
      "mailres          0\n",
      "mailflag         0\n",
      "travel           0\n",
      "pcown            0\n",
      "creditcd         0\n",
      "retcalls         0\n",
      "retaccpt         0\n",
      "newcelly         0\n",
      "newcelln         0\n",
      "refer            0\n",
      "incmiss          0\n",
      "income           0\n",
      "mcycle           0\n",
      "creditad         0\n",
      "setprcm          0\n",
      "marry            0\n",
      "marryno          0\n",
      "marryyes         0\n",
      "occcler          0\n",
      "prizmtwn         0\n",
      "przm_num         0\n",
      "refurb           0\n",
      "webcap           0\n",
      "truck            0\n",
      "rv               0\n",
      "occprof          0\n",
      "occcrft          0\n",
      "marryun          0\n",
      "occstud          0\n",
      "occhmkr          0\n",
      "occret           0\n",
      "occself          0\n",
      "occ              0\n",
      "occ_label        0\n",
      "ownrent          0\n",
      "revenue          0\n",
      "dtype: int64\n"
     ]
    }
   ],
   "source": [
    "#Check Missing/null data\n",
    "with pd.option_context('display.max_rows', None, 'display.max_columns', None):  # more options can be specified also\n",
    "    print(df.isnull().sum().sort_values(ascending=False))"
   ]
  },
  {
   "cell_type": "markdown",
   "metadata": {},
   "source": [
    "#### Age1"
   ]
  },
  {
   "cell_type": "code",
   "execution_count": 16,
   "metadata": {
    "scrolled": true
   },
   "outputs": [
    {
     "name": "stdout",
     "output_type": "stream",
     "text": [
      "Age1 Values:\n",
      "Average Age1 w/o Zeroes:  43.0\n",
      "Average Age1:  33.0\n",
      "Minimum Age1 WITH Zeroes:  0.0\n",
      "Minimum Age1 w/o Zeroes:  20.0\n",
      "Maximum Age1:  76.0\n",
      "Null values for Age1:  3\n",
      "Number of Age1 Zeroes:  35\n"
     ]
    }
   ],
   "source": [
    "#check values of age1\n",
    "\n",
    "print(\"Age1 Values:\")\n",
    "print(\"Average Age1 w/o Zeroes: \", round(df['age1'].loc[df['age1']!=0].mean(),0))\n",
    "print(\"Average Age1: \", round(df['age1'].mean(),0))\n",
    "print(\"Minimum Age1 WITH Zeroes: \", df['age1'].min())\n",
    "print(\"Minimum Age1 w/o Zeroes: \", df['age1'].loc[df['age1']!=0].min())\n",
    "print(\"Maximum Age1: \", df['age1'].max())\n",
    "print(\"Null values for Age1: \", pd.isnull(df['age1']).sum())\n",
    "\n",
    "#check # 0s in age1\n",
    "print(\"Number of Age1 Zeroes: \",(df['age1'] ==0).sum())"
   ]
  },
  {
   "cell_type": "code",
   "execution_count": 17,
   "metadata": {
    "scrolled": true
   },
   "outputs": [],
   "source": [
    "''' Fill null age values to 0 to match the other ages that are missing AS 0.\n",
    "    Will also create a \"Missing\" group for ages out of those groups later. '''\n",
    "\n",
    "df['age1'].fillna(value=0, inplace=True)"
   ]
  },
  {
   "cell_type": "code",
   "execution_count": 18,
   "metadata": {
    "scrolled": true
   },
   "outputs": [
    {
     "name": "stdout",
     "output_type": "stream",
     "text": [
      "Age1 Values\n",
      "Average Age1:  32.0\n",
      "Minimum Age1:  0.0\n",
      "Maximum Age1:  76.0\n",
      "Null values for Age1:  0\n",
      "Number of Age1 Zeroes:  38\n"
     ]
    }
   ],
   "source": [
    "#recheck values of age1\n",
    "\n",
    "print(\"Age1 Values\")\n",
    "print(\"Average Age1: \", round(df['age1'].mean(),0))\n",
    "print(\"Minimum Age1: \", df['age1'].min())\n",
    "print(\"Maximum Age1: \", df['age1'].max())\n",
    "print(\"Null values for Age1: \", pd.isnull(df['age1']).sum())\n",
    "#check # 0s in age1\n",
    "print(\"Number of Age1 Zeroes: \",(df['age1'] ==0).sum())"
   ]
  },
  {
   "cell_type": "markdown",
   "metadata": {},
   "source": [
    "#### Age2"
   ]
  },
  {
   "cell_type": "code",
   "execution_count": 19,
   "metadata": {
    "scrolled": true
   },
   "outputs": [
    {
     "name": "stdout",
     "output_type": "stream",
     "text": [
      "Age2 Values:\n",
      "Average Age2 w/o Zeroes:  44.0\n",
      "Average Age2:  22.0\n",
      "Minimum Age2 WITH Zeroes:  0.0\n",
      "Minimum Age2 w/o Zeroes:  18.0\n",
      "Maximum Age2:  84.0\n",
      "Null values for Age2:  3\n",
      "Number of Age2 Zeroes:  72\n"
     ]
    }
   ],
   "source": [
    "#check values of age2\n",
    "\n",
    "print(\"Age2 Values:\")\n",
    "print(\"Average Age2 w/o Zeroes: \", round(df['age2'].loc[df['age2']!=0].mean(),0))\n",
    "print(\"Average Age2: \", round(df['age2'].mean(),0))\n",
    "print(\"Minimum Age2 WITH Zeroes: \", df['age2'].min())\n",
    "print(\"Minimum Age2 w/o Zeroes: \", df['age2'].loc[df['age2']!=0].min())\n",
    "print(\"Maximum Age2: \", df['age2'].max())\n",
    "print(\"Null values for Age2: \", pd.isnull(df['age2']).sum())\n",
    "\n",
    "#check # 0s in age2\n",
    "print(\"Number of Age2 Zeroes: \",(df['age2'] ==0).sum())"
   ]
  },
  {
   "cell_type": "code",
   "execution_count": 20,
   "metadata": {},
   "outputs": [],
   "source": [
    "''' Fill null age values to 0 to match the other ages that are missing AS 0.\n",
    "    Will also create a \"Missing\" group for ages out of those groups later. '''\n",
    "\n",
    "df['age2'].fillna(value=0, inplace=True)"
   ]
  },
  {
   "cell_type": "code",
   "execution_count": 21,
   "metadata": {},
   "outputs": [
    {
     "name": "stdout",
     "output_type": "stream",
     "text": [
      "Age2 Values\n",
      "Average Age2:  22.0\n",
      "Minimum Age2:  0.0\n",
      "Maximum Age2:  84.0\n",
      "Null values for Age2:  0\n",
      "Number of Age2 Zeroes:  75\n"
     ]
    }
   ],
   "source": [
    "#recheck values of age2\n",
    "\n",
    "print(\"Age2 Values\")\n",
    "print(\"Average Age2: \", round(df['age2'].mean(),0))\n",
    "print(\"Minimum Age2: \", df['age2'].min())\n",
    "print(\"Maximum Age2: \", df['age2'].max())\n",
    "print(\"Null values for Age2: \", pd.isnull(df['age2']).sum())\n",
    "#check # 0s in age2\n",
    "print(\"Number of Age2 Zeroes: \",(df['age2'] ==0).sum())"
   ]
  },
  {
   "cell_type": "markdown",
   "metadata": {},
   "source": [
    "Because the values for the remaining null columns can legitimately have a zero value, and are numerical and discrete, I am going to fill the rest of those with their mean. I think that it is a safe choice being that the highest null is 9/1000."
   ]
  },
  {
   "cell_type": "code",
   "execution_count": 22,
   "metadata": {
    "scrolled": true
   },
   "outputs": [],
   "source": [
    "#fill rest of nulls with their averages\n",
    "df= df.fillna(df.mean())"
   ]
  },
  {
   "cell_type": "code",
   "execution_count": 23,
   "metadata": {
    "scrolled": true
   },
   "outputs": [
    {
     "data": {
      "text/plain": [
       "retcall      0\n",
       "callwait     0\n",
       "months       0\n",
       "uniqsubs     0\n",
       "actvsubs     0\n",
       "            ..\n",
       "occself      0\n",
       "occ          0\n",
       "occ_label    0\n",
       "ownrent      0\n",
       "revenue      0\n",
       "Length: 82, dtype: int64"
      ]
     },
     "execution_count": 23,
     "metadata": {},
     "output_type": "execute_result"
    }
   ],
   "source": [
    "#recheck nulls\n",
    "df.isnull().sum().sort_values(ascending=False)"
   ]
  },
  {
   "cell_type": "markdown",
   "metadata": {},
   "source": [
    "### Outliers"
   ]
  },
  {
   "cell_type": "code",
   "execution_count": 24,
   "metadata": {},
   "outputs": [
    {
     "name": "stdout",
     "output_type": "stream",
     "text": [
      "           revenue          mou    recchrge    directas     overage  \\\n",
      "count   150.000000   150.000000  150.000000  150.000000  150.000000   \n",
      "unique         NaN          NaN         NaN         NaN         NaN   \n",
      "top            NaN          NaN         NaN         NaN         NaN   \n",
      "freq           NaN          NaN         NaN         NaN         NaN   \n",
      "mean     59.297067   520.185000   45.567467    0.883667   41.760000   \n",
      "std      53.091073   516.239186   23.127887    2.019887  109.776336   \n",
      "min       5.050000     0.000000    0.000000    0.000000    0.000000   \n",
      "25%      32.620000   208.937500   30.000000    0.000000    0.000000   \n",
      "50%      49.130000   361.250000   44.990000    0.000000    3.125000   \n",
      "75%      62.132500   628.312500   59.680000    0.740000   30.312500   \n",
      "max     376.390000  2617.500000  191.000000   16.090000  954.750000   \n",
      "\n",
      "              roam      changem     changer     dropvce     blckvce  \\\n",
      "count   150.000000   150.000000  150.000000  150.000000  150.000000   \n",
      "unique         NaN          NaN         NaN         NaN         NaN   \n",
      "top            NaN          NaN         NaN         NaN         NaN   \n",
      "freq           NaN          NaN         NaN         NaN         NaN   \n",
      "mean      0.955333    -5.884228    0.069060    5.849267    4.233000   \n",
      "std       4.829327   217.663451   80.997823    7.359560    9.373958   \n",
      "min       0.000000  -814.500000 -188.890000    0.000000    0.000000   \n",
      "25%       0.000000   -58.375000   -4.110000    1.000000    0.082500   \n",
      "50%       0.000000   -10.375000   -0.450000    3.000000    0.835000   \n",
      "75%       0.122500    53.437500    1.105000    8.502500    4.247500   \n",
      "max      52.700000  1244.750000  895.570000   36.670000   73.330000   \n",
      "\n",
      "          unansvce    custcare    threeway      mourec    outcalls  \\\n",
      "count   150.000000  150.000000  150.000000  150.000000  150.000000   \n",
      "unique         NaN         NaN         NaN         NaN         NaN   \n",
      "top            NaN         NaN         NaN         NaN         NaN   \n",
      "freq           NaN         NaN         NaN         NaN         NaN   \n",
      "mean     26.717733    1.317600    0.224000  116.226867   28.850933   \n",
      "std      30.862717    2.581907    0.606198  149.648203   40.973890   \n",
      "min       0.000000    0.000000    0.000000    0.000000    0.000000   \n",
      "25%       5.670000    0.000000    0.000000   13.935000    5.415000   \n",
      "50%      18.165000    0.000000    0.000000   63.375000   15.000000   \n",
      "75%      34.917500    1.330000    0.330000  148.562500   37.247500   \n",
      "max     182.000000   17.330000    4.330000  816.950000  338.000000   \n",
      "\n",
      "           incalls     peakvce    opeakvce     dropblk  callfwdv    callwait  \\\n",
      "count   150.000000  150.000000  150.000000  150.000000     150.0  150.000000   \n",
      "unique         NaN         NaN         NaN         NaN       NaN         NaN   \n",
      "top            NaN         NaN         NaN         NaN       NaN         NaN   \n",
      "freq           NaN         NaN         NaN         NaN       NaN         NaN   \n",
      "mean      8.675533   81.731133   71.075600   10.113267       0.0    1.553267   \n",
      "std      18.344717   85.094147   80.103965   12.333661       0.0    3.416694   \n",
      "min       0.000000    0.000000    0.000000    0.000000       0.0    0.000000   \n",
      "25%       0.000000   25.002500   16.835000    2.330000       0.0    0.000000   \n",
      "50%       2.165000   55.000000   42.670000    6.330000       0.0    0.330000   \n",
      "75%       9.585000  111.752500   99.920000   12.247500       0.0    1.585000   \n",
      "max     136.670000  565.670000  382.670000   81.330000       0.0   26.670000   \n",
      "\n",
      "       churn      months    uniqsubs    actvsubs        csa      phones  \\\n",
      "count    150  150.000000  150.000000  150.000000        150  150.000000   \n",
      "unique     2         NaN         NaN         NaN         97         NaN   \n",
      "top        0         NaN         NaN         NaN  NYCBRO917         NaN   \n",
      "freq     119         NaN         NaN         NaN         10         NaN   \n",
      "mean     NaN   15.886667    1.480000    1.333333        NaN    1.526667   \n",
      "std      NaN    3.855679    0.720924    0.551589        NaN    0.864642   \n",
      "min      NaN   10.000000    1.000000    1.000000        NaN    1.000000   \n",
      "25%      NaN   13.000000    1.000000    1.000000        NaN    1.000000   \n",
      "50%      NaN   15.500000    1.000000    1.000000        NaN    1.000000   \n",
      "75%      NaN   18.000000    2.000000    2.000000        NaN    2.000000   \n",
      "max      NaN   26.000000    4.000000    3.000000        NaN    5.000000   \n",
      "\n",
      "            models     eqpdays      customer        age1        age2 children  \\\n",
      "count   150.000000  150.000000  1.500000e+02  150.000000  150.000000      150   \n",
      "unique         NaN         NaN           NaN         NaN         NaN        2   \n",
      "top            NaN         NaN           NaN         NaN         NaN        0   \n",
      "freq           NaN         NaN           NaN         NaN         NaN      108   \n",
      "mean      1.346667  369.986667  1.049450e+06   32.293333   22.026667      NaN   \n",
      "std       0.623765  171.431008  1.078289e+04   21.902023   24.189394      NaN   \n",
      "min       1.000000    5.000000  1.022063e+06    0.000000    0.000000      NaN   \n",
      "25%       1.000000  270.750000  1.040916e+06    5.000000    0.000000      NaN   \n",
      "50%       1.000000  384.500000  1.052111e+06   36.000000    9.000000      NaN   \n",
      "75%       2.000000  486.000000  1.058888e+06   48.000000   43.500000      NaN   \n",
      "max       4.000000  761.000000  1.064134e+06   76.000000   84.000000      NaN   \n",
      "\n",
      "       credita creditaa creditb creditc creditde creditgy creditz  \\\n",
      "count      150      150     150     150      150      150     150   \n",
      "unique       2        2       2       2        2        2       2   \n",
      "top          0        0       0       0        0        0       0   \n",
      "freq       146       82     115     138      129      147     143   \n",
      "mean       NaN      NaN     NaN     NaN      NaN      NaN     NaN   \n",
      "std        NaN      NaN     NaN     NaN      NaN      NaN     NaN   \n",
      "min        NaN      NaN     NaN     NaN      NaN      NaN     NaN   \n",
      "25%        NaN      NaN     NaN     NaN      NaN      NaN     NaN   \n",
      "50%        NaN      NaN     NaN     NaN      NaN      NaN     NaN   \n",
      "75%        NaN      NaN     NaN     NaN      NaN      NaN     NaN   \n",
      "max        NaN      NaN     NaN     NaN      NaN      NaN     NaN   \n",
      "\n",
      "       credit_rating prizmrur prizmub prizmtwn przm_num refurb webcap truck  \\\n",
      "count            150      150     150      150      150    150    150   150   \n",
      "unique             7        2       2        2        4      2      2     2   \n",
      "top                2        0       0        0        0      0      1     0   \n",
      "freq              68      144     109      125       94    131    137   112   \n",
      "mean             NaN      NaN     NaN      NaN      NaN    NaN    NaN   NaN   \n",
      "std              NaN      NaN     NaN      NaN      NaN    NaN    NaN   NaN   \n",
      "min              NaN      NaN     NaN      NaN      NaN    NaN    NaN   NaN   \n",
      "25%              NaN      NaN     NaN      NaN      NaN    NaN    NaN   NaN   \n",
      "50%              NaN      NaN     NaN      NaN      NaN    NaN    NaN   NaN   \n",
      "75%              NaN      NaN     NaN      NaN      NaN    NaN    NaN   NaN   \n",
      "max              NaN      NaN     NaN      NaN      NaN    NaN    NaN   NaN   \n",
      "\n",
      "         rv occprof occcler occcrft occstud occhmkr occret occself  occ  \\\n",
      "count   150     150     150     150     150     150    150     150  150   \n",
      "unique    2       2       2       2       2       1      2       2    7   \n",
      "top       0       0       0       0       0       0      0       0    0   \n",
      "freq    134     126     149     147     149     150    147     147  115   \n",
      "mean    NaN     NaN     NaN     NaN     NaN     NaN    NaN     NaN  NaN   \n",
      "std     NaN     NaN     NaN     NaN     NaN     NaN    NaN     NaN  NaN   \n",
      "min     NaN     NaN     NaN     NaN     NaN     NaN    NaN     NaN  NaN   \n",
      "25%     NaN     NaN     NaN     NaN     NaN     NaN    NaN     NaN  NaN   \n",
      "50%     NaN     NaN     NaN     NaN     NaN     NaN    NaN     NaN  NaN   \n",
      "75%     NaN     NaN     NaN     NaN     NaN     NaN    NaN     NaN  NaN   \n",
      "max     NaN     NaN     NaN     NaN     NaN     NaN    NaN     NaN  NaN   \n",
      "\n",
      "       occ_label ownrent marryun marryyes marryno marry marry_label mailord  \\\n",
      "count        150     150     150      150     150   150         150     150   \n",
      "unique         7       2       2        2       2     3           2       2   \n",
      "top         NONE       0       0        0       0     3     UNKNOWN       0   \n",
      "freq         115     104      93       97     110    57         110      95   \n",
      "mean         NaN     NaN     NaN      NaN     NaN   NaN         NaN     NaN   \n",
      "std          NaN     NaN     NaN      NaN     NaN   NaN         NaN     NaN   \n",
      "min          NaN     NaN     NaN      NaN     NaN   NaN         NaN     NaN   \n",
      "25%          NaN     NaN     NaN      NaN     NaN   NaN         NaN     NaN   \n",
      "50%          NaN     NaN     NaN      NaN     NaN   NaN         NaN     NaN   \n",
      "75%          NaN     NaN     NaN      NaN     NaN   NaN         NaN     NaN   \n",
      "max          NaN     NaN     NaN      NaN     NaN   NaN         NaN     NaN   \n",
      "\n",
      "       mailres mailflag travel pcown creditcd    retcalls    retaccpt  \\\n",
      "count      150      150    150   150      150  150.000000  150.000000   \n",
      "unique       2        2      2     2        2         NaN         NaN   \n",
      "top          0        0      0     0        1         NaN         NaN   \n",
      "freq        94      147    141   119      103         NaN         NaN   \n",
      "mean       NaN      NaN    NaN   NaN      NaN    0.020000    0.013333   \n",
      "std        NaN      NaN    NaN   NaN      NaN    0.140469    0.115082   \n",
      "min        NaN      NaN    NaN   NaN      NaN    0.000000    0.000000   \n",
      "25%        NaN      NaN    NaN   NaN      NaN    0.000000    0.000000   \n",
      "50%        NaN      NaN    NaN   NaN      NaN    0.000000    0.000000   \n",
      "75%        NaN      NaN    NaN   NaN      NaN    0.000000    0.000000   \n",
      "max        NaN      NaN    NaN   NaN      NaN    1.000000    1.000000   \n",
      "\n",
      "       newcelly newcelln       refer incmiss income mcycle creditad setprcm  \\\n",
      "count       150      150  150.000000     150    150    150      150     150   \n",
      "unique        2        2         NaN       2     10      2        2       2   \n",
      "top           0        0         NaN       0      0      0        0       1   \n",
      "freq        127      141         NaN     118     32    148      149      97   \n",
      "mean        NaN      NaN    0.073333     NaN    NaN    NaN      NaN     NaN   \n",
      "std         NaN      NaN    0.261556     NaN    NaN    NaN      NaN     NaN   \n",
      "min         NaN      NaN    0.000000     NaN    NaN    NaN      NaN     NaN   \n",
      "25%         NaN      NaN    0.000000     NaN    NaN    NaN      NaN     NaN   \n",
      "50%         NaN      NaN    0.000000     NaN    NaN    NaN      NaN     NaN   \n",
      "75%         NaN      NaN    0.000000     NaN    NaN    NaN      NaN     NaN   \n",
      "max         NaN      NaN    1.000000     NaN    NaN    NaN      NaN     NaN   \n",
      "\n",
      "           setprc retcall  \n",
      "count   150.00000     150  \n",
      "unique        NaN       2  \n",
      "top           NaN       0  \n",
      "freq          NaN     147  \n",
      "mean     32.52980     NaN  \n",
      "std      56.89825     NaN  \n",
      "min       0.00000     NaN  \n",
      "25%       0.00000     NaN  \n",
      "50%       0.00000     NaN  \n",
      "75%      37.49000     NaN  \n",
      "max     199.99000     NaN  \n"
     ]
    }
   ],
   "source": [
    "with pd.option_context('display.max_rows', None, 'display.max_columns', None):  # more options can be specified also\n",
    "    print(df.describe(include='all'))"
   ]
  },
  {
   "cell_type": "code",
   "execution_count": 25,
   "metadata": {},
   "outputs": [],
   "source": [
    "#creating a backup dataframe before removing outliers using IQR\n",
    "df3 = df"
   ]
  },
  {
   "cell_type": "code",
   "execution_count": 26,
   "metadata": {},
   "outputs": [],
   "source": [
    "#outlier detection \n",
    "Q1 = df.quantile(0.05)\n",
    "Q3 = df.quantile(0.95)\n",
    "IQR = Q3 - Q1\n",
    "\n",
    "#list of the outliers\n",
    "dfiqr =((df < (Q1 - 1.5 * IQR)) | (df > (Q3 + 1.5 * IQR))).sum().sort_values(ascending=False)"
   ]
  },
  {
   "cell_type": "code",
   "execution_count": 27,
   "metadata": {},
   "outputs": [],
   "source": [
    "#new dataframe with outliers removed\n",
    "df=df[~((df < (Q1 - 1.5 * IQR)) |(df > (Q3 + 1.5 * IQR))).any(axis=1)]"
   ]
  },
  {
   "cell_type": "code",
   "execution_count": 28,
   "metadata": {},
   "outputs": [
    {
     "data": {
      "text/plain": [
       "(134, 82)"
      ]
     },
     "execution_count": 28,
     "metadata": {},
     "output_type": "execute_result"
    }
   ],
   "source": [
    "#new dataframe shape\n",
    "df.shape"
   ]
  },
  {
   "cell_type": "code",
   "execution_count": 29,
   "metadata": {},
   "outputs": [
    {
     "data": {
      "text/plain": [
       "1     25\n",
       "0    109\n",
       "Name: churn, dtype: int64"
      ]
     },
     "execution_count": 29,
     "metadata": {},
     "output_type": "execute_result"
    }
   ],
   "source": [
    "#predicited variable\n",
    "df['churn'].value_counts(ascending=True)"
   ]
  },
  {
   "cell_type": "code",
   "execution_count": 30,
   "metadata": {},
   "outputs": [],
   "source": [
    "#with pd.option_context('display.max_rows', None, 'display.max_columns', None):  # more options can be specified also\n",
    "    #print(np.median(df['churn']))"
   ]
  },
  {
   "cell_type": "code",
   "execution_count": 31,
   "metadata": {},
   "outputs": [
    {
     "data": {
      "text/plain": [
       "22.0     1\n",
       "76.0     1\n",
       "64.0     1\n",
       "68.0     1\n",
       "70.0     1\n",
       "20.0     1\n",
       "66.0     1\n",
       "38.0     2\n",
       "60.0     2\n",
       "50.0     2\n",
       "24.0     2\n",
       "72.0     2\n",
       "34.0     3\n",
       "44.0     4\n",
       "40.0     4\n",
       "54.0     4\n",
       "26.0     4\n",
       "48.0     4\n",
       "56.0     5\n",
       "58.0     5\n",
       "30.0     6\n",
       "36.0     6\n",
       "28.0     6\n",
       "52.0     7\n",
       "46.0     8\n",
       "42.0     8\n",
       "32.0     9\n",
       "0.0     34\n",
       "Name: age1, dtype: int64"
      ]
     },
     "execution_count": 31,
     "metadata": {},
     "output_type": "execute_result"
    }
   ],
   "source": [
    "df['age1'].value_counts(ascending=True)"
   ]
  },
  {
   "cell_type": "code",
   "execution_count": 32,
   "metadata": {
    "scrolled": true
   },
   "outputs": [],
   "source": [
    "#Group the ages into groups\n",
    "binsage=[0,17, 25, 35, 45, 55, 65, 99]\n",
    "labelsage=['Missing','18-24','25-34','35-44','45-54', '55-64', '65+']\n",
    "df['age_group'] = pd.cut(df['age1'], binsage, labels=labelsage, include_lowest=True)"
   ]
  },
  {
   "cell_type": "code",
   "execution_count": 33,
   "metadata": {
    "scrolled": true
   },
   "outputs": [
    {
     "name": "stdout",
     "output_type": "stream",
     "text": [
      "Distinct values for age:\n",
      " {'65+', '35-44', '18-24', '25-34', 'Missing', '45-54', '55-64'}\n"
     ]
    }
   ],
   "source": [
    "#Age\n",
    "print(\"Distinct values for age:\\n\", set(df['age_group']))"
   ]
  },
  {
   "cell_type": "code",
   "execution_count": 34,
   "metadata": {},
   "outputs": [
    {
     "data": {
      "text/plain": [
       "18-24       4\n",
       "65+         6\n",
       "55-64      13\n",
       "35-44      24\n",
       "45-54      25\n",
       "25-34      28\n",
       "Missing    34\n",
       "Name: age_group, dtype: int64"
      ]
     },
     "execution_count": 34,
     "metadata": {},
     "output_type": "execute_result"
    }
   ],
   "source": [
    "df['age_group'].value_counts(ascending=True)"
   ]
  },
  {
   "cell_type": "code",
   "execution_count": 35,
   "metadata": {},
   "outputs": [
    {
     "name": "stdout",
     "output_type": "stream",
     "text": [
      "Distinct values for age:\n",
      " {'65+', '35-44', '18-24', '25-34', 'Missing', '45-54', '55-64'}\n"
     ]
    },
    {
     "data": {
      "text/plain": [
       "65+         4\n",
       "55-64       6\n",
       "18-24       7\n",
       "25-34      12\n",
       "35-44      19\n",
       "45-54      19\n",
       "Missing    67\n",
       "Name: age_group2, dtype: int64"
      ]
     },
     "execution_count": 35,
     "metadata": {},
     "output_type": "execute_result"
    }
   ],
   "source": [
    "#Group the ages into groups\n",
    "df['age_group2'] = pd.cut(df['age2'], binsage, labels=labelsage, include_lowest=True)\n",
    "\n",
    "#Age\n",
    "print(\"Distinct values for age:\\n\", set(df['age_group2']))\n",
    "df['age_group2'].value_counts(ascending=True)"
   ]
  },
  {
   "cell_type": "code",
   "execution_count": 36,
   "metadata": {
    "scrolled": true
   },
   "outputs": [
    {
     "name": "stdout",
     "output_type": "stream",
     "text": [
      "roam Values\n",
      "Average roam:  0.3184328358208955\n",
      "Minimum roam:  0.0\n",
      "Maximum roam:  6.73\n",
      "Null values:  0\n",
      "Roam Value Counts: 0.48      1\n",
      "0.71      1\n",
      "1.85      1\n",
      "4.12      1\n",
      "0.32      1\n",
      "0.15      1\n",
      "0.13      1\n",
      "0.45      1\n",
      "1.51      1\n",
      "4.91      1\n",
      "3.17      1\n",
      "0.26      1\n",
      "6.73      1\n",
      "1.84      1\n",
      "2.38      1\n",
      "0.44      1\n",
      "4.00      1\n",
      "1.75      1\n",
      "4.66      1\n",
      "0.19      1\n",
      "0.64      2\n",
      "0.20      2\n",
      "0.10      3\n",
      "0.16      4\n",
      "0.00    103\n",
      "Name: roam, dtype: int64\n",
      "Number of Roam Zeroes:  103\n"
     ]
    }
   ],
   "source": [
    "print(\"roam Values\")\n",
    "print(\"Average roam: \", df['roam'].mean())\n",
    "print(\"Minimum roam: \", df['roam'].min())\n",
    "print(\"Maximum roam: \", df['roam'].max())\n",
    "print(\"Null values: \", pd.isnull(df['roam']).sum())\n",
    "print(\"Roam Value Counts:\", df['roam'].value_counts(ascending=True))\n",
    "#check # 0s in Roam\n",
    "print(\"Number of Roam Zeroes: \",(df['roam'] ==0).sum())"
   ]
  },
  {
   "cell_type": "code",
   "execution_count": 37,
   "metadata": {
    "scrolled": true
   },
   "outputs": [],
   "source": [
    "#create groups for roaming\n",
    "binsroam=[0,0.000000000001,1,2,3,4,5,6,7,8,9,10,11]\n",
    "labelsroam=['Not_Roaming','1','2','3','4','5','6','7','8','9','10','over 10']\n",
    "df['roaming_range'] = pd.cut(df['roam'], bins=binsroam, labels=labelsroam, include_lowest=True)"
   ]
  },
  {
   "cell_type": "code",
   "execution_count": 38,
   "metadata": {
    "scrolled": true
   },
   "outputs": [
    {
     "name": "stdout",
     "output_type": "stream",
     "text": [
      "Distinct values for roam range:\n",
      " {'2', '4', '5', '7', '1', '3', 'Not_Roaming'}\n",
      "Value counts for roaming range 6                0\n",
      "8                0\n",
      "9                0\n",
      "10               0\n",
      "over 10          0\n",
      "3                1\n",
      "7                1\n",
      "4                2\n",
      "5                3\n",
      "2                4\n",
      "1               20\n",
      "Not_Roaming    103\n",
      "Name: roaming_range, dtype: int64\n"
     ]
    }
   ],
   "source": [
    "print(\"Distinct values for roam range:\\n\", set(df['roaming_range']))\n",
    "print(\"Value counts for roaming range\", df['roaming_range'].value_counts(ascending=True))"
   ]
  },
  {
   "cell_type": "code",
   "execution_count": 39,
   "metadata": {},
   "outputs": [
    {
     "name": "stdout",
     "output_type": "stream",
     "text": [
      "setprc Values\n",
      "Average setprc:  26.862462686567135\n",
      "Minimum setprc:  0.0\n",
      "Maximum setprc:  199.99\n",
      "Null values:  0\n",
      "Number of SetPrc Zeroes:  91\n"
     ]
    }
   ],
   "source": [
    "print(\"setprc Values\")\n",
    "print(\"Average setprc: \", df['setprc'].mean())\n",
    "print(\"Minimum setprc: \", df['setprc'].min())\n",
    "print(\"Maximum setprc: \", df['setprc'].max())\n",
    "print(\"Null values: \", pd.isnull(df['setprc']).sum())\n",
    "#check # 0s in age1\n",
    "print(\"Number of SetPrc Zeroes: \",(df['setprc'] ==0).sum())"
   ]
  },
  {
   "cell_type": "code",
   "execution_count": 40,
   "metadata": {},
   "outputs": [
    {
     "name": "stdout",
     "output_type": "stream",
     "text": [
      "Distinct values for setprc:\n",
      " {0.0, 129.99, 99.99, 39.99, 199.99, 9.99, 79.99, 149.99, 59.99, 29.99}\n"
     ]
    },
    {
     "data": {
      "text/plain": [
       "129.99     1\n",
       "39.99      2\n",
       "199.99     2\n",
       "9.99       4\n",
       "99.99      4\n",
       "59.99      5\n",
       "79.99      6\n",
       "29.99      9\n",
       "149.99    10\n",
       "0.00      91\n",
       "Name: setprc, dtype: int64"
      ]
     },
     "execution_count": 40,
     "metadata": {},
     "output_type": "execute_result"
    }
   ],
   "source": [
    "print(\"Distinct values for setprc:\\n\", set(df['setprc']))\n",
    "df['setprc'].value_counts(ascending=True)"
   ]
  },
  {
   "cell_type": "code",
   "execution_count": 41,
   "metadata": {
    "scrolled": true
   },
   "outputs": [
    {
     "data": {
      "text/plain": [
       "revenue          float64\n",
       "mou              float64\n",
       "recchrge         float64\n",
       "directas         float64\n",
       "overage          float64\n",
       "                  ...   \n",
       "setprc           float64\n",
       "retcall           object\n",
       "age_group         object\n",
       "age_group2        object\n",
       "roaming_range     object\n",
       "Length: 85, dtype: object"
      ]
     },
     "execution_count": 41,
     "metadata": {},
     "output_type": "execute_result"
    }
   ],
   "source": [
    "df['age_group'] = df['age_group'].astype(str)\n",
    "df['age_group2'] = df['age_group2'].astype(str)\n",
    "df['roaming_range'] = df['roaming_range'].astype(str)\n",
    "\n",
    "df.dtypes"
   ]
  },
  {
   "cell_type": "code",
   "execution_count": 42,
   "metadata": {
    "scrolled": true
   },
   "outputs": [],
   "source": [
    "#did they churn\n",
    "df['churn_status'] = df.churn.replace(to_replace=[0,1], value=['no','yes'])"
   ]
  },
  {
   "cell_type": "code",
   "execution_count": 43,
   "metadata": {
    "scrolled": true
   },
   "outputs": [
    {
     "data": {
      "text/plain": [
       "revenue          float64\n",
       "mou              float64\n",
       "recchrge         float64\n",
       "directas         float64\n",
       "overage          float64\n",
       "                  ...   \n",
       "retcall           object\n",
       "age_group         object\n",
       "age_group2        object\n",
       "roaming_range     object\n",
       "churn_status      object\n",
       "Length: 86, dtype: object"
      ]
     },
     "execution_count": 43,
     "metadata": {},
     "output_type": "execute_result"
    }
   ],
   "source": [
    "df.dtypes"
   ]
  },
  {
   "cell_type": "code",
   "execution_count": 44,
   "metadata": {},
   "outputs": [],
   "source": [
    "#df.to_csv(r'celldata1_to_visualize.csv', index=False)"
   ]
  },
  {
   "cell_type": "code",
   "execution_count": 45,
   "metadata": {
    "scrolled": true
   },
   "outputs": [
    {
     "name": "stdout",
     "output_type": "stream",
     "text": [
      "Object Columns:\n",
      " ['churn', 'csa', 'children', 'credita', 'creditaa', 'creditb', 'creditc', 'creditde', 'creditgy', 'creditz', 'credit_rating', 'prizmrur', 'prizmub', 'prizmtwn', 'przm_num', 'refurb', 'webcap', 'truck', 'rv', 'occprof', 'occcler', 'occcrft', 'occstud', 'occhmkr', 'occret', 'occself', 'occ', 'occ_label', 'ownrent', 'marryun', 'marryyes', 'marryno', 'marry', 'marry_label', 'mailord', 'mailres', 'mailflag', 'travel', 'pcown', 'creditcd', 'newcelly', 'newcelln', 'incmiss', 'income', 'mcycle', 'creditad', 'setprcm', 'retcall', 'age_group', 'age_group2', 'roaming_range', 'churn_status']\n"
     ]
    }
   ],
   "source": [
    "print(\"Object Columns:\\n\",list(df.select_dtypes(['object'])))"
   ]
  },
  {
   "cell_type": "code",
   "execution_count": 46,
   "metadata": {
    "scrolled": true
   },
   "outputs": [
    {
     "name": "stdout",
     "output_type": "stream",
     "text": [
      "Float Columns:\n",
      " ['revenue', 'mou', 'recchrge', 'directas', 'overage', 'roam', 'changem', 'changer', 'dropvce', 'blckvce', 'unansvce', 'custcare', 'threeway', 'mourec', 'outcalls', 'incalls', 'peakvce', 'opeakvce', 'dropblk', 'callwait', 'age1', 'age2', 'setprc']\n"
     ]
    }
   ],
   "source": [
    "print(\"Float Columns:\\n\",list(df.select_dtypes(['float64'])))"
   ]
  },
  {
   "cell_type": "code",
   "execution_count": 47,
   "metadata": {
    "scrolled": true
   },
   "outputs": [
    {
     "name": "stdout",
     "output_type": "stream",
     "text": [
      "Int Columns:\n",
      " ['callfwdv', 'months', 'uniqsubs', 'actvsubs', 'phones', 'models', 'eqpdays', 'customer', 'retcalls', 'retaccpt', 'refer']\n"
     ]
    }
   ],
   "source": [
    "print(\"Int Columns:\\n\",list(df.select_dtypes(['int64'])))"
   ]
  },
  {
   "cell_type": "code",
   "execution_count": 48,
   "metadata": {
    "scrolled": true
   },
   "outputs": [
    {
     "name": "stdout",
     "output_type": "stream",
     "text": [
      "(134, 86)\n",
      "(134, 52)\n",
      "(134, 34)\n"
     ]
    }
   ],
   "source": [
    "#separate the data into object vs nonobjects\n",
    "notif=df.select_dtypes(exclude=['int','float','int64'])\n",
    "intfldtypes = df.select_dtypes(include=['int','float','int64'])\n",
    "print(df.shape)\n",
    "print(notif.shape)\n",
    "print(intfldtypes.shape)"
   ]
  },
  {
   "cell_type": "code",
   "execution_count": 49,
   "metadata": {
    "scrolled": true
   },
   "outputs": [
    {
     "name": "stdout",
     "output_type": "stream",
     "text": [
      "(134, 85)\n"
     ]
    }
   ],
   "source": [
    "#label encode objects\n",
    "obj_le= notif.apply(LabelEncoder().fit_transform)\n",
    "#re-add with non-objects\n",
    "df_ml= pd.concat([obj_le,intfldtypes], axis=1, sort=False)\n",
    "df_ml=df_ml.drop(['churn_status'], axis=1)\n",
    "#check shape\n",
    "print(df_ml.shape)"
   ]
  },
  {
   "cell_type": "code",
   "execution_count": 50,
   "metadata": {
    "scrolled": true
   },
   "outputs": [
    {
     "name": "stdout",
     "output_type": "stream",
     "text": [
      "Pearson's Correlation:\n",
      "churn            1.000000\n",
      "customer         0.424075\n",
      "setprcm          0.206099\n",
      "occret           0.186500\n",
      "occstud          0.181058\n",
      "creditz          0.174195\n",
      "age_group        0.152528\n",
      "occ_label        0.136923\n",
      "creditc          0.135928\n",
      "roam             0.135112\n",
      "overage          0.131354\n",
      "marry            0.121273\n",
      "age_group2       0.099291\n",
      "marryun          0.098048\n",
      "occ              0.085445\n",
      "credit_rating    0.078044\n",
      "mailflag         0.057013\n",
      "ownrent          0.056152\n",
      "creditaa         0.040641\n",
      "incmiss          0.036569\n",
      "mailord          0.034136\n",
      "mailres          0.026603\n",
      "prizmub          0.020502\n",
      "webcap           0.016021\n",
      "children         0.004157\n",
      "marryyes         0.001789\n",
      "refurb           0.000882\n",
      "changer         -0.007114\n",
      "revenue         -0.009746\n",
      "age2            -0.009921\n",
      "pcown           -0.010549\n",
      "prizmrur        -0.011060\n",
      "income          -0.013418\n",
      "przm_num        -0.022186\n",
      "csa             -0.025300\n",
      "outcalls        -0.036248\n",
      "eqpdays         -0.037584\n",
      "newcelln        -0.039823\n",
      "creditad        -0.041527\n",
      "mcycle          -0.041527\n",
      "occcler         -0.041527\n",
      "age1            -0.043118\n",
      "threeway        -0.043320\n",
      "directas        -0.044013\n",
      "creditde        -0.048370\n",
      "occprof         -0.048370\n",
      "travel          -0.051973\n",
      "mourec          -0.055399\n",
      "callwait        -0.057724\n",
      "custcare        -0.058329\n",
      "occself         -0.058950\n",
      "peakvce         -0.060489\n",
      "changem         -0.068242\n",
      "dropvce         -0.071463\n",
      "credita         -0.072474\n",
      "occcrft         -0.072474\n",
      "creditgy        -0.072474\n",
      "unansvce        -0.073098\n",
      "blckvce         -0.073169\n",
      "refer           -0.073432\n",
      "creditcd        -0.089371\n",
      "newcelly        -0.093076\n",
      "dropblk         -0.098908\n",
      "rv              -0.100952\n",
      "recchrge        -0.102965\n",
      "truck           -0.103159\n",
      "uniqsubs        -0.105178\n",
      "incalls         -0.105403\n",
      "marryno         -0.110323\n",
      "marry_label     -0.110323\n",
      "roaming_range   -0.116318\n",
      "prizmtwn        -0.116394\n",
      "actvsubs        -0.118400\n",
      "opeakvce        -0.120346\n",
      "mou             -0.132489\n",
      "creditb         -0.138096\n",
      "setprc          -0.154269\n",
      "phones          -0.179582\n",
      "models          -0.183799\n",
      "months          -0.355607\n",
      "occhmkr               NaN\n",
      "retcall               NaN\n",
      "callfwdv              NaN\n",
      "retcalls              NaN\n",
      "retaccpt              NaN\n",
      "Name: churn, dtype: float64\n"
     ]
    }
   ],
   "source": [
    "#check correlation\n",
    "#corr\n",
    "print(\"Pearson's Correlation:\")\n",
    "\n",
    "with pd.option_context('display.max_rows', None, 'display.max_columns', None):  # more options can be specified also\n",
    "    print(df_ml.corr(method='pearson')['churn'].sort_values(ascending=False))\n",
    "#corr[np.argsort(corr,axis=0)[::-1]]"
   ]
  },
  {
   "cell_type": "code",
   "execution_count": 51,
   "metadata": {
    "scrolled": true
   },
   "outputs": [
    {
     "name": "stdout",
     "output_type": "stream",
     "text": [
      "Spearman's Correlation:\n",
      "churn            1.000000\n",
      "customer         0.437543\n",
      "setprcm          0.206099\n",
      "occret           0.186500\n",
      "occstud          0.181058\n",
      "creditz          0.174195\n",
      "roam             0.143785\n",
      "age_group        0.137135\n",
      "creditc          0.135928\n",
      "marry            0.120290\n",
      "marryun          0.098048\n",
      "overage          0.094028\n",
      "age_group2       0.088486\n",
      "occ_label        0.083749\n",
      "mailflag         0.057013\n",
      "ownrent          0.056152\n",
      "creditaa         0.040641\n",
      "threeway         0.040026\n",
      "credit_rating    0.037234\n",
      "incmiss          0.036569\n",
      "mailord          0.034136\n",
      "mailres          0.026603\n",
      "occ              0.022535\n",
      "blckvce          0.021562\n",
      "prizmub          0.020502\n",
      "webcap           0.016021\n",
      "children         0.004157\n",
      "marryyes         0.001789\n",
      "refurb           0.000882\n",
      "callwait         0.000800\n",
      "income          -0.010271\n",
      "pcown           -0.010549\n",
      "prizmrur        -0.011060\n",
      "age2            -0.018006\n",
      "csa             -0.019567\n",
      "przm_num        -0.019634\n",
      "custcare        -0.028044\n",
      "peakvce         -0.031203\n",
      "age1            -0.032729\n",
      "changem         -0.038877\n",
      "newcelln        -0.039823\n",
      "creditad        -0.041527\n",
      "mcycle          -0.041527\n",
      "occcler         -0.041527\n",
      "revenue         -0.042839\n",
      "directas        -0.048260\n",
      "creditde        -0.048370\n",
      "occprof         -0.048370\n",
      "travel          -0.051973\n",
      "unansvce        -0.057708\n",
      "occself         -0.058950\n",
      "outcalls        -0.064901\n",
      "dropblk         -0.065169\n",
      "creditgy        -0.072474\n",
      "credita         -0.072474\n",
      "occcrft         -0.072474\n",
      "refer           -0.073432\n",
      "mourec          -0.081513\n",
      "eqpdays         -0.082210\n",
      "recchrge        -0.083486\n",
      "creditcd        -0.089371\n",
      "newcelly        -0.093076\n",
      "uniqsubs        -0.097675\n",
      "dropvce         -0.100705\n",
      "rv              -0.100952\n",
      "truck           -0.103159\n",
      "actvsubs        -0.109141\n",
      "marryno         -0.110323\n",
      "marry_label     -0.110323\n",
      "changer         -0.114963\n",
      "prizmtwn        -0.116394\n",
      "mou             -0.120592\n",
      "roaming_range   -0.129095\n",
      "creditb         -0.138096\n",
      "opeakvce        -0.146609\n",
      "models          -0.193441\n",
      "setprc          -0.196133\n",
      "phones          -0.202638\n",
      "incalls         -0.216802\n",
      "months          -0.369625\n",
      "occhmkr               NaN\n",
      "retcall               NaN\n",
      "callfwdv              NaN\n",
      "retcalls              NaN\n",
      "retaccpt              NaN\n",
      "Name: churn, dtype: float64\n"
     ]
    }
   ],
   "source": [
    "#check correlation\n",
    "#corr\n",
    "print(\"Spearman's Correlation:\")\n",
    "with pd.option_context('display.max_rows', None, 'display.max_columns', None):  # more options can be specified also\n",
    "    print(df_ml.corr(method='spearman')['churn'].sort_values(ascending=False))\n",
    "#corr[np.argsort(corr,axis=0)[::-1]]"
   ]
  },
  {
   "cell_type": "code",
   "execution_count": 52,
   "metadata": {
    "scrolled": true
   },
   "outputs": [
    {
     "name": "stdout",
     "output_type": "stream",
     "text": [
      "Kendall's Correlation\n",
      "churn            1.000000\n",
      "customer         0.358583\n",
      "setprcm          0.206099\n",
      "occret           0.186500\n",
      "occstud          0.181058\n",
      "creditz          0.174195\n",
      "roam             0.136084\n",
      "creditc          0.135928\n",
      "age_group        0.121771\n",
      "marry            0.113600\n",
      "marryun          0.098048\n",
      "overage          0.081933\n",
      "occ_label        0.081316\n",
      "age_group2       0.080690\n",
      "mailflag         0.057013\n",
      "ownrent          0.056152\n",
      "creditaa         0.040641\n",
      "threeway         0.038890\n",
      "incmiss          0.036569\n",
      "mailord          0.034136\n",
      "credit_rating    0.034074\n",
      "mailres          0.026603\n",
      "occ              0.021880\n",
      "prizmub          0.020502\n",
      "blckvce          0.018531\n",
      "webcap           0.016021\n",
      "children         0.004157\n",
      "marryyes         0.001789\n",
      "refurb           0.000882\n",
      "callwait         0.000721\n",
      "income          -0.008932\n",
      "pcown           -0.010549\n",
      "prizmrur        -0.011060\n",
      "age2            -0.016027\n",
      "csa             -0.016113\n",
      "przm_num        -0.018843\n",
      "custcare        -0.025333\n",
      "peakvce         -0.025616\n",
      "age1            -0.027825\n",
      "changem         -0.031884\n",
      "revenue         -0.035127\n",
      "newcelln        -0.039823\n",
      "mcycle          -0.041527\n",
      "creditad        -0.041527\n",
      "occcler         -0.041527\n",
      "directas        -0.043799\n",
      "unansvce        -0.047513\n",
      "occprof         -0.048370\n",
      "creditde        -0.048370\n",
      "travel          -0.051973\n",
      "outcalls        -0.053491\n",
      "dropblk         -0.054024\n",
      "occself         -0.058950\n",
      "mourec          -0.067112\n",
      "eqpdays         -0.067404\n",
      "recchrge        -0.070351\n",
      "credita         -0.072474\n",
      "creditgy        -0.072474\n",
      "occcrft         -0.072474\n",
      "refer           -0.073432\n",
      "dropvce         -0.084068\n",
      "creditcd        -0.089371\n",
      "newcelly        -0.093076\n",
      "uniqsubs        -0.094535\n",
      "changer         -0.094715\n",
      "mou             -0.098873\n",
      "rv              -0.100952\n",
      "truck           -0.103159\n",
      "actvsubs        -0.107462\n",
      "marryno         -0.110323\n",
      "marry_label     -0.110323\n",
      "prizmtwn        -0.116394\n",
      "opeakvce        -0.120427\n",
      "roaming_range   -0.125094\n",
      "creditb         -0.138096\n",
      "setprc          -0.183382\n",
      "incalls         -0.184641\n",
      "models          -0.190311\n",
      "phones          -0.195723\n",
      "months          -0.313618\n",
      "occhmkr               NaN\n",
      "retcall               NaN\n",
      "callfwdv              NaN\n",
      "retcalls              NaN\n",
      "retaccpt              NaN\n",
      "Name: churn, dtype: float64\n"
     ]
    }
   ],
   "source": [
    "print(\"Kendall's Correlation\")\n",
    "with pd.option_context('display.max_rows', None, 'display.max_columns', None):  # more options can be specified also\n",
    "    print(df_ml.corr(method ='kendall')['churn'].sort_values(ascending=False))"
   ]
  },
  {
   "cell_type": "code",
   "execution_count": 53,
   "metadata": {
    "scrolled": false
   },
   "outputs": [
    {
     "data": {
      "text/plain": [
       "Index(['churn', 'csa', 'children', 'credita', 'creditaa', 'creditb', 'creditc',\n",
       "       'creditde', 'creditgy', 'creditz', 'credit_rating', 'prizmrur',\n",
       "       'prizmub', 'prizmtwn', 'przm_num', 'refurb', 'webcap', 'truck', 'rv',\n",
       "       'occprof', 'occcler', 'occcrft', 'occstud', 'occhmkr', 'occret',\n",
       "       'occself', 'occ', 'occ_label', 'ownrent', 'marryun', 'marryyes',\n",
       "       'marryno', 'marry', 'marry_label', 'mailord', 'mailres', 'mailflag',\n",
       "       'travel', 'pcown', 'creditcd', 'newcelly', 'newcelln', 'incmiss',\n",
       "       'income', 'mcycle', 'creditad', 'setprcm', 'retcall', 'age_group',\n",
       "       'age_group2', 'roaming_range', 'revenue', 'mou', 'recchrge', 'directas',\n",
       "       'overage', 'roam', 'changem', 'changer', 'dropvce', 'blckvce',\n",
       "       'unansvce', 'custcare', 'threeway', 'mourec', 'outcalls', 'incalls',\n",
       "       'peakvce', 'opeakvce', 'dropblk', 'callfwdv', 'callwait', 'months',\n",
       "       'uniqsubs', 'actvsubs', 'phones', 'models', 'eqpdays', 'customer',\n",
       "       'age1', 'age2', 'retcalls', 'retaccpt', 'refer', 'setprc'],\n",
       "      dtype='object')"
      ]
     },
     "execution_count": 53,
     "metadata": {},
     "output_type": "execute_result"
    }
   ],
   "source": [
    "df_ml.columns"
   ]
  },
  {
   "cell_type": "code",
   "execution_count": 54,
   "metadata": {
    "scrolled": true
   },
   "outputs": [
    {
     "name": "stdout",
     "output_type": "stream",
     "text": [
      "The column age_group2 is NOT an important predictor.\n",
      "\n",
      "~~~~The column csa is IMPORTANT for Prediction.~~~~\n",
      "\n",
      "The column occ_label is NOT an important predictor.\n",
      "The column marry_label is NOT an important predictor.\n",
      "The column age_group is NOT an important predictor.\n",
      "\n",
      "~~~~The column roaming_range is IMPORTANT for Prediction.~~~~\n",
      "\n",
      "The column revenue is NOT an important predictor.\n",
      "The column mou is NOT an important predictor.\n",
      "The column recchrge is NOT an important predictor.\n",
      "The column directas is NOT an important predictor.\n",
      "The column overage is NOT an important predictor.\n",
      "\n",
      "~~~~The column roam is IMPORTANT for Prediction.~~~~\n",
      "\n",
      "The column changem is NOT an important predictor.\n",
      "The column changer is NOT an important predictor.\n",
      "The column dropvce is NOT an important predictor.\n",
      "The column blckvce is NOT an important predictor.\n",
      "The column unansvce is NOT an important predictor.\n",
      "The column custcare is NOT an important predictor.\n",
      "The column threeway is NOT an important predictor.\n",
      "The column mourec is NOT an important predictor.\n",
      "The column outcalls is NOT an important predictor.\n",
      "The column incalls is NOT an important predictor.\n",
      "The column peakvce is NOT an important predictor.\n",
      "The column opeakvce is NOT an important predictor.\n",
      "The column dropblk is NOT an important predictor.\n",
      "The column callfwdv is NOT an important predictor.\n",
      "The column callwait is NOT an important predictor.\n",
      "\n",
      "~~~~The column months is IMPORTANT for Prediction.~~~~\n",
      "\n",
      "The column uniqsubs is NOT an important predictor.\n",
      "The column actvsubs is NOT an important predictor.\n",
      "The column phones is NOT an important predictor.\n",
      "The column models is NOT an important predictor.\n",
      "The column eqpdays is NOT an important predictor.\n",
      "The column customer is NOT an important predictor.\n",
      "The column age1 is NOT an important predictor.\n",
      "The column age2 is NOT an important predictor.\n",
      "The column children is NOT an important predictor.\n",
      "The column credita is NOT an important predictor.\n",
      "The column creditaa is NOT an important predictor.\n",
      "The column creditb is NOT an important predictor.\n",
      "The column creditc is NOT an important predictor.\n",
      "The column creditde is NOT an important predictor.\n",
      "The column creditgy is NOT an important predictor.\n",
      "The column creditz is NOT an important predictor.\n",
      "The column credit_rating is NOT an important predictor.\n",
      "The column prizmrur is NOT an important predictor.\n",
      "The column prizmub is NOT an important predictor.\n",
      "The column prizmtwn is NOT an important predictor.\n",
      "The column przm_num is NOT an important predictor.\n",
      "The column refurb is NOT an important predictor.\n",
      "The column webcap is NOT an important predictor.\n",
      "The column truck is NOT an important predictor.\n",
      "The column rv is NOT an important predictor.\n",
      "The column occprof is NOT an important predictor.\n",
      "The column occcler is NOT an important predictor.\n",
      "The column occcrft is NOT an important predictor.\n",
      "The column occstud is NOT an important predictor.\n",
      "The column occhmkr is NOT an important predictor.\n",
      "The column occret is NOT an important predictor.\n",
      "The column occself is NOT an important predictor.\n",
      "The column occ is NOT an important predictor.\n",
      "The column ownrent is NOT an important predictor.\n",
      "The column marryun is NOT an important predictor.\n",
      "The column marryyes is NOT an important predictor.\n",
      "The column marryno is NOT an important predictor.\n",
      "The column marry is NOT an important predictor.\n",
      "The column mailord is NOT an important predictor.\n",
      "The column mailres is NOT an important predictor.\n",
      "The column mailflag is NOT an important predictor.\n",
      "The column travel is NOT an important predictor.\n",
      "The column pcown is NOT an important predictor.\n",
      "The column creditcd is NOT an important predictor.\n",
      "The column retcalls is NOT an important predictor.\n",
      "The column retaccpt is NOT an important predictor.\n",
      "The column newcelly is NOT an important predictor.\n",
      "The column newcelln is NOT an important predictor.\n",
      "The column refer is NOT an important predictor.\n",
      "The column incmiss is NOT an important predictor.\n",
      "The column income is NOT an important predictor.\n",
      "The column mcycle is NOT an important predictor.\n",
      "The column creditad is NOT an important predictor.\n",
      "\n",
      "~~~~The column setprcm is IMPORTANT for Prediction.~~~~\n",
      "\n",
      "The column setprc is NOT an important predictor.\n",
      "The column retcall is NOT an important predictor.\n"
     ]
    }
   ],
   "source": [
    "class ChiSquare:\n",
    "    def __init__(self, dataframe):\n",
    "        self.df_ml = dataframe\n",
    "        self.p = None #P-Value\n",
    "        self.chi2 = None #Chi Test Statistic\n",
    "        self.dof = None\n",
    "        \n",
    "        self.df_mlObserved = None\n",
    "        self.df_mlExpected = None\n",
    "        \n",
    "    def _print_chisquare_result(self, colX, alpha):\n",
    "        result = \"\"\n",
    "        if self.p<alpha:\n",
    "            result=\"\\n~~~~The column {0} is IMPORTANT for Prediction.~~~~\\n\".format(colX)\n",
    "        else:\n",
    "            result=\"The column {0} is NOT an important predictor.\".format(colX)\n",
    "\n",
    "        print(result)\n",
    "        \n",
    "    def TestIndependence(self,colX,colY, alpha=0.10):\n",
    "        X = self.df_ml[colX].astype(str)\n",
    "        Y = self.df_ml[colY].astype(str)\n",
    "        \n",
    "        self.df_mlObserved = pd.crosstab(Y,X) \n",
    "        chi2, p, dof, expected = stats.chi2_contingency(self.df_mlObserved.values)\n",
    "        self.p = p\n",
    "        self.chi2 = chi2\n",
    "        self.dof = dof \n",
    "        \n",
    "        self.df_mlExpected = pd.DataFrame(expected, columns=self.df_mlObserved.columns, \n",
    "                                       index = self.df_mlObserved.index)\n",
    "        \n",
    "        self._print_chisquare_result(colX,alpha)\n",
    "\n",
    "#Initialize ChiSquare Class\n",
    "cT = ChiSquare(df_ml)\n",
    "\n",
    "#Feature Selection\n",
    "testColumns = ['age_group2','csa', 'occ_label', 'marry_label', 'age_group', 'roaming_range',\n",
    "               'revenue', 'mou', 'recchrge', 'directas', 'overage', 'roam', 'changem',\n",
    "               'changer', 'dropvce', 'blckvce', 'unansvce', 'custcare', 'threeway',\n",
    "               'mourec', 'outcalls', 'incalls', 'peakvce', 'opeakvce', 'dropblk',\n",
    "               'callfwdv', 'callwait', 'months', 'uniqsubs', 'actvsubs',\n",
    "               'phones', 'models', 'eqpdays', 'customer', 'age1','age2', 'children',\n",
    "               'credita', 'creditaa', 'creditb', 'creditc', 'creditde', 'creditgy',\n",
    "               'creditz', 'credit_rating', 'prizmrur', 'prizmub', 'prizmtwn',\n",
    "               'przm_num', 'refurb', 'webcap', 'truck', 'rv', 'occprof', 'occcler',\n",
    "               'occcrft', 'occstud', 'occhmkr', 'occret', 'occself', 'occ', 'ownrent',\n",
    "               'marryun', 'marryyes', 'marryno', 'marry', 'mailord', 'mailres',\n",
    "               'mailflag', 'travel', 'pcown', 'creditcd', 'retcalls', 'retaccpt',\n",
    "               'newcelly', 'newcelln', 'refer', 'incmiss', 'income', 'mcycle',\n",
    "               'creditad', 'setprcm', 'setprc', 'retcall']\n",
    "for var in testColumns:\n",
    "    cT.TestIndependence(colX=var,colY=\"churn\" )"
   ]
  },
  {
   "cell_type": "code",
   "execution_count": 55,
   "metadata": {
    "scrolled": true
   },
   "outputs": [],
   "source": [
    "df = df_ml"
   ]
  },
  {
   "cell_type": "code",
   "execution_count": 56,
   "metadata": {
    "scrolled": true
   },
   "outputs": [],
   "source": [
    "#new columns\n",
    "\"\"\"\n",
    "We will be making new columns out of the important columns from the Chi-Squared test above.\n",
    "\n",
    "The important columns are as follows: \n",
    "                            months, creditgy, przm_num, refurb, webcap, mailord, and travel.\n",
    "\n",
    "Some will be columns that I think would match well with the important column \n",
    "and others will be a combination of important columns. \n",
    "\n",
    "\"\"\"\n",
    "\n",
    "#months\n",
    "df['months_mou'] = df['months'].astype(str) + '_' + df['mou'].astype(str)\n",
    "df['months_creditgy'] = df['months'].astype(str) + '_' + df['creditgy'].astype(str)\n",
    "df['months_przm_num'] = df['months'].astype(str) + '_' + df['przm_num'].astype(str)\n",
    "df['months_refurb'] = df['months'].astype(str) + '_' + df['refurb'].astype(str)\n",
    "df['months_webcap'] = df['months'].astype(str) + '_' + df['webcap'].astype(str)\n",
    "df['months_mailord'] = df['months'].astype(str) + '_' + df['mailord'].astype(str)\n",
    "df['months_travel'] = df['months'].astype(str) + '_' + df['travel'].astype(str)\n",
    "df['months_models'] = df['months'].astype(str) + '_' + df['models'].astype(str)\n",
    "df['months_agegroup'] = df['months'].astype(str) + '_' + df['age_group'].astype(str)\n",
    "df['months_agegroup2'] = df['months'].astype(str) + '_' + df['age_group2'].astype(str)\n",
    "\n",
    "#creditgy\n",
    "df['creditgy_przm_num'] = df['creditgy'].astype(str) + '_' + df['przm_num'].astype(str)\n",
    "df['creditgy_refurb'] = df['creditgy'].astype(str) + '_' + df['refurb'].astype(str)\n",
    "df['creditgy_webcap'] = df['creditgy'].astype(str) + '_' + df['webcap'].astype(str)\n",
    "df['creditgy_mailord'] = df['creditgy'].astype(str) + '_' + df['mailord'].astype(str)\n",
    "df['creditgy_travel'] = df['creditgy'].astype(str) + '_' + df['travel'].astype(str)\n",
    "df['creditgy_income'] = df['creditgy'].astype(str) + '_' + df['income'].astype(str)\n",
    "df['creditgy_agegroup'] = df['creditgy'].astype(str) + '_' + df['age_group'].astype(str)\n",
    "df['creditgy_agegroup2'] = df['creditgy'].astype(str) + '_' + df['age_group2'].astype(str)\n",
    "df['creditgy_occ'] = df['creditgy'].astype(str) + '_' + df['occ'].astype(str)\n",
    "\n",
    "#przm_num\n",
    "df['przm_num_refurb'] = df['przm_num'].astype(str) + '_' + df['refurb'].astype(str)\n",
    "df['przm_num_webcap'] = df['przm_num'].astype(str) + '_' + df['webcap'].astype(str)\n",
    "df['przm_num_mailord'] = df['przm_num'].astype(str) + '_' + df['mailord'].astype(str)\n",
    "df['przm_num_travel'] = df['przm_num'].astype(str) + '_' + df['travel'].astype(str)\n",
    "df['przm_num_dropblk'] = df['przm_num'].astype(str) + '_' + df['dropblk'].astype(str)\n",
    "df['przm_num_dropvce'] = df['przm_num'].astype(str) + '_' + df['dropvce'].astype(str)\n",
    "df['przm_num_roam_range'] = df['przm_num'].astype(str) + '_' + df['roaming_range'].astype(str)\n",
    "\n",
    "\n",
    "#refurb\n",
    "df['refurb_webcap'] = df['refurb'].astype(str) + '_' + df['webcap'].astype(str)\n",
    "df['refurb_mailord'] = df['refurb'].astype(str) + '_' + df['mailord'].astype(str)\n",
    "df['refurb_travel'] = df['refurb'].astype(str) + '_' + df['travel'].astype(str)\n",
    "df['refurb_models'] = df['refurb'].astype(str) + '_' + df['models'].astype(str)\n",
    "df['refurb_dropblk'] = df['refurb'].astype(str) + '_' + df['dropblk'].astype(str)\n",
    "df['refurb_dropvce'] = df['refurb'].astype(str) + '_' + df['dropvce'].astype(str)\n",
    "df['refurb_custcare'] = df['refurb'].astype(str) + '_' + df['custcare'].astype(str)\n",
    "df['refurb_retcalls'] = df['refurb'].astype(str) + '_' + df['retcalls'].astype(str)\n",
    "df['refurb_retcall'] = df['refurb'].astype(str) + '_' + df['retcall'].astype(str)\n",
    "\n",
    "#webcap\n",
    "df['webcap_mailord'] = df['webcap'].astype(str) + '_' + df['mailord'].astype(str)\n",
    "df['webcap_travel'] = df['webcap'].astype(str) + '_' + df['travel'].astype(str)\n",
    "df['webcap_agegroup'] = df['webcap'].astype(str) + '_' + df['age_group'].astype(str)\n",
    "df['webcap_agegroup2'] = df['webcap'].astype(str) + '_' + df['age_group2'].astype(str)\n",
    "df['webcap_income'] = df['webcap'].astype(str) + '_' + df['income'].astype(str)\n",
    "df['webcap_setprc'] = df['webcap'].astype(str) + '_' + df['setprc'].astype(str)\n",
    "df['webcap_retcall'] = df['webcap'].astype(str) + '_' + df['retcall'].astype(str)\n",
    "\n",
    "#mailord\n",
    "df['mailord_travel'] = df['mailord'].astype(str) + '_' + df['travel'].astype(str)\n",
    "df['mailord_mailres'] = df['mailord'].astype(str) + '_' + df['mailres'].astype(str)\n",
    "df['mailord_mailflag'] = df['mailord'].astype(str) + '_' + df['mailflag'].astype(str)\n",
    "df['mailord_agegroup'] = df['mailord'].astype(str) + '_' + df['age_group'].astype(str)\n",
    "df['mailord_agegroup2'] = df['mailord'].astype(str) + '_' + df['age_group2'].astype(str)\n",
    "\n",
    "#travel\n",
    "df['travel_roaming_range'] =df['travel'].astype(str) + '_' + df['roaming_range'].astype(str)\n",
    "df['travel_income'] =df['travel'].astype(str) + '_' + df['income'].astype(str)\n",
    "df['travel_occ'] =df['travel'].astype(str) + '_' + df['occ'].astype(str)\n",
    "df['travel_marry'] =df['travel'].astype(str) + '_' + df['marry'].astype(str)\n"
   ]
  },
  {
   "cell_type": "code",
   "execution_count": 57,
   "metadata": {},
   "outputs": [
    {
     "name": "stdout",
     "output_type": "stream",
     "text": [
      "(134, 136)\n",
      "(134, 51)\n",
      "(134, 85)\n"
     ]
    }
   ],
   "source": [
    "#re_separate the data into object vs nonobjects\n",
    "notif2=df.select_dtypes(exclude=['int','float','int64'])\n",
    "intfldtypes2 = df.select_dtypes(include=['int','float','int64'])\n",
    "print(df.shape)\n",
    "print(notif2.shape)\n",
    "print(intfldtypes2.shape)"
   ]
  },
  {
   "cell_type": "code",
   "execution_count": 58,
   "metadata": {},
   "outputs": [
    {
     "name": "stdout",
     "output_type": "stream",
     "text": [
      "(134, 136)\n"
     ]
    }
   ],
   "source": [
    "#label encode objects\n",
    "obj_le2= notif2.apply(LabelEncoder().fit_transform)\n",
    "#re-add with non-objects\n",
    "df_ml2= pd.concat([obj_le2,intfldtypes2], axis=1, sort=False)\n",
    "#df_ml2=df_ml2.drop(['churn_status'], axis=1)\n",
    "#check shape\n",
    "print(df_ml2.shape)"
   ]
  },
  {
   "cell_type": "code",
   "execution_count": 59,
   "metadata": {},
   "outputs": [
    {
     "name": "stdout",
     "output_type": "stream",
     "text": [
      "['months_mou', 'months_creditgy', 'months_przm_num', 'months_refurb', 'months_webcap', 'months_mailord', 'months_travel', 'months_models', 'months_agegroup', 'months_agegroup2', 'creditgy_przm_num', 'creditgy_refurb', 'creditgy_webcap', 'creditgy_mailord', 'creditgy_travel', 'creditgy_income', 'creditgy_agegroup', 'creditgy_agegroup2', 'creditgy_occ', 'przm_num_refurb', 'przm_num_webcap', 'przm_num_mailord', 'przm_num_travel', 'przm_num_dropblk', 'przm_num_dropvce', 'przm_num_roam_range', 'refurb_webcap', 'refurb_mailord', 'refurb_travel', 'refurb_models', 'refurb_dropblk', 'refurb_dropvce', 'refurb_custcare', 'refurb_retcalls', 'refurb_retcall', 'webcap_mailord', 'webcap_travel', 'webcap_agegroup', 'webcap_agegroup2', 'webcap_income', 'webcap_setprc', 'webcap_retcall', 'mailord_travel', 'mailord_mailres', 'mailord_mailflag', 'mailord_agegroup', 'mailord_agegroup2', 'travel_roaming_range', 'travel_income', 'travel_occ', 'travel_marry', 'churn', 'csa', 'children', 'credita', 'creditaa', 'creditb', 'creditc', 'creditde', 'creditgy', 'creditz', 'credit_rating', 'prizmrur', 'prizmub', 'prizmtwn', 'przm_num', 'refurb', 'webcap', 'truck', 'rv', 'occprof', 'occcler', 'occcrft', 'occstud', 'occhmkr', 'occret', 'occself', 'occ', 'occ_label', 'ownrent', 'marryun', 'marryyes', 'marryno', 'marry', 'marry_label', 'mailord', 'mailres', 'mailflag', 'travel', 'pcown', 'creditcd', 'newcelly', 'newcelln', 'incmiss', 'income', 'mcycle', 'creditad', 'setprcm', 'retcall', 'age_group', 'age_group2', 'roaming_range', 'revenue', 'mou', 'recchrge', 'directas', 'overage', 'roam', 'changem', 'changer', 'dropvce', 'blckvce', 'unansvce', 'custcare', 'threeway', 'mourec', 'outcalls', 'incalls', 'peakvce', 'opeakvce', 'dropblk', 'callfwdv', 'callwait', 'months', 'uniqsubs', 'actvsubs', 'phones', 'models', 'eqpdays', 'customer', 'age1', 'age2', 'retcalls', 'retaccpt', 'refer', 'setprc']\n"
     ]
    }
   ],
   "source": [
    "pd.options.display.max_columns = None\n",
    "pd.options.display.max_rows = None\n",
    "print(df_ml2.columns.tolist())"
   ]
  },
  {
   "cell_type": "code",
   "execution_count": 60,
   "metadata": {
    "scrolled": true
   },
   "outputs": [
    {
     "name": "stdout",
     "output_type": "stream",
     "text": [
      "The column months_mou is NOT an important predictor.\n",
      "The column months_creditgy is NOT an important predictor.\n",
      "The column months_przm_num is NOT an important predictor.\n",
      "The column months_refurb is NOT an important predictor.\n",
      "The column months_webcap is NOT an important predictor.\n",
      "The column months_mailord is NOT an important predictor.\n",
      "The column months_travel is NOT an important predictor.\n",
      "The column months_models is NOT an important predictor.\n",
      "The column months_agegroup is NOT an important predictor.\n",
      "The column months_agegroup2 is NOT an important predictor.\n",
      "The column creditgy_przm_num is NOT an important predictor.\n",
      "The column creditgy_refurb is NOT an important predictor.\n",
      "The column creditgy_webcap is NOT an important predictor.\n",
      "The column creditgy_mailord is NOT an important predictor.\n",
      "The column creditgy_travel is NOT an important predictor.\n",
      "The column creditgy_income is NOT an important predictor.\n",
      "The column creditgy_agegroup is NOT an important predictor.\n",
      "The column creditgy_agegroup2 is NOT an important predictor.\n",
      "The column creditgy_occ is NOT an important predictor.\n",
      "The column przm_num_refurb is NOT an important predictor.\n",
      "The column przm_num_webcap is NOT an important predictor.\n",
      "The column przm_num_mailord is NOT an important predictor.\n",
      "The column przm_num_travel is NOT an important predictor.\n",
      "The column przm_num_dropblk is NOT an important predictor.\n",
      "The column przm_num_dropvce is NOT an important predictor.\n",
      "\n",
      "~~~~The column przm_num_roam_range is IMPORTANT for Prediction.~~~~\n",
      "\n",
      "The column refurb_webcap is NOT an important predictor.\n",
      "The column refurb_mailord is NOT an important predictor.\n",
      "The column refurb_travel is NOT an important predictor.\n",
      "The column refurb_models is NOT an important predictor.\n",
      "The column refurb_dropblk is NOT an important predictor.\n",
      "The column refurb_dropvce is NOT an important predictor.\n",
      "The column refurb_custcare is NOT an important predictor.\n",
      "The column refurb_retcalls is NOT an important predictor.\n",
      "The column refurb_retcall is NOT an important predictor.\n",
      "The column webcap_mailord is NOT an important predictor.\n",
      "The column webcap_travel is NOT an important predictor.\n",
      "The column webcap_agegroup is NOT an important predictor.\n",
      "The column webcap_agegroup2 is NOT an important predictor.\n",
      "The column webcap_income is NOT an important predictor.\n",
      "The column webcap_setprc is NOT an important predictor.\n",
      "The column webcap_retcall is NOT an important predictor.\n",
      "The column mailord_travel is NOT an important predictor.\n",
      "The column mailord_mailres is NOT an important predictor.\n",
      "The column mailord_mailflag is NOT an important predictor.\n",
      "The column mailord_agegroup is NOT an important predictor.\n",
      "The column mailord_agegroup2 is NOT an important predictor.\n",
      "\n",
      "~~~~The column travel_roaming_range is IMPORTANT for Prediction.~~~~\n",
      "\n",
      "The column travel_income is NOT an important predictor.\n",
      "The column travel_occ is NOT an important predictor.\n",
      "The column travel_marry is NOT an important predictor.\n",
      "\n",
      "~~~~The column csa is IMPORTANT for Prediction.~~~~\n",
      "\n",
      "The column children is NOT an important predictor.\n",
      "The column credita is NOT an important predictor.\n",
      "The column creditaa is NOT an important predictor.\n",
      "The column creditb is NOT an important predictor.\n",
      "The column creditc is NOT an important predictor.\n",
      "The column creditde is NOT an important predictor.\n",
      "The column creditgy is NOT an important predictor.\n",
      "The column creditz is NOT an important predictor.\n",
      "The column credit_rating is NOT an important predictor.\n",
      "The column prizmrur is NOT an important predictor.\n",
      "The column prizmub is NOT an important predictor.\n",
      "The column prizmtwn is NOT an important predictor.\n",
      "The column przm_num is NOT an important predictor.\n",
      "The column refurb is NOT an important predictor.\n",
      "The column webcap is NOT an important predictor.\n",
      "The column truck is NOT an important predictor.\n",
      "The column rv is NOT an important predictor.\n",
      "The column occprof is NOT an important predictor.\n",
      "The column occcler is NOT an important predictor.\n",
      "The column occcrft is NOT an important predictor.\n",
      "The column occstud is NOT an important predictor.\n",
      "The column occhmkr is NOT an important predictor.\n",
      "The column occret is NOT an important predictor.\n",
      "The column occself is NOT an important predictor.\n",
      "The column occ is NOT an important predictor.\n",
      "The column occ_label is NOT an important predictor.\n",
      "The column ownrent is NOT an important predictor.\n",
      "The column marryun is NOT an important predictor.\n",
      "The column marryyes is NOT an important predictor.\n",
      "The column marryno is NOT an important predictor.\n",
      "The column marry is NOT an important predictor.\n",
      "The column marry_label is NOT an important predictor.\n",
      "The column mailord is NOT an important predictor.\n",
      "The column mailres is NOT an important predictor.\n",
      "The column mailflag is NOT an important predictor.\n",
      "The column travel is NOT an important predictor.\n",
      "The column pcown is NOT an important predictor.\n",
      "The column creditcd is NOT an important predictor.\n",
      "The column newcelly is NOT an important predictor.\n",
      "The column newcelln is NOT an important predictor.\n",
      "The column incmiss is NOT an important predictor.\n",
      "The column income is NOT an important predictor.\n",
      "The column mcycle is NOT an important predictor.\n",
      "The column creditad is NOT an important predictor.\n",
      "\n",
      "~~~~The column setprcm is IMPORTANT for Prediction.~~~~\n",
      "\n",
      "The column retcall is NOT an important predictor.\n",
      "The column age_group is NOT an important predictor.\n",
      "The column age_group2 is NOT an important predictor.\n",
      "\n",
      "~~~~The column roaming_range is IMPORTANT for Prediction.~~~~\n",
      "\n",
      "The column revenue is NOT an important predictor.\n",
      "The column mou is NOT an important predictor.\n",
      "The column recchrge is NOT an important predictor.\n",
      "The column directas is NOT an important predictor.\n",
      "The column overage is NOT an important predictor.\n",
      "\n",
      "~~~~The column roam is IMPORTANT for Prediction.~~~~\n",
      "\n",
      "The column changem is NOT an important predictor.\n",
      "The column changer is NOT an important predictor.\n",
      "The column dropvce is NOT an important predictor.\n",
      "The column blckvce is NOT an important predictor.\n",
      "The column unansvce is NOT an important predictor.\n",
      "The column custcare is NOT an important predictor.\n",
      "The column threeway is NOT an important predictor.\n",
      "The column mourec is NOT an important predictor.\n",
      "The column outcalls is NOT an important predictor.\n",
      "The column incalls is NOT an important predictor.\n",
      "The column peakvce is NOT an important predictor.\n",
      "The column opeakvce is NOT an important predictor.\n",
      "The column dropblk is NOT an important predictor.\n",
      "The column callfwdv is NOT an important predictor.\n",
      "The column callwait is NOT an important predictor.\n",
      "\n",
      "~~~~The column months is IMPORTANT for Prediction.~~~~\n",
      "\n",
      "The column uniqsubs is NOT an important predictor.\n",
      "The column actvsubs is NOT an important predictor.\n",
      "The column phones is NOT an important predictor.\n",
      "The column models is NOT an important predictor.\n",
      "The column eqpdays is NOT an important predictor.\n",
      "The column customer is NOT an important predictor.\n",
      "The column age1 is NOT an important predictor.\n",
      "The column age2 is NOT an important predictor.\n",
      "The column retcalls is NOT an important predictor.\n",
      "The column retaccpt is NOT an important predictor.\n",
      "The column refer is NOT an important predictor.\n",
      "The column setprc is NOT an important predictor.\n"
     ]
    }
   ],
   "source": [
    "class ChiSquare:\n",
    "    def __init__(self, dataframe):\n",
    "        self.df_ml2 = dataframe\n",
    "        self.p = None #P-Value\n",
    "        self.chi2 = None #Chi Test Statistic\n",
    "        self.dof = None\n",
    "        \n",
    "        self.df_ml2Observed = None\n",
    "        self.df_ml2Expected = None\n",
    "        \n",
    "    def _print_chisquare_result(self, colX, alpha):\n",
    "        result = \"\"\n",
    "        if self.p<alpha:\n",
    "            result=\"\\n~~~~The column {0} is IMPORTANT for Prediction.~~~~\\n\".format(colX)\n",
    "        else:\n",
    "            result=\"The column {0} is NOT an important predictor.\".format(colX)\n",
    "\n",
    "        print(result)\n",
    "        \n",
    "    def TestIndependence(self,colX,colY, alpha=0.10):\n",
    "        X = self.df_ml2[colX].astype(str)\n",
    "        Y = self.df_ml2[colY].astype(str)\n",
    "        \n",
    "        self.df_ml2Observed = pd.crosstab(Y,X) \n",
    "        chi2, p, dof, expected = stats.chi2_contingency(self.df_ml2Observed.values)\n",
    "        self.p = p\n",
    "        self.chi2 = chi2\n",
    "        self.dof = dof \n",
    "        \n",
    "        self.df_ml2Expected = pd.DataFrame(expected, columns=self.df_ml2Observed.columns, \n",
    "                                       index = self.df_ml2Observed.index)\n",
    "        \n",
    "        self._print_chisquare_result(colX,alpha)\n",
    "\n",
    "#Initialize ChiSquare Class\n",
    "cT = ChiSquare(df_ml2)\n",
    "\n",
    "#Feature Selection\n",
    "testColumns = ['months_mou', 'months_creditgy', 'months_przm_num', 'months_refurb', 'months_webcap', \n",
    "               'months_mailord', 'months_travel', 'months_models', 'months_agegroup', \n",
    "               'months_agegroup2', 'creditgy_przm_num', 'creditgy_refurb', 'creditgy_webcap', \n",
    "               'creditgy_mailord', 'creditgy_travel', 'creditgy_income', 'creditgy_agegroup', \n",
    "               'creditgy_agegroup2', 'creditgy_occ', 'przm_num_refurb', 'przm_num_webcap', \n",
    "               'przm_num_mailord', 'przm_num_travel', 'przm_num_dropblk', 'przm_num_dropvce', \n",
    "               'przm_num_roam_range', 'refurb_webcap', 'refurb_mailord', 'refurb_travel', \n",
    "               'refurb_models', 'refurb_dropblk', 'refurb_dropvce', 'refurb_custcare', \n",
    "               'refurb_retcalls', 'refurb_retcall', 'webcap_mailord', 'webcap_travel', \n",
    "               'webcap_agegroup', 'webcap_agegroup2', 'webcap_income', 'webcap_setprc', \n",
    "               'webcap_retcall', 'mailord_travel', 'mailord_mailres', 'mailord_mailflag', \n",
    "               'mailord_agegroup', 'mailord_agegroup2', 'travel_roaming_range', 'travel_income', \n",
    "               'travel_occ', 'travel_marry', 'csa', 'children', 'credita', 'creditaa', 'creditb', \n",
    "               'creditc', 'creditde', 'creditgy', 'creditz', 'credit_rating', 'prizmrur', 'prizmub', \n",
    "               'prizmtwn', 'przm_num', 'refurb', 'webcap', 'truck', 'rv', 'occprof', 'occcler', \n",
    "               'occcrft', 'occstud', 'occhmkr', 'occret', 'occself', 'occ', 'occ_label', 'ownrent', \n",
    "               'marryun', 'marryyes', 'marryno', 'marry', 'marry_label', 'mailord', 'mailres', \n",
    "               'mailflag', 'travel', 'pcown', 'creditcd', 'newcelly', 'newcelln', 'incmiss', \n",
    "               'income', 'mcycle', 'creditad', 'setprcm', 'retcall', 'age_group', \n",
    "               'age_group2', 'roaming_range', 'revenue', 'mou', 'recchrge', 'directas', \n",
    "               'overage', 'roam', 'changem', 'changer', 'dropvce', 'blckvce', 'unansvce', \n",
    "               'custcare', 'threeway', 'mourec', 'outcalls', 'incalls', 'peakvce', 'opeakvce', \n",
    "               'dropblk', 'callfwdv', 'callwait', 'months', 'uniqsubs', 'actvsubs', 'phones', \n",
    "               'models', 'eqpdays', 'customer', 'age1', 'age2', 'retcalls', 'retaccpt', 'refer', \n",
    "               'setprc']\n",
    "for var in testColumns:\n",
    "    cT.TestIndependence(colX=var,colY=\"churn\" )"
   ]
  },
  {
   "cell_type": "code",
   "execution_count": 61,
   "metadata": {},
   "outputs": [],
   "source": [
    "df1 = df[['age_group', 'months_creditgy', 'months_przm_num', 'months_refurb', 'months_webcap', \n",
    "          'months_models', 'creditgy_przm_num', 'creditgy_refurb', 'creditgy_webcap', \n",
    "          'creditgy_mailord', 'creditgy_travel', 'przm_num_refurb', 'przm_num_webcap', \n",
    "          'przm_num_mailord', 'refurb_webcap', 'refurb_mailord', 'refurb_travel', \n",
    "          'refurb_models', 'refurb_retcalls', 'refurb_retcall', 'webcap_mailord', \n",
    "          'webcap_travel', 'webcap_setprc', 'webcap_retcall', 'mailord_mailres', \n",
    "          'creditgy', 'przm_num', 'refurb', 'webcap', 'mailord', 'travel', \n",
    "          'months','churn']]"
   ]
  },
  {
   "cell_type": "code",
   "execution_count": 62,
   "metadata": {
    "scrolled": true
   },
   "outputs": [],
   "source": [
    "#df1.to_csv(r'celldata_to_visualize.csv', index=False)"
   ]
  },
  {
   "cell_type": "code",
   "execution_count": 63,
   "metadata": {},
   "outputs": [
    {
     "name": "stdout",
     "output_type": "stream",
     "text": [
      "Objects Index(['months_mou', 'months_creditgy', 'months_przm_num', 'months_refurb',\n",
      "       'months_webcap', 'months_mailord', 'months_travel', 'months_models',\n",
      "       'months_agegroup', 'months_agegroup2', 'creditgy_przm_num',\n",
      "       'creditgy_refurb', 'creditgy_webcap', 'creditgy_mailord',\n",
      "       'creditgy_travel', 'creditgy_income', 'creditgy_agegroup',\n",
      "       'creditgy_agegroup2', 'creditgy_occ', 'przm_num_refurb',\n",
      "       'przm_num_webcap', 'przm_num_mailord', 'przm_num_travel',\n",
      "       'przm_num_dropblk', 'przm_num_dropvce', 'przm_num_roam_range',\n",
      "       'refurb_webcap', 'refurb_mailord', 'refurb_travel', 'refurb_models',\n",
      "       'refurb_dropblk', 'refurb_dropvce', 'refurb_custcare',\n",
      "       'refurb_retcalls', 'refurb_retcall', 'webcap_mailord', 'webcap_travel',\n",
      "       'webcap_agegroup', 'webcap_agegroup2', 'webcap_income', 'webcap_setprc',\n",
      "       'webcap_retcall', 'mailord_travel', 'mailord_mailres',\n",
      "       'mailord_mailflag', 'mailord_agegroup', 'mailord_agegroup2',\n",
      "       'travel_roaming_range', 'travel_income', 'travel_occ', 'travel_marry'],\n",
      "      dtype='object')\n",
      "\n",
      "NonObjects Index(['churn', 'csa', 'children', 'credita', 'creditaa', 'creditb', 'creditc',\n",
      "       'creditde', 'creditgy', 'creditz', 'credit_rating', 'prizmrur',\n",
      "       'prizmub', 'prizmtwn', 'przm_num', 'refurb', 'webcap', 'truck', 'rv',\n",
      "       'occprof', 'occcler', 'occcrft', 'occstud', 'occhmkr', 'occret',\n",
      "       'occself', 'occ', 'occ_label', 'ownrent', 'marryun', 'marryyes',\n",
      "       'marryno', 'marry', 'marry_label', 'mailord', 'mailres', 'mailflag',\n",
      "       'travel', 'pcown', 'creditcd', 'newcelly', 'newcelln', 'incmiss',\n",
      "       'income', 'mcycle', 'creditad', 'setprcm', 'retcall', 'age_group',\n",
      "       'age_group2', 'roaming_range', 'revenue', 'mou', 'recchrge', 'directas',\n",
      "       'overage', 'roam', 'changem', 'changer', 'dropvce', 'blckvce',\n",
      "       'unansvce', 'custcare', 'threeway', 'mourec', 'outcalls', 'incalls',\n",
      "       'peakvce', 'opeakvce', 'dropblk', 'callfwdv', 'callwait', 'months',\n",
      "       'uniqsubs', 'actvsubs', 'phones', 'models', 'eqpdays', 'customer',\n",
      "       'age1', 'age2', 'retcalls', 'retaccpt', 'refer', 'setprc'],\n",
      "      dtype='object')\n",
      "(134, 136)\n",
      "(134, 51)\n",
      "(134, 85)\n"
     ]
    }
   ],
   "source": [
    "#separate dtypes\n",
    "notif=df.select_dtypes(exclude=['int','float','int64'])\n",
    "intfldtypes = df.select_dtypes(include=['int','float','int64'])\n",
    "print('Objects',notif.columns)\n",
    "print(\"\\nNonObjects\",intfldtypes.columns)\n",
    "\n",
    "#checking to make sure all are accounted for\n",
    "print(df.shape)\n",
    "print(notif.shape)\n",
    "print(intfldtypes.shape)"
   ]
  },
  {
   "cell_type": "code",
   "execution_count": 64,
   "metadata": {},
   "outputs": [
    {
     "name": "stdout",
     "output_type": "stream",
     "text": [
      "(134, 136)\n"
     ]
    }
   ],
   "source": [
    "#label encode objects\n",
    "obj_le= notif.apply(LabelEncoder().fit_transform)\n",
    "#re-add with non-objects\n",
    "df_pred= pd.concat([obj_le,intfldtypes], axis=1, sort=False)\n",
    "#check shape\n",
    "print(df_pred.shape)"
   ]
  },
  {
   "cell_type": "code",
   "execution_count": 65,
   "metadata": {},
   "outputs": [
    {
     "data": {
      "text/plain": [
       "1     25\n",
       "0    109\n",
       "Name: churn, dtype: int64"
      ]
     },
     "execution_count": 65,
     "metadata": {},
     "output_type": "execute_result"
    }
   ],
   "source": [
    "df_pred.churn.value_counts(ascending=True)"
   ]
  },
  {
   "cell_type": "code",
   "execution_count": 66,
   "metadata": {},
   "outputs": [],
   "source": [
    "df_pred.to_csv(r'verificationdataset.csv',index=False)"
   ]
  }
 ],
 "metadata": {
  "kernelspec": {
   "display_name": "Python 3",
   "language": "python",
   "name": "python3"
  },
  "language_info": {
   "codemirror_mode": {
    "name": "ipython",
    "version": 3
   },
   "file_extension": ".py",
   "mimetype": "text/x-python",
   "name": "python",
   "nbconvert_exporter": "python",
   "pygments_lexer": "ipython3",
   "version": "3.8.5"
  }
 },
 "nbformat": 4,
 "nbformat_minor": 4
}
